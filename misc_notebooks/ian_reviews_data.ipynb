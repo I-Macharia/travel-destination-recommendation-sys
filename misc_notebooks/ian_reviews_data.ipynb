{
 "cells": [
  {
   "cell_type": "code",
   "execution_count": 1,
   "metadata": {},
   "outputs": [],
   "source": [
    "# Importing necessary libraries\n",
    "import pandas as pd\n",
    "import numpy as np\n",
    "\n",
    "import json\n",
    "import glob\n",
    "import re\n",
    "import pickle\n",
    "\n",
    "import matplotlib.pyplot as plt\n",
    "import seaborn as sns\n",
    "import plotly.express as px\n",
    "import plotly.graph_objects as go\n",
    "\n",
    "from sklearn.preprocessing import StandardScaler, normalize\n",
    "from sklearn.feature_extraction.text import TfidfVectorizer\n",
    "from sklearn.metrics import r2_score\n",
    "from sklearn.model_selection import GridSearchCV\n",
    "from sklearn.svm import SVC\n",
    "\n",
    "from sklearn.metrics.pairwise import linear_kernel\n",
    "from sklearn.feature_extraction.text import CountVectorizer\n",
    "from sklearn.metrics.pairwise import cosine_similarity\n",
    "from sklearn.metrics import PrecisionRecallDisplay, mean_squared_error, precision_recall_fscore_support, precision_recall_curve\n",
    "from sklearn.pipeline import Pipeline\n",
    "\n",
    "from wordcloud import WordCloud\n",
    "from nltk import PorterStemmer\n",
    "\n",
    "from surprise import Dataset, Reader, KNNBasic, SVD, NMF, KNNWithMeans, SVDpp\n",
    "from surprise.model_selection import train_test_split, GridSearchCV\n",
    "from surprise import accuracy as sup_accuracy\n",
    "from surprise import SVDpp\n",
    "from surprise.model_selection import GridSearchCV\n",
    "\n",
    "\n",
    "\n",
    "import warnings\n",
    "# Ignore future deprecation warnings\n",
    "warnings.filterwarnings(\"ignore\", category=FutureWarning)\n",
    "warnings.filterwarnings('ignore', category=UserWarning, module='IPython')\n"
   ]
  },
  {
   "cell_type": "code",
   "execution_count": 2,
   "metadata": {},
   "outputs": [],
   "source": [
    "#reviews = pd.read_csv(r\"..\\Data\\.reviews_data.csv\")\n",
    "#reviews"
   ]
  },
  {
   "cell_type": "code",
   "execution_count": 3,
   "metadata": {},
   "outputs": [],
   "source": [
    "# Rename the column at a specific index\n",
    "#reviews.rename(columns={reviews.columns[0]: 'userId'}, inplace=True)\n"
   ]
  },
  {
   "cell_type": "code",
   "execution_count": 4,
   "metadata": {},
   "outputs": [],
   "source": [
    "#reviews = reviews[['userId', 'placeid', 'rating', 'text', 'placeInfo' ]]\n",
    "#reviews"
   ]
  },
  {
   "cell_type": "code",
   "execution_count": 5,
   "metadata": {},
   "outputs": [],
   "source": [
    "# Split the dictionary-like item into separate columns\n",
    "#item_info = reviews['placeInfo'].apply(lambda x: pd.Series(eval(x)))\n",
    "#item_info.drop(columns='id', inplace=True)\n",
    "\n",
    "# Concatenate the new columns with the original DataFrame\n",
    "#reviews = pd.concat([reviews, item_info], axis=1)\n",
    "#reviews.head()"
   ]
  },
  {
   "cell_type": "code",
   "execution_count": 6,
   "metadata": {},
   "outputs": [],
   "source": [
    "\n",
    "# Split the dictionary-like item into separate columns\n",
    "#address_info = reviews['addressObj'].apply(pd.Series)\n",
    "\n",
    "\n",
    "# Concatenate the new columns with the original DataFrame\n",
    "#reviews = pd.concat([reviews, address_info], axis=1)\n",
    "#reviews.head()\n"
   ]
  },
  {
   "cell_type": "code",
   "execution_count": 7,
   "metadata": {},
   "outputs": [],
   "source": [
    "# Calculate the percentage of NaN values in each column\n",
    "#nan_percentage = reviews.isnull().sum() / len(reviews) * 100\n",
    "\n",
    "# Define a threshold for excluding columns with a high percentage of NaN values\n",
    "#nan_threshold = 50  # Adjust this value as needed\n",
    "\n",
    "# Exclude columns with a high percentage of NaN values\n",
    "#cleaned_dataset = reviews.dropna(thresh=len(reviews) - nan_threshold, axis=1)\n"
   ]
  },
  {
   "cell_type": "code",
   "execution_count": 8,
   "metadata": {},
   "outputs": [],
   "source": [
    "# Remove rows with NaN variables\n",
    "#reviews = reviews.dropna()\n",
    "#reviews.drop(columns=['placeInfo', 'addressObj'], inplace=True)\n",
    "\n",
    "# Set the desired sample size\n",
    "#sample_size = 5000\n",
    "\n",
    "# Perform random sampling\n",
    "#random_sample = reviews.sample(n=sample_size, random_state=42)"
   ]
  },
  {
   "cell_type": "code",
   "execution_count": 9,
   "metadata": {},
   "outputs": [
    {
     "data": {
      "text/html": [
       "<div>\n",
       "<style scoped>\n",
       "    .dataframe tbody tr th:only-of-type {\n",
       "        vertical-align: middle;\n",
       "    }\n",
       "\n",
       "    .dataframe tbody tr th {\n",
       "        vertical-align: top;\n",
       "    }\n",
       "\n",
       "    .dataframe thead th {\n",
       "        text-align: right;\n",
       "    }\n",
       "</style>\n",
       "<table border=\"1\" class=\"dataframe\">\n",
       "  <thead>\n",
       "    <tr style=\"text-align: right;\">\n",
       "      <th></th>\n",
       "      <th>id</th>\n",
       "      <th>userId</th>\n",
       "      <th>placeid</th>\n",
       "      <th>rating</th>\n",
       "      <th>lang</th>\n",
       "      <th>text</th>\n",
       "    </tr>\n",
       "  </thead>\n",
       "  <tbody>\n",
       "    <tr>\n",
       "      <th>0</th>\n",
       "      <td>863480416</td>\n",
       "      <td>A87669AAD9DA05FFBD46F1334B329FFD</td>\n",
       "      <td>2189822</td>\n",
       "      <td>5</td>\n",
       "      <td>en</td>\n",
       "      <td>Gee is a passionate tour guide. The  animals a...</td>\n",
       "    </tr>\n",
       "    <tr>\n",
       "      <th>1</th>\n",
       "      <td>856328161</td>\n",
       "      <td>9FFED7DDC68883BBB8F4024333970E9A</td>\n",
       "      <td>2189822</td>\n",
       "      <td>5</td>\n",
       "      <td>en</td>\n",
       "      <td>Lots to see. Easy to get to from the Safari Lo...</td>\n",
       "    </tr>\n",
       "    <tr>\n",
       "      <th>2</th>\n",
       "      <td>847451595</td>\n",
       "      <td>B5E56A483B579518DDD82A3DA0E94487</td>\n",
       "      <td>2189822</td>\n",
       "      <td>4</td>\n",
       "      <td>en</td>\n",
       "      <td>a kind of a zoo for injured and saved animals ...</td>\n",
       "    </tr>\n",
       "    <tr>\n",
       "      <th>3</th>\n",
       "      <td>731343195</td>\n",
       "      <td>882D0A6C7152105BB0D83C84F3CB160D</td>\n",
       "      <td>2189822</td>\n",
       "      <td>5</td>\n",
       "      <td>en</td>\n",
       "      <td>They do great rehabilitating injured animals. ...</td>\n",
       "    </tr>\n",
       "    <tr>\n",
       "      <th>4</th>\n",
       "      <td>720927932</td>\n",
       "      <td>203EBC7F3F51AAAA39A87D2E58842C76</td>\n",
       "      <td>2189822</td>\n",
       "      <td>5</td>\n",
       "      <td>en</td>\n",
       "      <td>We took the guided tour from Isaac, who was gr...</td>\n",
       "    </tr>\n",
       "  </tbody>\n",
       "</table>\n",
       "</div>"
      ],
      "text/plain": [
       "          id                            userId  placeid  rating lang  \\\n",
       "0  863480416  A87669AAD9DA05FFBD46F1334B329FFD  2189822       5   en   \n",
       "1  856328161  9FFED7DDC68883BBB8F4024333970E9A  2189822       5   en   \n",
       "2  847451595  B5E56A483B579518DDD82A3DA0E94487  2189822       4   en   \n",
       "3  731343195  882D0A6C7152105BB0D83C84F3CB160D  2189822       5   en   \n",
       "4  720927932  203EBC7F3F51AAAA39A87D2E58842C76  2189822       5   en   \n",
       "\n",
       "                                                text  \n",
       "0  Gee is a passionate tour guide. The  animals a...  \n",
       "1  Lots to see. Easy to get to from the Safari Lo...  \n",
       "2  a kind of a zoo for injured and saved animals ...  \n",
       "3  They do great rehabilitating injured animals. ...  \n",
       "4  We took the guided tour from Isaac, who was gr...  "
      ]
     },
     "execution_count": 9,
     "metadata": {},
     "output_type": "execute_result"
    }
   ],
   "source": [
    "model_data = pd.read_csv(r\"..\\Data\\reviews.csv\")\n",
    "model_data.head()"
   ]
  },
  {
   "cell_type": "code",
   "execution_count": 10,
   "metadata": {},
   "outputs": [
    {
     "name": "stdout",
     "output_type": "stream",
     "text": [
      "Columns to plot: Index(['id', 'placeid', 'rating'], dtype='object')\n"
     ]
    },
    {
     "data": {
      "image/png": "[encoded data removed]",
      "text/plain": [
       "<Figure size 2500x1200 with 4 Axes>"
      ]
     },
     "metadata": {},
     "output_type": "display_data"
    }
   ],
   "source": [
    "# Histogram plots for each data\n",
    "# Select the numerical variables to plot\n",
    "num_cols_to_plot = model_data.select_dtypes(include=['int64', 'float64']).columns.drop([])\n",
    "print(\"Columns to plot:\",num_cols_to_plot )\n",
    "# Create a histogram for each variable\n",
    "model_data[num_cols_to_plot].hist(figsize=(25, 12))\n",
    "#plt.savefig('../Data/images/Columnstoplot')\n",
    "plt.show()"
   ]
  },
  {
   "cell_type": "code",
   "execution_count": 11,
   "metadata": {},
   "outputs": [
    {
     "data": {
      "image/png": "[encoded data removed]",
      "text/plain": [
       "<Figure size 1600x1600 with 2 Axes>"
      ]
     },
     "metadata": {},
     "output_type": "display_data"
    }
   ],
   "source": [
    "## Multicollinearity\n",
    "\n",
    "# Create a correlation matrix\n",
    "corr_matrix = model_data.corr()\n",
    "# Create a fig size\n",
    "plt.figure(figsize=(16, 16))\n",
    "# Create a mask to show only the lower triangle\n",
    "mask = np.zeros_like(corr_matrix, dtype=bool)\n",
    "mask[np.triu_indices_from(mask)] = True\n",
    "# Plot the heatmap with the lower triangle mask applied\n",
    "sns.heatmap(corr_matrix, mask=mask, cmap='magma', center=0, annot=True)\n",
    "# Show the plot\n",
    "plt.show();\n",
    "# Save figure\n",
    "#plt.savefig('../Data/images/multicollinearity.png')"
   ]
  },
  {
   "cell_type": "code",
   "execution_count": 12,
   "metadata": {},
   "outputs": [
    {
     "name": "stdout",
     "output_type": "stream",
     "text": [
      "RMSE: 0.7513\n"
     ]
    }
   ],
   "source": [
    "# Load the data into Surprise Dataset format\n",
    "reader = Reader(rating_scale=(1, 5))\n",
    "data = Dataset.load_from_df(model_data[['id', 'placeid', 'rating']], reader)\n",
    "\n",
    "# Split the data into train and test sets\n",
    "trainset, testset = train_test_split(data, test_size=0.2, random_state=42)\n",
    "\n",
    "# Train the model\n",
    "model = SVD(random_state=42)\n",
    "model.fit(trainset)\n",
    "\n",
    "# Evaluate the model\n",
    "predictions = model.test(testset)\n",
    "accuracy = sup_accuracy.rmse(predictions)\n"
   ]
  },
  {
   "cell_type": "markdown",
   "metadata": {},
   "source": [
    "The RMSE (Root Mean Squared Error) value of 0.7513 indicates the average prediction error of the model on the test set. A lower RMSE value indicates better accuracy of the model's predictions.\n",
    "\n",
    "In the context of collaborative filtering recommendation systems, the RMSE represents how well the model is able to predict user ratings for items. A lower RMSE implies that the model is better at predicting user preferences and provides more accurate recommendations.\n",
    "\n",
    "RMSE of 0.7513 suggests that the model has reasonably good predictive performance. as can be observed below."
   ]
  },
  {
   "cell_type": "code",
   "execution_count": 13,
   "metadata": {},
   "outputs": [
    {
     "name": "stdout",
     "output_type": "stream",
     "text": [
      "Precision: 0.97\n",
      "Recall: 1.00\n"
     ]
    }
   ],
   "source": [
    "threshold = 3  # Define the threshold for positive predictions\n",
    "\n",
    "true_positives = 0\n",
    "false_positives = 0\n",
    "false_negatives = 0\n",
    "\n",
    "for prediction in predictions:\n",
    "    if prediction.est >= threshold:\n",
    "        if prediction.r_ui >= threshold:\n",
    "            true_positives += 1\n",
    "        else:\n",
    "            false_positives += 1\n",
    "    elif prediction.r_ui >= threshold:\n",
    "        false_negatives += 1\n",
    "\n",
    "precision = true_positives / (true_positives + false_positives)\n",
    "recall = true_positives / (true_positives + false_negatives)\n",
    "\n",
    "print(f\"Precision: {precision:.2f}\")\n",
    "print(f\"Recall: {recall:.2f}\")\n"
   ]
  },
  {
   "cell_type": "code",
   "execution_count": 14,
   "metadata": {},
   "outputs": [
    {
     "name": "stdout",
     "output_type": "stream",
     "text": [
      "RMSE: 0.8497\n",
      "MAE:  0.6643\n",
      "Precision: 1.00\n",
      "Recall: 1.00\n"
     ]
    }
   ],
   "source": [
    "# Load the data into Surprise Dataset format\n",
    "reader = Reader(rating_scale=(1, 5))\n",
    "data = Dataset.load_from_df(model_data[['id', 'placeid', 'rating']], reader)\n",
    "\n",
    "# Split the data into train and test sets\n",
    "trainset, testset = train_test_split(data, test_size=0.2, random_state=42)\n",
    "\n",
    "# Train the model\n",
    "model2 = NMF(random_state=42)\n",
    "model2.fit(trainset)\n",
    "\n",
    "# Evaluate the model\n",
    "predictions2 = model2.test(testset)\n",
    "accuracy2 = sup_accuracy.rmse(predictions2)\n",
    "mae2 = sup_accuracy.mae(predictions2)\n",
    "\n",
    "threshold = 1  # Define the threshold for positive predictions\n",
    "\n",
    "true_positives = 0\n",
    "false_positives = 0\n",
    "false_negatives = 0\n",
    "\n",
    "for prediction in predictions2:\n",
    "    if prediction.est >= threshold:\n",
    "        if prediction.r_ui >= threshold:\n",
    "            true_positives += 1\n",
    "        else:\n",
    "            false_positives += 1\n",
    "    elif prediction.r_ui >= threshold:\n",
    "        false_negatives += 1\n",
    "\n",
    "precision2 = true_positives / (true_positives + false_positives)\n",
    "recall2 = true_positives / (true_positives + false_negatives)\n",
    "\n",
    "print(f\"Precision: {precision2:.2f}\")\n",
    "print(f\"Recall: {recall2:.2f}\")"
   ]
  },
  {
   "cell_type": "code",
   "execution_count": 15,
   "metadata": {},
   "outputs": [
    {
     "name": "stdout",
     "output_type": "stream",
     "text": [
      "RMSE: 0.7616\n",
      "MAE:  0.5253\n",
      "R-squared: 0.19655916134101215\n"
     ]
    }
   ],
   "source": [
    "# Load the data into Surprise Dataset format\n",
    "reader = Reader(rating_scale=(1, 5))\n",
    "data = Dataset.load_from_df(model_data[['id', 'placeid', 'rating']], reader)\n",
    "\n",
    "# Split the data into train and test sets\n",
    "trainset, testset = train_test_split(data, test_size=0.2, random_state=42)\n",
    "\n",
    "# Define the item-based collaborative filtering model\n",
    "model3 = SVDpp(random_state=42)\n",
    "\n",
    "# Train the model\n",
    "model3.fit(trainset)\n",
    "\n",
    "# Make predictions on the test set\n",
    "predictions3 = model3.test(testset)\n",
    "\n",
    "# Evaluate the model using RMSE\n",
    "rmse_score3 = sup_accuracy.rmse(predictions3)\n",
    "mae3 = sup_accuracy.mae(predictions3)\n",
    "\n",
    "# Extract the actual ratings and predicted ratings from the predictions\n",
    "actual_ratings3 = [pred.r_ui for pred in predictions3]\n",
    "predicted_ratings3 = [pred.est for pred in predictions3]\n",
    "\n",
    "# Calculate the R-squared value\n",
    "r_squared3 = r2_score(actual_ratings3, predicted_ratings3)\n",
    "print(\"R-squared:\", r_squared3) "
   ]
  },
  {
   "cell_type": "code",
   "execution_count": 16,
   "metadata": {},
   "outputs": [
    {
     "data": {
      "text/plain": [
       "Index(['id', 'userId', 'placeid', 'rating', 'lang', 'text'], dtype='object')"
      ]
     },
     "execution_count": 16,
     "metadata": {},
     "output_type": "execute_result"
    }
   ],
   "source": [
    "model_data.columns"
   ]
  },
  {
   "cell_type": "code",
   "execution_count": 17,
   "metadata": {},
   "outputs": [
    {
     "name": "stderr",
     "output_type": "stream",
     "text": [
      "C:\\Users\\BobbyBob\\AppData\\Local\\Temp\\ipykernel_9876\\3832156891.py:5: SettingWithCopyWarning: \n",
      "A value is trying to be set on a copy of a slice from a DataFrame.\n",
      "Try using .loc[row_indexer,col_indexer] = value instead\n",
      "\n",
      "See the caveats in the documentation: https://pandas.pydata.org/pandas-docs/stable/user_guide/indexing.html#returning-a-view-versus-a-copy\n",
      "  scaled_data[['id', 'placeid', 'rating']] = scaler.fit_transform(scaled_data[[ 'id', 'placeid', 'rating']])\n"
     ]
    },
    {
     "data": {
      "text/html": [
       "<div>\n",
       "<style scoped>\n",
       "    .dataframe tbody tr th:only-of-type {\n",
       "        vertical-align: middle;\n",
       "    }\n",
       "\n",
       "    .dataframe tbody tr th {\n",
       "        vertical-align: top;\n",
       "    }\n",
       "\n",
       "    .dataframe thead th {\n",
       "        text-align: right;\n",
       "    }\n",
       "</style>\n",
       "<table border=\"1\" class=\"dataframe\">\n",
       "  <thead>\n",
       "    <tr style=\"text-align: right;\">\n",
       "      <th></th>\n",
       "      <th>id</th>\n",
       "      <th>placeid</th>\n",
       "      <th>rating</th>\n",
       "    </tr>\n",
       "  </thead>\n",
       "  <tbody>\n",
       "    <tr>\n",
       "      <th>0</th>\n",
       "      <td>0.958014</td>\n",
       "      <td>0.072206</td>\n",
       "      <td>1.00</td>\n",
       "    </tr>\n",
       "    <tr>\n",
       "      <th>1</th>\n",
       "      <td>0.950050</td>\n",
       "      <td>0.072206</td>\n",
       "      <td>1.00</td>\n",
       "    </tr>\n",
       "    <tr>\n",
       "      <th>2</th>\n",
       "      <td>0.940166</td>\n",
       "      <td>0.072206</td>\n",
       "      <td>0.75</td>\n",
       "    </tr>\n",
       "    <tr>\n",
       "      <th>3</th>\n",
       "      <td>0.810881</td>\n",
       "      <td>0.072206</td>\n",
       "      <td>1.00</td>\n",
       "    </tr>\n",
       "    <tr>\n",
       "      <th>4</th>\n",
       "      <td>0.799284</td>\n",
       "      <td>0.072206</td>\n",
       "      <td>1.00</td>\n",
       "    </tr>\n",
       "    <tr>\n",
       "      <th>...</th>\n",
       "      <td>...</td>\n",
       "      <td>...</td>\n",
       "      <td>...</td>\n",
       "    </tr>\n",
       "    <tr>\n",
       "      <th>78671</th>\n",
       "      <td>0.172030</td>\n",
       "      <td>0.092596</td>\n",
       "      <td>1.00</td>\n",
       "    </tr>\n",
       "    <tr>\n",
       "      <th>78672</th>\n",
       "      <td>0.147625</td>\n",
       "      <td>0.092596</td>\n",
       "      <td>1.00</td>\n",
       "    </tr>\n",
       "    <tr>\n",
       "      <th>78673</th>\n",
       "      <td>0.140697</td>\n",
       "      <td>0.092596</td>\n",
       "      <td>0.75</td>\n",
       "    </tr>\n",
       "    <tr>\n",
       "      <th>78674</th>\n",
       "      <td>0.365516</td>\n",
       "      <td>0.092596</td>\n",
       "      <td>0.75</td>\n",
       "    </tr>\n",
       "    <tr>\n",
       "      <th>78675</th>\n",
       "      <td>0.247417</td>\n",
       "      <td>0.092596</td>\n",
       "      <td>0.50</td>\n",
       "    </tr>\n",
       "  </tbody>\n",
       "</table>\n",
       "<p>78676 rows × 3 columns</p>\n",
       "</div>"
      ],
      "text/plain": [
       "             id   placeid  rating\n",
       "0      0.958014  0.072206    1.00\n",
       "1      0.950050  0.072206    1.00\n",
       "2      0.940166  0.072206    0.75\n",
       "3      0.810881  0.072206    1.00\n",
       "4      0.799284  0.072206    1.00\n",
       "...         ...       ...     ...\n",
       "78671  0.172030  0.092596    1.00\n",
       "78672  0.147625  0.092596    1.00\n",
       "78673  0.140697  0.092596    0.75\n",
       "78674  0.365516  0.092596    0.75\n",
       "78675  0.247417  0.092596    0.50\n",
       "\n",
       "[78676 rows x 3 columns]"
      ]
     },
     "execution_count": 17,
     "metadata": {},
     "output_type": "execute_result"
    }
   ],
   "source": [
    "from sklearn.preprocessing import MinMaxScaler\n",
    "scaled_data = model_data[[ 'id', 'placeid', 'rating']]\n",
    "# Apply MinMaxScaler to 'rating' and 'Rank' columns\n",
    "scaler = MinMaxScaler()\n",
    "scaled_data[['id', 'placeid', 'rating']] = scaler.fit_transform(scaled_data[[ 'id', 'placeid', 'rating']])\n",
    "\n",
    "scaled_data[[ 'id', 'placeid', 'rating']]"
   ]
  },
  {
   "cell_type": "code",
   "execution_count": 18,
   "metadata": {},
   "outputs": [
    {
     "name": "stdout",
     "output_type": "stream",
     "text": [
      "RMSE: 0.2461\n",
      "MAE:  0.1242\n"
     ]
    }
   ],
   "source": [
    "# Load the data into Surprise Dataset format\n",
    "reader = Reader(rating_scale=(1, 5))\n",
    "data = Dataset.load_from_df(scaled_data[['id', 'placeid', 'rating']], reader)\n",
    "\n",
    "# Split the data into train and test sets\n",
    "trainset, testset = train_test_split(data, test_size=0.2, random_state=42)\n",
    "\n",
    "# Train the model\n",
    "model4 = SVD(random_state=42)\n",
    "model4.fit(trainset)\n",
    "\n",
    "# Evaluate the model\n",
    "predictions4 = model4.test(testset)\n",
    "accuracy4 = sup_accuracy.rmse(predictions4)\n",
    "mae4 = sup_accuracy.mae(predictions4)\n",
    "\n"
   ]
  },
  {
   "cell_type": "markdown",
   "metadata": {},
   "source": [
    "Root Mean Squared Error (RMSE): The RMSE value of 0.2461 indicates the average difference between the predicted ratings and the actual ratings in the test set. A lower RMSE value indicates better accuracy.\n",
    "\n",
    "Mean Absolute Error (MAE): The MAE value of 0.1242 represents the average absolute difference between the predicted ratings and the actual ratings. Similar to RMSE, a lower MAE value indicates better accuracy.\n",
    "\n",
    "These metrics suggest that the model performs reasonably well in predicting the ratings, as both the RMSE and MAE values are relatively low."
   ]
  },
  {
   "cell_type": "code",
   "execution_count": 19,
   "metadata": {},
   "outputs": [
    {
     "name": "stdout",
     "output_type": "stream",
     "text": [
      "RMSE: 0.2461\n",
      "MAE:  0.1242\n"
     ]
    }
   ],
   "source": [
    "# Load the data into Surprise Dataset format\n",
    "reader = Reader(rating_scale=(1, 5))\n",
    "data = Dataset.load_from_df(scaled_data[['id', 'placeid', 'rating']], reader)\n",
    "\n",
    "# Split the data into train and test sets\n",
    "trainset, testset = train_test_split(data, test_size=0.2, random_state=42)\n",
    "\n",
    "# Train the model\n",
    "model5 = NMF(random_state=42)\n",
    "model5.fit(trainset)\n",
    "\n",
    "# Evaluate the model\n",
    "predictions5 = model5.test(testset)\n",
    "accuracy5 = sup_accuracy.rmse(predictions5)\n",
    "mae5 = sup_accuracy.mae(predictions5)"
   ]
  },
  {
   "cell_type": "code",
   "execution_count": 23,
   "metadata": {},
   "outputs": [],
   "source": [
    "from collections import defaultdict\n",
    "\n",
    "def calculate_precision_recall(predictions, threshold):\n",
    "    true_positives = 0\n",
    "    false_positives = 0\n",
    "    false_negatives = 0\n",
    "\n",
    "    for prediction in predictions:\n",
    "        if prediction.r_ui < threshold:\n",
    "            false_positives += 1\n",
    "        elif prediction.r_ui >= threshold:\n",
    "            true_positives += 1\n",
    "        else:\n",
    "            false_negatives += 1\n",
    "\n",
    "    precision = 0.0\n",
    "    recall = 0.0\n",
    "\n",
    "    if (true_positives + false_positives) != 0:\n",
    "        precision = true_positives / (true_positives + false_positives)\n",
    "\n",
    "    if (true_positives + false_negatives) != 0:\n",
    "        recall = true_positives / (true_positives + false_negatives)\n",
    "\n",
    "    return precision, recall\n",
    "\n",
    "\n",
    "#def calculate_topn_hit_rate(predictions, topn):\n",
    "    #total_users = len({pred.uid for pred in predictions})\n",
    "    #topn_hits = 0\n",
    "\n",
    "    #user_ratings = defaultdict(list)\n",
    "    #for pred in predictions:\n",
    "       # user_ratings[pred.uid].append((pred.iid, pred.est))\n",
    "\n",
    "    #for uid, ratings in user_ratings.items():\n",
    "       # ratings.sort(key=lambda x: x[1], reverse=True)\n",
    "        #topn_predictions = [iid for (iid, _) in ratings[:topn]]\n",
    "       # if uid in topn_predictions:\n",
    "        #    topn_hits += 1\n",
    "\n",
    "    #return topn_hits / total_users\n",
    "\n",
    "def evaluate_prediction_sets(prediction_sets, threshold):\n",
    "    for predictions, name in prediction_sets:\n",
    "        precision, recall = calculate_precision_recall(predictions, threshold)\n",
    "        #hit_rate = calculate_topn_hit_rate(predictions, topn)\n",
    "        \n",
    "        print(\"Results for\", name)\n",
    "        print(f\"Precision: {precision:.2f}\")\n",
    "        print(f\"Recall: {recall:.2f}\")\n",
    "        #print(f\"Top-{topn} Hit Rate: {hit_rate:.2f}\")\n",
    "        print()\n"
   ]
  },
  {
   "cell_type": "code",
   "execution_count": 24,
   "metadata": {},
   "outputs": [
    {
     "name": "stdout",
     "output_type": "stream",
     "text": [
      "Results for Predictions 1\n",
      "Precision: 1.00\n",
      "Recall: 1.00\n",
      "\n",
      "Results for Predictions 2\n",
      "Precision: 1.00\n",
      "Recall: 1.00\n",
      "\n",
      "Results for Predictions 3\n",
      "Precision: 1.00\n",
      "Recall: 1.00\n",
      "\n",
      "Results for Predictions 4\n",
      "Precision: 0.67\n",
      "Recall: 1.00\n",
      "\n",
      "Results for Predictions 5\n",
      "Precision: 0.67\n",
      "Recall: 1.00\n",
      "\n"
     ]
    }
   ],
   "source": [
    "# Usage example\n",
    "prediction_sets = [\n",
    "    (predictions, \"Predictions 1\"),\n",
    "    (predictions2, \"Predictions 2\"),\n",
    "    (predictions3, \"Predictions 3\"),\n",
    "    (predictions4, \"Predictions 4\"),\n",
    "    (predictions5, \"Predictions 5\"),\n",
    "    #(predictions6, \"Predictions 6\"),\n",
    "    #(predictions7, \"Predictions 7\"),\n",
    "    #(predictions6, \"Predictions 8\"),\n",
    "    #(predictions6, \"Predictions 9\"),\n",
    "    #(predictions6, \"Predictions 10\"),\n",
    "    #(predictions6, \"Predictions 11\"),\n",
    "]\n",
    "\n",
    "threshold = 1\n",
    "#topn = 2\n",
    "\n",
    "evaluate_prediction_sets(prediction_sets, threshold)"
   ]
  },
  {
   "cell_type": "markdown",
   "metadata": {},
   "source": [
    "The precision and recall values for Predictions 1, 2, and 3 are all 1.00, indicating perfect precision and recall for those sets.\n",
    "\n",
    "In the case of Predictions 4, the precision is 0.67 and the recall is 1.00. This means that the model achieved a precision of 0.67, indicating that 67% of the instances classified as positive were actually true positives. The recall value of 1.00 suggests that the model successfully identified all positive instances."
   ]
  },
  {
   "cell_type": "code",
   "execution_count": 27,
   "metadata": {},
   "outputs": [],
   "source": [
    "# Initialize CountVectorizer object with a maximum of 5000 features and English stop words.\n",
    "cv = CountVectorizer(max_features = 5000, stop_words=\"english\")\n",
    "\n",
    "# Apply CountVectorizer to the 'tags' column of the new_movies DataFrame.\n",
    "cv.fit_transform(model_data[\"text\"]).toarray()\n",
    "\n",
    "# Apply CountVectorizer again to the 'tags' column to transform the text data into an array.\n",
    "vectors = cv.fit_transform(model_data[\"text\"]).toarray()"
   ]
  },
  {
   "cell_type": "code",
   "execution_count": 28,
   "metadata": {},
   "outputs": [
    {
     "data": {
      "text/plain": [
       "array([[0, 0, 0, ..., 0, 0, 0],\n",
       "       [0, 0, 0, ..., 0, 0, 0],\n",
       "       [0, 0, 0, ..., 0, 0, 0],\n",
       "       ...,\n",
       "       [0, 1, 0, ..., 0, 0, 0],\n",
       "       [0, 0, 0, ..., 0, 0, 0],\n",
       "       [0, 0, 0, ..., 0, 0, 0]], dtype=int64)"
      ]
     },
     "execution_count": 28,
     "metadata": {},
     "output_type": "execute_result"
    }
   ],
   "source": [
    "vectors"
   ]
  },
  {
   "cell_type": "code",
   "execution_count": 30,
   "metadata": {},
   "outputs": [
    {
     "ename": "MemoryError",
     "evalue": "Unable to allocate 46.1 GiB for an array with shape (78676, 78676) and data type float64",
     "output_type": "error",
     "traceback": [
      "\u001b[1;31m---------------------------------------------------------------------------\u001b[0m",
      "\u001b[1;31mMemoryError\u001b[0m                               Traceback (most recent call last)",
      "Cell \u001b[1;32mIn[30], line 2\u001b[0m\n\u001b[0;32m      1\u001b[0m \u001b[39m# Calculate similarity matrix\u001b[39;00m\n\u001b[1;32m----> 2\u001b[0m similarity \u001b[39m=\u001b[39m cosine_similarity(vectors)\n",
      "File \u001b[1;32mc:\\Users\\BobbyBob\\anaconda3\\lib\\site-packages\\sklearn\\metrics\\pairwise.py:1401\u001b[0m, in \u001b[0;36mcosine_similarity\u001b[1;34m(X, Y, dense_output)\u001b[0m\n\u001b[0;32m   1398\u001b[0m \u001b[39melse\u001b[39;00m:\n\u001b[0;32m   1399\u001b[0m     Y_normalized \u001b[39m=\u001b[39m normalize(Y, copy\u001b[39m=\u001b[39m\u001b[39mTrue\u001b[39;00m)\n\u001b[1;32m-> 1401\u001b[0m K \u001b[39m=\u001b[39m safe_sparse_dot(X_normalized, Y_normalized\u001b[39m.\u001b[39;49mT, dense_output\u001b[39m=\u001b[39;49mdense_output)\n\u001b[0;32m   1403\u001b[0m \u001b[39mreturn\u001b[39;00m K\n",
      "File \u001b[1;32mc:\\Users\\BobbyBob\\anaconda3\\lib\\site-packages\\sklearn\\utils\\extmath.py:189\u001b[0m, in \u001b[0;36msafe_sparse_dot\u001b[1;34m(a, b, dense_output)\u001b[0m\n\u001b[0;32m    187\u001b[0m         ret \u001b[39m=\u001b[39m np\u001b[39m.\u001b[39mdot(a, b)\n\u001b[0;32m    188\u001b[0m \u001b[39melse\u001b[39;00m:\n\u001b[1;32m--> 189\u001b[0m     ret \u001b[39m=\u001b[39m a \u001b[39m@\u001b[39;49m b\n\u001b[0;32m    191\u001b[0m \u001b[39mif\u001b[39;00m (\n\u001b[0;32m    192\u001b[0m     sparse\u001b[39m.\u001b[39missparse(a)\n\u001b[0;32m    193\u001b[0m     \u001b[39mand\u001b[39;00m sparse\u001b[39m.\u001b[39missparse(b)\n\u001b[0;32m    194\u001b[0m     \u001b[39mand\u001b[39;00m dense_output\n\u001b[0;32m    195\u001b[0m     \u001b[39mand\u001b[39;00m \u001b[39mhasattr\u001b[39m(ret, \u001b[39m\"\u001b[39m\u001b[39mtoarray\u001b[39m\u001b[39m\"\u001b[39m)\n\u001b[0;32m    196\u001b[0m ):\n\u001b[0;32m    197\u001b[0m     \u001b[39mreturn\u001b[39;00m ret\u001b[39m.\u001b[39mtoarray()\n",
      "\u001b[1;31mMemoryError\u001b[0m: Unable to allocate 46.1 GiB for an array with shape (78676, 78676) and data type float64"
     ]
    }
   ],
   "source": [
    "# Calculate similarity matrix\n",
    "similarity = cosine_similarity(vectors)"
   ]
  },
  {
   "cell_type": "code",
   "execution_count": null,
   "metadata": {},
   "outputs": [],
   "source": [
    "sorted(list(enumerate(similarity[2])), reverse= True, key=lambda x:x[1])[1:7]"
   ]
  },
  {
   "cell_type": "code",
   "execution_count": null,
   "metadata": {},
   "outputs": [],
   "source": [
    "def recommend(place):\n",
    "    place_index = model_data[model_data[\"name\"]==name].index[0]\n",
    "    distances = similarity[place_index_index]\n",
    "    place_list = sorted(list(enumerate(distances)), reverse = True, key = lambda x:x[1])[1:7]\n",
    "\n",
    "    for i in place_list:\n",
    "        print(model_data.iloc[i[0]].name)"
   ]
  },
  {
   "cell_type": "code",
   "execution_count": null,
   "metadata": {},
   "outputs": [],
   "source": [
    "# Testing the function\n",
    "recommend(\"Avatar\")"
   ]
  },
  {
   "cell_type": "code",
   "execution_count": null,
   "metadata": {},
   "outputs": [],
   "source": [
    "# Construct the TF-IDF Matrix\n",
    "tfidfv=TfidfVectorizer(analyzer='word', stop_words='english')\n",
    "tfidfv_matrix1=tfidfv.fit_transform(model_data['text'])\n",
    "print(tfidfv_matrix1.todense())\n",
    "tfidfv_matrix1.todense().shape\n",
    "\n",
    "\n",
    "# Calculate similarity matrix\n",
    "cosine_sim1 = cosine_similarity(tfidfv_matrix1, tfidfv_matrix1)\n",
    "\n",
    "\n",
    "# Create a Pandas Series to map movie titles to their indices\n",
    "indices = pd.Series(data = list(model_data.index), index = model-data['name'])\n"
   ]
  },
  {
   "cell_type": "code",
   "execution_count": null,
   "metadata": {},
   "outputs": [],
   "source": [
    "def recommend_place(name, cosine_sim1, model_data):\n",
    "    # Create a dictionary to map movie titles to their indices\n",
    "    indices = {title: index for index, title in enumerate(model_data['name'])}\n",
    "\n",
    "    # Get the index of the movie that matches the title\n",
    "    idx = indices[name]\n",
    "\n",
    "    # Get the pairwise similarity scores of all movies with that movie\n",
    "    sim_scores = list(enumerate(cosine_sim1[idx]))\n",
    "\n",
    "    # Sort the movies based on the similarity scores\n",
    "    sim_scores.sort(key=lambda x: x[1], reverse=True)\n",
    "\n",
    "    # Get the scores of the 10 most similar movies\n",
    "    sim_scores = sim_scores[1:11]\n",
    "\n",
    "    # Get the movie indices\n",
    "    indices = [x for x, _ in sim_scores]\n",
    "\n",
    "    # Return the top 10 most similar movies\n",
    "    recommended_movies = movies_data.iloc[indices]['name']\n",
    "    return recommended_place\n"
   ]
  },
  {
   "cell_type": "code",
   "execution_count": null,
   "metadata": {},
   "outputs": [],
   "source": []
  },
  {
   "cell_type": "code",
   "execution_count": null,
   "metadata": {},
   "outputs": [],
   "source": []
  },
  {
   "cell_type": "code",
   "execution_count": null,
   "metadata": {},
   "outputs": [],
   "source": [
    "# Function that takes in movie title as input and outputs most similar places\n",
    "def hybrid_recommendations(userId, name):\n",
    "    \n",
    "    # Get the index of the place that matches the name\n",
    "    idx = indices[name]\n",
    "    \n",
    "    # Get the pairwsie similarity scores of all movies with that movie\n",
    "    sim_scores = list(enumerate(cosine_similarities[idx]))\n",
    "    \n",
    "    # Sort the movies based on the similarity scores\n",
    "    sim_scores.sort(key=lambda x: x[1], reverse=True)\n",
    "\n",
    "    # Get the scores of the 10 most similar places\n",
    "    sim_scores=sim_scores[1:11]\n",
    "    \n",
    "    # Get the place indices\n",
    "    ind=[]\n",
    "    for (x,y) in sim_scores:\n",
    "        ind.append(x)\n",
    "        \n",
    "    \n",
    "        \n",
    "    # Predict the ratings a user might give to these top 10 most similar movies\n",
    "    est_rating=[]\n",
    "    for a in placeid:\n",
    "        est_rating.append(svd.predict(id, a, r_ui=None).est)  \n",
    "        \n",
    "    return pd.DataFrame({'index': ind, 'name':tit, 'placeid':placeid, 'estimated_rating':est_rating}).set_index('index').sort_values(by='estimated_rating', ascending=False)\n"
   ]
  },
  {
   "cell_type": "code",
   "execution_count": null,
   "metadata": {},
   "outputs": [],
   "source": [
    "# Applying the function\n",
    "hybrid_recommendations(7,'placename')"
   ]
  }
 ],
 "metadata": {
  "kernelspec": {
   "display_name": "base",
   "language": "python",
   "name": "python3"
  },
  "language_info": {
   "codemirror_mode": {
    "name": "ipython",
    "version": 3
   },
   "file_extension": ".py",
   "mimetype": "text/x-python",
   "name": "python",
   "nbconvert_exporter": "python",
   "pygments_lexer": "ipython3",
   "version": "3.10.9"
  },
  "orig_nbformat": 4
 },
 "nbformat": 4,
 "nbformat_minor": 2
}
