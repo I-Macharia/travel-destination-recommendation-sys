{
 "cells": [
  {
   "cell_type": "markdown",
   "metadata": {},
   "source": [
    "# Travel Destination Recommendation System Notebook"
   ]
  },
  {
   "cell_type": "markdown",
   "metadata": {},
   "source": [
    "#### Authors\n",
    "* 1\n",
    "* 2 \n",
    "* 3\n",
    "* 4\n",
    "* 5\n",
    "* 6"
   ]
  },
  {
   "cell_type": "markdown",
   "metadata": {},
   "source": [
    "\n",
    "## Problem Statement"
   ]
  },
  {
   "cell_type": "markdown",
   "metadata": {},
   "source": [
    "The goal is to build a machine learning model that can predict hotel ratings based on customer reviews, budget, specific locations, and the type of residence. The dataset is scraped from TripAdvisor and it contains information about various hotels, including their ratings, reviews, amenities, pricing, geographical coordinates, and residence types (e.g., hotel, bed and breakfast, specialty lodging). By analyzing the text reviews along with these additional factors, the objective is to develop a model that can accurately predict the ratings of new, unseen hotels based on customer reviews, budget constraints, location preferences, and residence type."
   ]
  },
  {
   "cell_type": "markdown",
   "metadata": {},
   "source": [
    "Approach:\n",
    "\n",
    "Data Preprocessing: Clean and preprocess the text reviews by removing stopwords, punctuation, and performing tokenization. Convert the text data into a numerical representation suitable for modeling. Handle missing values, if any, in the budget, location, and residence type columns.\n",
    "\n",
    "Feature Engineering: Extract additional features from the dataset, such as review sentiment scores, review length, and any other relevant information. Engineer new features related to budget, location, and residence type, such as price range categories, geographical distance from landmarks, and one-hot encoding of residence types.\n",
    "\n",
    "Model Selection: Experiment with different supervised learning models, such as linear regression, decision trees, random forests, or neural networks, to find the best model for predicting hotel ratings considering customer reviews, budget, location, and residence type. Evaluate the models using appropriate evaluation metrics like mean squared error (MSE) or mean absolute error (MAE).\n",
    "\n",
    "Model Training and Evaluation: Split the dataset into training and testing sets. Train the selected model on the training set and evaluate its performance on the testing set. Fine-tune the model parameters to improve its accuracy. Perform cross-validation to assess the model's generalization capabilities."
   ]
  },
  {
   "cell_type": "markdown",
   "metadata": {},
   "source": []
  },
  {
   "cell_type": "code",
   "execution_count": null,
   "metadata": {},
   "outputs": [],
   "source": []
  },
  {
   "cell_type": "markdown",
   "metadata": {},
   "source": [
    "## Objectives"
   ]
  },
  {
   "cell_type": "markdown",
   "metadata": {},
   "source": []
  },
  {
   "cell_type": "code",
   "execution_count": null,
   "metadata": {},
   "outputs": [],
   "source": []
  },
  {
   "cell_type": "markdown",
   "metadata": {},
   "source": [
    "## Data Understanding"
   ]
  },
  {
   "cell_type": "code",
   "execution_count": 1,
   "metadata": {},
   "outputs": [],
   "source": [
    "# Importing necessary libraries\n",
    "import pandas as pd\n",
    "import numpy as np\n",
    "\n",
    "import json\n",
    "import glob\n",
    "import re\n",
    "\n",
    "import matplotlib.pyplot as plt\n",
    "import seaborn as sns\n",
    "import plotly.express as px\n",
    "import plotly.graph_objects as go\n",
    "\n",
    "\n",
    "import scipy.stats as stats\n",
    "\n",
    "\n",
    "\n",
    "from  my_functions import DataCleaning"
   ]
  },
  {
   "cell_type": "code",
   "execution_count": 2,
   "metadata": {},
   "outputs": [],
   "source": [
    "cleaner = DataCleaning()"
   ]
  },
  {
   "cell_type": "code",
   "execution_count": 3,
   "metadata": {},
   "outputs": [],
   "source": [
    "# read the data \n",
    "json_files = [\n",
    "    r'..\\Data\\drc.json', r'..\\Data\\egypt.json', r'..\\Data\\ethiopia.json',\n",
    "    r'..\\Data\\kenya.json', r'..\\Data\\Madagascar.json', r'..\\Data\\morocco.json',\n",
    "    r'..\\Data\\nigeria.json', r'..\\Data\\rwanda.json', r'..\\Data\\seychelles.json',\n",
    "    r'..\\Data\\tanzania.json', r'..\\Data\\uganda.json', r'..\\Data\\namibia.json',\n",
    "    '..\\Data\\south_africa.json', '..\\Data\\malawi.json', r'..\\Data\\Senegal.json',\n",
    "    r'..\\Data\\zambia.json', r'..\\Data\\Ghana.json', r'..\\Data\\Botswana.json', \n",
    "    r'..\\Data\\capeverde.json'\n",
    "]\n",
    "cleaner.read_json_files(json_files)\n",
    "df = cleaner.df"
   ]
  },
  {
   "cell_type": "code",
   "execution_count": 4,
   "metadata": {},
   "outputs": [
    {
     "data": {
      "text/html": [
       "<div>\n",
       "<style scoped>\n",
       "    .dataframe tbody tr th:only-of-type {\n",
       "        vertical-align: middle;\n",
       "    }\n",
       "\n",
       "    .dataframe tbody tr th {\n",
       "        vertical-align: top;\n",
       "    }\n",
       "\n",
       "    .dataframe thead th {\n",
       "        text-align: right;\n",
       "    }\n",
       "</style>\n",
       "<table border=\"1\" class=\"dataframe\">\n",
       "  <thead>\n",
       "    <tr style=\"text-align: right;\">\n",
       "      <th></th>\n",
       "      <th>id</th>\n",
       "      <th>type</th>\n",
       "      <th>category</th>\n",
       "      <th>subcategories</th>\n",
       "      <th>name</th>\n",
       "      <th>locationString</th>\n",
       "      <th>description</th>\n",
       "      <th>image</th>\n",
       "      <th>photoCount</th>\n",
       "      <th>awards</th>\n",
       "      <th>...</th>\n",
       "      <th>establishmentTypes</th>\n",
       "      <th>ownersTopReasons</th>\n",
       "      <th>localLangCode</th>\n",
       "      <th>guideFeaturedInCopy</th>\n",
       "      <th>rentalDescriptions</th>\n",
       "      <th>photos</th>\n",
       "      <th>bedroomInfo</th>\n",
       "      <th>bathroomInfo</th>\n",
       "      <th>bathCount</th>\n",
       "      <th>baseDailyRate</th>\n",
       "    </tr>\n",
       "  </thead>\n",
       "  <tbody>\n",
       "    <tr>\n",
       "      <th>0</th>\n",
       "      <td>2704993</td>\n",
       "      <td>ATTRACTION</td>\n",
       "      <td>attraction</td>\n",
       "      <td>[Nature &amp; Parks]</td>\n",
       "      <td>Congoloisirs</td>\n",
       "      <td>Kinshasa</td>\n",
       "      <td>None</td>\n",
       "      <td>https://media-cdn.tripadvisor.com/media/photo-...</td>\n",
       "      <td>9</td>\n",
       "      <td>[]</td>\n",
       "      <td>...</td>\n",
       "      <td>NaN</td>\n",
       "      <td>NaN</td>\n",
       "      <td>NaN</td>\n",
       "      <td>NaN</td>\n",
       "      <td>NaN</td>\n",
       "      <td>NaN</td>\n",
       "      <td>NaN</td>\n",
       "      <td>NaN</td>\n",
       "      <td>NaN</td>\n",
       "      <td>NaN</td>\n",
       "    </tr>\n",
       "    <tr>\n",
       "      <th>1</th>\n",
       "      <td>1536776</td>\n",
       "      <td>ATTRACTION</td>\n",
       "      <td>attraction</td>\n",
       "      <td>[Nature &amp; Parks]</td>\n",
       "      <td>Okapi Wildlife Reserve</td>\n",
       "      <td>Orientale Province</td>\n",
       "      <td>None</td>\n",
       "      <td>https://media-cdn.tripadvisor.com/media/photo-...</td>\n",
       "      <td>3</td>\n",
       "      <td>[]</td>\n",
       "      <td>...</td>\n",
       "      <td>NaN</td>\n",
       "      <td>NaN</td>\n",
       "      <td>NaN</td>\n",
       "      <td>NaN</td>\n",
       "      <td>NaN</td>\n",
       "      <td>NaN</td>\n",
       "      <td>NaN</td>\n",
       "      <td>NaN</td>\n",
       "      <td>NaN</td>\n",
       "      <td>NaN</td>\n",
       "    </tr>\n",
       "    <tr>\n",
       "      <th>2</th>\n",
       "      <td>13203729</td>\n",
       "      <td>ATTRACTION</td>\n",
       "      <td>attraction</td>\n",
       "      <td>[Shopping, Food &amp; Drink]</td>\n",
       "      <td>Marche Nouveau DAIPN</td>\n",
       "      <td>Kinshasa</td>\n",
       "      <td>None</td>\n",
       "      <td>https://media-cdn.tripadvisor.com/media/photo-...</td>\n",
       "      <td>12</td>\n",
       "      <td>[]</td>\n",
       "      <td>...</td>\n",
       "      <td>NaN</td>\n",
       "      <td>NaN</td>\n",
       "      <td>NaN</td>\n",
       "      <td>NaN</td>\n",
       "      <td>NaN</td>\n",
       "      <td>NaN</td>\n",
       "      <td>NaN</td>\n",
       "      <td>NaN</td>\n",
       "      <td>NaN</td>\n",
       "      <td>NaN</td>\n",
       "    </tr>\n",
       "    <tr>\n",
       "      <th>3</th>\n",
       "      <td>8661504</td>\n",
       "      <td>HOTEL</td>\n",
       "      <td>hotel</td>\n",
       "      <td>[Specialty Lodging]</td>\n",
       "      <td>Bukima Tented Camp</td>\n",
       "      <td>Rumangabo, North Kivu Province</td>\n",
       "      <td>Just outside the Virunga National Park boundar...</td>\n",
       "      <td>https://media-cdn.tripadvisor.com/media/photo-...</td>\n",
       "      <td>79</td>\n",
       "      <td>[]</td>\n",
       "      <td>...</td>\n",
       "      <td>NaN</td>\n",
       "      <td>NaN</td>\n",
       "      <td>NaN</td>\n",
       "      <td>NaN</td>\n",
       "      <td>NaN</td>\n",
       "      <td>NaN</td>\n",
       "      <td>NaN</td>\n",
       "      <td>NaN</td>\n",
       "      <td>NaN</td>\n",
       "      <td>NaN</td>\n",
       "    </tr>\n",
       "    <tr>\n",
       "      <th>4</th>\n",
       "      <td>10414108</td>\n",
       "      <td>HOTEL</td>\n",
       "      <td>hotel</td>\n",
       "      <td>[Specialty Lodging]</td>\n",
       "      <td>Tchegera Island Tented Camp, Virunga National ...</td>\n",
       "      <td>Goma, North Kivu Province</td>\n",
       "      <td>None</td>\n",
       "      <td>https://media-cdn.tripadvisor.com/media/photo-...</td>\n",
       "      <td>109</td>\n",
       "      <td>[]</td>\n",
       "      <td>...</td>\n",
       "      <td>NaN</td>\n",
       "      <td>NaN</td>\n",
       "      <td>NaN</td>\n",
       "      <td>NaN</td>\n",
       "      <td>NaN</td>\n",
       "      <td>NaN</td>\n",
       "      <td>NaN</td>\n",
       "      <td>NaN</td>\n",
       "      <td>NaN</td>\n",
       "      <td>NaN</td>\n",
       "    </tr>\n",
       "  </tbody>\n",
       "</table>\n",
       "<p>5 rows × 65 columns</p>\n",
       "</div>"
      ],
      "text/plain": [
       "         id        type    category             subcategories  \\\n",
       "0   2704993  ATTRACTION  attraction          [Nature & Parks]   \n",
       "1   1536776  ATTRACTION  attraction          [Nature & Parks]   \n",
       "2  13203729  ATTRACTION  attraction  [Shopping, Food & Drink]   \n",
       "3   8661504       HOTEL       hotel       [Specialty Lodging]   \n",
       "4  10414108       HOTEL       hotel       [Specialty Lodging]   \n",
       "\n",
       "                                                name  \\\n",
       "0                                       Congoloisirs   \n",
       "1                             Okapi Wildlife Reserve   \n",
       "2                               Marche Nouveau DAIPN   \n",
       "3                                 Bukima Tented Camp   \n",
       "4  Tchegera Island Tented Camp, Virunga National ...   \n",
       "\n",
       "                   locationString  \\\n",
       "0                        Kinshasa   \n",
       "1              Orientale Province   \n",
       "2                        Kinshasa   \n",
       "3  Rumangabo, North Kivu Province   \n",
       "4       Goma, North Kivu Province   \n",
       "\n",
       "                                         description  \\\n",
       "0                                               None   \n",
       "1                                               None   \n",
       "2                                               None   \n",
       "3  Just outside the Virunga National Park boundar...   \n",
       "4                                               None   \n",
       "\n",
       "                                               image  photoCount awards  ...  \\\n",
       "0  https://media-cdn.tripadvisor.com/media/photo-...           9     []  ...   \n",
       "1  https://media-cdn.tripadvisor.com/media/photo-...           3     []  ...   \n",
       "2  https://media-cdn.tripadvisor.com/media/photo-...          12     []  ...   \n",
       "3  https://media-cdn.tripadvisor.com/media/photo-...          79     []  ...   \n",
       "4  https://media-cdn.tripadvisor.com/media/photo-...         109     []  ...   \n",
       "\n",
       "   establishmentTypes  ownersTopReasons  localLangCode guideFeaturedInCopy  \\\n",
       "0                 NaN               NaN            NaN                 NaN   \n",
       "1                 NaN               NaN            NaN                 NaN   \n",
       "2                 NaN               NaN            NaN                 NaN   \n",
       "3                 NaN               NaN            NaN                 NaN   \n",
       "4                 NaN               NaN            NaN                 NaN   \n",
       "\n",
       "  rentalDescriptions photos bedroomInfo bathroomInfo bathCount  baseDailyRate  \n",
       "0                NaN    NaN         NaN          NaN       NaN            NaN  \n",
       "1                NaN    NaN         NaN          NaN       NaN            NaN  \n",
       "2                NaN    NaN         NaN          NaN       NaN            NaN  \n",
       "3                NaN    NaN         NaN          NaN       NaN            NaN  \n",
       "4                NaN    NaN         NaN          NaN       NaN            NaN  \n",
       "\n",
       "[5 rows x 65 columns]"
      ]
     },
     "execution_count": 4,
     "metadata": {},
     "output_type": "execute_result"
    }
   ],
   "source": [
    "# preview the data\n",
    "df.head()"
   ]
  },
  {
   "cell_type": "markdown",
   "metadata": {},
   "source": [
    "We observe the data has 35,836 rows and 65 columns. majority of these not useful in analysis and contain a large number of missing values that we cannot predict. Therefore, we will remove them from our dataset. "
   ]
  },
  {
   "cell_type": "markdown",
   "metadata": {},
   "source": [
    "### Data Cleaning. "
   ]
  },
  {
   "cell_type": "code",
   "execution_count": 5,
   "metadata": {},
   "outputs": [
    {
     "data": {
      "text/html": [
       "<div>\n",
       "<style scoped>\n",
       "    .dataframe tbody tr th:only-of-type {\n",
       "        vertical-align: middle;\n",
       "    }\n",
       "\n",
       "    .dataframe tbody tr th {\n",
       "        vertical-align: top;\n",
       "    }\n",
       "\n",
       "    .dataframe thead th {\n",
       "        text-align: right;\n",
       "    }\n",
       "</style>\n",
       "<table border=\"1\" class=\"dataframe\">\n",
       "  <thead>\n",
       "    <tr style=\"text-align: right;\">\n",
       "      <th></th>\n",
       "      <th>id</th>\n",
       "      <th>type</th>\n",
       "      <th>subcategories</th>\n",
       "      <th>name</th>\n",
       "      <th>locationString</th>\n",
       "      <th>description</th>\n",
       "      <th>rankingPosition</th>\n",
       "      <th>rating</th>\n",
       "      <th>rawRanking</th>\n",
       "      <th>addressObj</th>\n",
       "      <th>...</th>\n",
       "      <th>priceLevel</th>\n",
       "      <th>priceRange</th>\n",
       "      <th>cuisines</th>\n",
       "      <th>mealTypes</th>\n",
       "      <th>dishes</th>\n",
       "      <th>features</th>\n",
       "      <th>bedroomInfo</th>\n",
       "      <th>bathroomInfo</th>\n",
       "      <th>bathCount</th>\n",
       "      <th>baseDailyRate</th>\n",
       "    </tr>\n",
       "  </thead>\n",
       "  <tbody>\n",
       "    <tr>\n",
       "      <th>0</th>\n",
       "      <td>2704993</td>\n",
       "      <td>ATTRACTION</td>\n",
       "      <td>[Nature &amp; Parks]</td>\n",
       "      <td>Congoloisirs</td>\n",
       "      <td>Kinshasa</td>\n",
       "      <td>None</td>\n",
       "      <td>17.0</td>\n",
       "      <td>4.0</td>\n",
       "      <td>2.778074</td>\n",
       "      <td>{'street1': 'Avenue de la Liberation', 'street...</td>\n",
       "      <td>...</td>\n",
       "      <td>NaN</td>\n",
       "      <td>NaN</td>\n",
       "      <td>NaN</td>\n",
       "      <td>NaN</td>\n",
       "      <td>NaN</td>\n",
       "      <td>NaN</td>\n",
       "      <td>NaN</td>\n",
       "      <td>NaN</td>\n",
       "      <td>NaN</td>\n",
       "      <td>NaN</td>\n",
       "    </tr>\n",
       "    <tr>\n",
       "      <th>1</th>\n",
       "      <td>1536776</td>\n",
       "      <td>ATTRACTION</td>\n",
       "      <td>[Nature &amp; Parks]</td>\n",
       "      <td>Okapi Wildlife Reserve</td>\n",
       "      <td>Orientale Province</td>\n",
       "      <td>None</td>\n",
       "      <td>1.0</td>\n",
       "      <td>5.0</td>\n",
       "      <td>2.751658</td>\n",
       "      <td>{'street1': '', 'street2': '', 'city': None, '...</td>\n",
       "      <td>...</td>\n",
       "      <td>NaN</td>\n",
       "      <td>NaN</td>\n",
       "      <td>NaN</td>\n",
       "      <td>NaN</td>\n",
       "      <td>NaN</td>\n",
       "      <td>NaN</td>\n",
       "      <td>NaN</td>\n",
       "      <td>NaN</td>\n",
       "      <td>NaN</td>\n",
       "      <td>NaN</td>\n",
       "    </tr>\n",
       "    <tr>\n",
       "      <th>2</th>\n",
       "      <td>13203729</td>\n",
       "      <td>ATTRACTION</td>\n",
       "      <td>[Shopping, Food &amp; Drink]</td>\n",
       "      <td>Marche Nouveau DAIPN</td>\n",
       "      <td>Kinshasa</td>\n",
       "      <td>None</td>\n",
       "      <td>21.0</td>\n",
       "      <td>5.0</td>\n",
       "      <td>2.773659</td>\n",
       "      <td>{'street1': 'Place des evolues', 'street2': No...</td>\n",
       "      <td>...</td>\n",
       "      <td>NaN</td>\n",
       "      <td>NaN</td>\n",
       "      <td>NaN</td>\n",
       "      <td>NaN</td>\n",
       "      <td>NaN</td>\n",
       "      <td>NaN</td>\n",
       "      <td>NaN</td>\n",
       "      <td>NaN</td>\n",
       "      <td>NaN</td>\n",
       "      <td>NaN</td>\n",
       "    </tr>\n",
       "    <tr>\n",
       "      <th>3</th>\n",
       "      <td>8661504</td>\n",
       "      <td>HOTEL</td>\n",
       "      <td>[Specialty Lodging]</td>\n",
       "      <td>Bukima Tented Camp</td>\n",
       "      <td>Rumangabo, North Kivu Province</td>\n",
       "      <td>Just outside the Virunga National Park boundar...</td>\n",
       "      <td>2.0</td>\n",
       "      <td>4.5</td>\n",
       "      <td>3.351389</td>\n",
       "      <td>{'street1': 'Virunga National Park', 'street2'...</td>\n",
       "      <td>...</td>\n",
       "      <td>None</td>\n",
       "      <td>None</td>\n",
       "      <td>NaN</td>\n",
       "      <td>NaN</td>\n",
       "      <td>NaN</td>\n",
       "      <td>NaN</td>\n",
       "      <td>NaN</td>\n",
       "      <td>NaN</td>\n",
       "      <td>NaN</td>\n",
       "      <td>NaN</td>\n",
       "    </tr>\n",
       "    <tr>\n",
       "      <th>4</th>\n",
       "      <td>10414108</td>\n",
       "      <td>HOTEL</td>\n",
       "      <td>[Specialty Lodging]</td>\n",
       "      <td>Tchegera Island Tented Camp, Virunga National ...</td>\n",
       "      <td>Goma, North Kivu Province</td>\n",
       "      <td>None</td>\n",
       "      <td>1.0</td>\n",
       "      <td>5.0</td>\n",
       "      <td>3.464931</td>\n",
       "      <td>{'street1': None, 'street2': None, 'city': 'Go...</td>\n",
       "      <td>...</td>\n",
       "      <td>None</td>\n",
       "      <td>None</td>\n",
       "      <td>NaN</td>\n",
       "      <td>NaN</td>\n",
       "      <td>NaN</td>\n",
       "      <td>NaN</td>\n",
       "      <td>NaN</td>\n",
       "      <td>NaN</td>\n",
       "      <td>NaN</td>\n",
       "      <td>NaN</td>\n",
       "    </tr>\n",
       "  </tbody>\n",
       "</table>\n",
       "<p>5 rows × 29 columns</p>\n",
       "</div>"
      ],
      "text/plain": [
       "         id        type             subcategories  \\\n",
       "0   2704993  ATTRACTION          [Nature & Parks]   \n",
       "1   1536776  ATTRACTION          [Nature & Parks]   \n",
       "2  13203729  ATTRACTION  [Shopping, Food & Drink]   \n",
       "3   8661504       HOTEL       [Specialty Lodging]   \n",
       "4  10414108       HOTEL       [Specialty Lodging]   \n",
       "\n",
       "                                                name  \\\n",
       "0                                       Congoloisirs   \n",
       "1                             Okapi Wildlife Reserve   \n",
       "2                               Marche Nouveau DAIPN   \n",
       "3                                 Bukima Tented Camp   \n",
       "4  Tchegera Island Tented Camp, Virunga National ...   \n",
       "\n",
       "                   locationString  \\\n",
       "0                        Kinshasa   \n",
       "1              Orientale Province   \n",
       "2                        Kinshasa   \n",
       "3  Rumangabo, North Kivu Province   \n",
       "4       Goma, North Kivu Province   \n",
       "\n",
       "                                         description  rankingPosition  rating  \\\n",
       "0                                               None             17.0     4.0   \n",
       "1                                               None              1.0     5.0   \n",
       "2                                               None             21.0     5.0   \n",
       "3  Just outside the Virunga National Park boundar...              2.0     4.5   \n",
       "4                                               None              1.0     5.0   \n",
       "\n",
       "   rawRanking                                         addressObj  ...  \\\n",
       "0    2.778074  {'street1': 'Avenue de la Liberation', 'street...  ...   \n",
       "1    2.751658  {'street1': '', 'street2': '', 'city': None, '...  ...   \n",
       "2    2.773659  {'street1': 'Place des evolues', 'street2': No...  ...   \n",
       "3    3.351389  {'street1': 'Virunga National Park', 'street2'...  ...   \n",
       "4    3.464931  {'street1': None, 'street2': None, 'city': 'Go...  ...   \n",
       "\n",
       "   priceLevel  priceRange cuisines mealTypes  dishes features bedroomInfo  \\\n",
       "0         NaN         NaN      NaN       NaN     NaN      NaN         NaN   \n",
       "1         NaN         NaN      NaN       NaN     NaN      NaN         NaN   \n",
       "2         NaN         NaN      NaN       NaN     NaN      NaN         NaN   \n",
       "3        None        None      NaN       NaN     NaN      NaN         NaN   \n",
       "4        None        None      NaN       NaN     NaN      NaN         NaN   \n",
       "\n",
       "  bathroomInfo  bathCount baseDailyRate  \n",
       "0          NaN        NaN           NaN  \n",
       "1          NaN        NaN           NaN  \n",
       "2          NaN        NaN           NaN  \n",
       "3          NaN        NaN           NaN  \n",
       "4          NaN        NaN           NaN  \n",
       "\n",
       "[5 rows x 29 columns]"
      ]
     },
     "execution_count": 5,
     "metadata": {},
     "output_type": "execute_result"
    }
   ],
   "source": [
    "# Removing irrelevant columns. \n",
    "columns_to_drop = ['image', 'photoCount', 'awards', 'phone', 'address', 'email', 'localAddress', 'webUrl', 'website',\n",
    "                   'neighborhoodLocations', 'nearestMetroStations', 'ancestorLocations', 'booking', 'offerGroup',\n",
    "                   'subtype', 'hotelClass', 'roomTips', 'checkInDate', 'category', 'checkOutDate', 'offers',\n",
    "                   'hotelClassAttribution', 'localLangCode', 'isClosed', 'ratingHistogram', 'isLongClosed',\n",
    "                   'openNowText', 'dietaryRestrictions', 'hours', 'menuWebUrl', 'localName', 'establishmentTypes',\n",
    "                   'ownersTopReasons', 'guideFeaturedInCopy', 'rentalDescriptions', 'photos']\n",
    "\n",
    "cleaner.drop_columns(columns_to_drop)\n",
    "cleaner.get_preview(df)"
   ]
  },
  {
   "cell_type": "markdown",
   "metadata": {},
   "source": [
    "### Check for missing values"
   ]
  },
  {
   "cell_type": "code",
   "execution_count": 6,
   "metadata": {},
   "outputs": [
    {
     "data": {
      "text/plain": [
       "features              98.839156\n",
       "dishes                98.839156\n",
       "mealTypes             98.839156\n",
       "cuisines              98.839156\n",
       "baseDailyRate         96.461659\n",
       "bathCount             96.263534\n",
       "bathroomInfo          96.263534\n",
       "bedroomInfo           96.263534\n",
       "priceRange            60.545262\n",
       "priceLevel            60.288537\n",
       "numberOfRooms         52.349593\n",
       "description           43.830227\n",
       "amenities             27.011943\n",
       "rankingDenominator    25.856680\n",
       "rankingString         25.856680\n",
       "rawRanking            25.856680\n",
       "rankingPosition       25.856680\n",
       "rating                25.477174\n",
       "longitude             16.000670\n",
       "latitude              16.000670\n",
       "locationString         3.736466\n",
       "reviewTags             3.736466\n",
       "addressObj             3.736466\n",
       "subcategories          3.736466\n",
       "dtype: float64"
      ]
     },
     "execution_count": 6,
     "metadata": {},
     "output_type": "execute_result"
    }
   ],
   "source": [
    "# Calculates the percentage of missing values in each column\n",
    "cleaner.missing_values_percentage(df)"
   ]
  },
  {
   "cell_type": "markdown",
   "metadata": {},
   "source": [
    "Some columns such as features, dishes, mealTypes, cuisines, baseDailyRate, bathCount, bathroomInfo, bedroomInfo have missing values above 90 percent. We opt to drop them."
   ]
  },
  {
   "cell_type": "code",
   "execution_count": 7,
   "metadata": {},
   "outputs": [
    {
     "data": {
      "text/html": [
       "<div>\n",
       "<style scoped>\n",
       "    .dataframe tbody tr th:only-of-type {\n",
       "        vertical-align: middle;\n",
       "    }\n",
       "\n",
       "    .dataframe tbody tr th {\n",
       "        vertical-align: top;\n",
       "    }\n",
       "\n",
       "    .dataframe thead th {\n",
       "        text-align: right;\n",
       "    }\n",
       "</style>\n",
       "<table border=\"1\" class=\"dataframe\">\n",
       "  <thead>\n",
       "    <tr style=\"text-align: right;\">\n",
       "      <th></th>\n",
       "      <th>id</th>\n",
       "      <th>type</th>\n",
       "      <th>subcategories</th>\n",
       "      <th>name</th>\n",
       "      <th>locationString</th>\n",
       "      <th>description</th>\n",
       "      <th>rankingPosition</th>\n",
       "      <th>rating</th>\n",
       "      <th>rawRanking</th>\n",
       "      <th>addressObj</th>\n",
       "      <th>...</th>\n",
       "      <th>longitude</th>\n",
       "      <th>rankingString</th>\n",
       "      <th>rankingDenominator</th>\n",
       "      <th>numberOfReviews</th>\n",
       "      <th>reviewTags</th>\n",
       "      <th>reviews</th>\n",
       "      <th>amenities</th>\n",
       "      <th>numberOfRooms</th>\n",
       "      <th>priceLevel</th>\n",
       "      <th>priceRange</th>\n",
       "    </tr>\n",
       "  </thead>\n",
       "  <tbody>\n",
       "    <tr>\n",
       "      <th>0</th>\n",
       "      <td>2704993</td>\n",
       "      <td>ATTRACTION</td>\n",
       "      <td>[Nature &amp; Parks]</td>\n",
       "      <td>Congoloisirs</td>\n",
       "      <td>Kinshasa</td>\n",
       "      <td>None</td>\n",
       "      <td>17.0</td>\n",
       "      <td>4.0</td>\n",
       "      <td>2.778074</td>\n",
       "      <td>{'street1': 'Avenue de la Liberation', 'street...</td>\n",
       "      <td>...</td>\n",
       "      <td>NaN</td>\n",
       "      <td>#17 of 105 things to do in Kinshasa</td>\n",
       "      <td>105</td>\n",
       "      <td>9</td>\n",
       "      <td>[]</td>\n",
       "      <td>[]</td>\n",
       "      <td>NaN</td>\n",
       "      <td>NaN</td>\n",
       "      <td>NaN</td>\n",
       "      <td>NaN</td>\n",
       "    </tr>\n",
       "    <tr>\n",
       "      <th>1</th>\n",
       "      <td>1536776</td>\n",
       "      <td>ATTRACTION</td>\n",
       "      <td>[Nature &amp; Parks]</td>\n",
       "      <td>Okapi Wildlife Reserve</td>\n",
       "      <td>Orientale Province</td>\n",
       "      <td>None</td>\n",
       "      <td>1.0</td>\n",
       "      <td>5.0</td>\n",
       "      <td>2.751658</td>\n",
       "      <td>{'street1': '', 'street2': '', 'city': None, '...</td>\n",
       "      <td>...</td>\n",
       "      <td>NaN</td>\n",
       "      <td>#1 of 4 things to do in Orientale Province</td>\n",
       "      <td>4</td>\n",
       "      <td>2</td>\n",
       "      <td>[]</td>\n",
       "      <td>[]</td>\n",
       "      <td>NaN</td>\n",
       "      <td>NaN</td>\n",
       "      <td>NaN</td>\n",
       "      <td>NaN</td>\n",
       "    </tr>\n",
       "    <tr>\n",
       "      <th>2</th>\n",
       "      <td>13203729</td>\n",
       "      <td>ATTRACTION</td>\n",
       "      <td>[Shopping, Food &amp; Drink]</td>\n",
       "      <td>Marche Nouveau DAIPN</td>\n",
       "      <td>Kinshasa</td>\n",
       "      <td>None</td>\n",
       "      <td>21.0</td>\n",
       "      <td>5.0</td>\n",
       "      <td>2.773659</td>\n",
       "      <td>{'street1': 'Place des evolues', 'street2': No...</td>\n",
       "      <td>...</td>\n",
       "      <td>15.308700</td>\n",
       "      <td>#21 of 105 things to do in Kinshasa</td>\n",
       "      <td>105</td>\n",
       "      <td>3</td>\n",
       "      <td>[]</td>\n",
       "      <td>[]</td>\n",
       "      <td>NaN</td>\n",
       "      <td>NaN</td>\n",
       "      <td>NaN</td>\n",
       "      <td>NaN</td>\n",
       "    </tr>\n",
       "    <tr>\n",
       "      <th>3</th>\n",
       "      <td>8661504</td>\n",
       "      <td>HOTEL</td>\n",
       "      <td>[Specialty Lodging]</td>\n",
       "      <td>Bukima Tented Camp</td>\n",
       "      <td>Rumangabo, North Kivu Province</td>\n",
       "      <td>Just outside the Virunga National Park boundar...</td>\n",
       "      <td>2.0</td>\n",
       "      <td>4.5</td>\n",
       "      <td>3.351389</td>\n",
       "      <td>{'street1': 'Virunga National Park', 'street2'...</td>\n",
       "      <td>...</td>\n",
       "      <td>29.434310</td>\n",
       "      <td>#2 of 3 Specialty lodging in Rumangabo</td>\n",
       "      <td>3</td>\n",
       "      <td>34</td>\n",
       "      <td>[]</td>\n",
       "      <td>[]</td>\n",
       "      <td>[Restaurant, Mountain View]</td>\n",
       "      <td>6.0</td>\n",
       "      <td>None</td>\n",
       "      <td>None</td>\n",
       "    </tr>\n",
       "    <tr>\n",
       "      <th>4</th>\n",
       "      <td>10414108</td>\n",
       "      <td>HOTEL</td>\n",
       "      <td>[Specialty Lodging]</td>\n",
       "      <td>Tchegera Island Tented Camp, Virunga National ...</td>\n",
       "      <td>Goma, North Kivu Province</td>\n",
       "      <td>None</td>\n",
       "      <td>1.0</td>\n",
       "      <td>5.0</td>\n",
       "      <td>3.464931</td>\n",
       "      <td>{'street1': None, 'street2': None, 'city': 'Go...</td>\n",
       "      <td>...</td>\n",
       "      <td>29.117218</td>\n",
       "      <td>#1 of 17 Specialty lodging in Goma</td>\n",
       "      <td>17</td>\n",
       "      <td>29</td>\n",
       "      <td>[{'text': 'gorilla trekking', 'reviews': 3}, {...</td>\n",
       "      <td>[]</td>\n",
       "      <td>[Multilingual Staff, Restaurant, Bar/Lounge, F...</td>\n",
       "      <td>6.0</td>\n",
       "      <td>None</td>\n",
       "      <td>None</td>\n",
       "    </tr>\n",
       "  </tbody>\n",
       "</table>\n",
       "<p>5 rows × 21 columns</p>\n",
       "</div>"
      ],
      "text/plain": [
       "         id        type             subcategories  \\\n",
       "0   2704993  ATTRACTION          [Nature & Parks]   \n",
       "1   1536776  ATTRACTION          [Nature & Parks]   \n",
       "2  13203729  ATTRACTION  [Shopping, Food & Drink]   \n",
       "3   8661504       HOTEL       [Specialty Lodging]   \n",
       "4  10414108       HOTEL       [Specialty Lodging]   \n",
       "\n",
       "                                                name  \\\n",
       "0                                       Congoloisirs   \n",
       "1                             Okapi Wildlife Reserve   \n",
       "2                               Marche Nouveau DAIPN   \n",
       "3                                 Bukima Tented Camp   \n",
       "4  Tchegera Island Tented Camp, Virunga National ...   \n",
       "\n",
       "                   locationString  \\\n",
       "0                        Kinshasa   \n",
       "1              Orientale Province   \n",
       "2                        Kinshasa   \n",
       "3  Rumangabo, North Kivu Province   \n",
       "4       Goma, North Kivu Province   \n",
       "\n",
       "                                         description  rankingPosition  rating  \\\n",
       "0                                               None             17.0     4.0   \n",
       "1                                               None              1.0     5.0   \n",
       "2                                               None             21.0     5.0   \n",
       "3  Just outside the Virunga National Park boundar...              2.0     4.5   \n",
       "4                                               None              1.0     5.0   \n",
       "\n",
       "   rawRanking                                         addressObj  ...  \\\n",
       "0    2.778074  {'street1': 'Avenue de la Liberation', 'street...  ...   \n",
       "1    2.751658  {'street1': '', 'street2': '', 'city': None, '...  ...   \n",
       "2    2.773659  {'street1': 'Place des evolues', 'street2': No...  ...   \n",
       "3    3.351389  {'street1': 'Virunga National Park', 'street2'...  ...   \n",
       "4    3.464931  {'street1': None, 'street2': None, 'city': 'Go...  ...   \n",
       "\n",
       "   longitude                               rankingString rankingDenominator  \\\n",
       "0        NaN         #17 of 105 things to do in Kinshasa                105   \n",
       "1        NaN  #1 of 4 things to do in Orientale Province                  4   \n",
       "2  15.308700         #21 of 105 things to do in Kinshasa                105   \n",
       "3  29.434310      #2 of 3 Specialty lodging in Rumangabo                  3   \n",
       "4  29.117218          #1 of 17 Specialty lodging in Goma                 17   \n",
       "\n",
       "  numberOfReviews                                         reviewTags reviews  \\\n",
       "0               9                                                 []      []   \n",
       "1               2                                                 []      []   \n",
       "2               3                                                 []      []   \n",
       "3              34                                                 []      []   \n",
       "4              29  [{'text': 'gorilla trekking', 'reviews': 3}, {...      []   \n",
       "\n",
       "                                           amenities numberOfRooms  \\\n",
       "0                                                NaN           NaN   \n",
       "1                                                NaN           NaN   \n",
       "2                                                NaN           NaN   \n",
       "3                        [Restaurant, Mountain View]           6.0   \n",
       "4  [Multilingual Staff, Restaurant, Bar/Lounge, F...           6.0   \n",
       "\n",
       "   priceLevel priceRange  \n",
       "0         NaN        NaN  \n",
       "1         NaN        NaN  \n",
       "2         NaN        NaN  \n",
       "3        None       None  \n",
       "4        None       None  \n",
       "\n",
       "[5 rows x 21 columns]"
      ]
     },
     "execution_count": 7,
     "metadata": {},
     "output_type": "execute_result"
    }
   ],
   "source": [
    "# Drops columns with missing values percentage above the specified threshold of 90\n",
    "cleaner.drop_above_threshold(90)\n",
    "cleaner.get_preview(df)"
   ]
  },
  {
   "cell_type": "code",
   "execution_count": 8,
   "metadata": {},
   "outputs": [
    {
     "data": {
      "text/html": [
       "<div>\n",
       "<style scoped>\n",
       "    .dataframe tbody tr th:only-of-type {\n",
       "        vertical-align: middle;\n",
       "    }\n",
       "\n",
       "    .dataframe tbody tr th {\n",
       "        vertical-align: top;\n",
       "    }\n",
       "\n",
       "    .dataframe thead th {\n",
       "        text-align: right;\n",
       "    }\n",
       "</style>\n",
       "<table border=\"1\" class=\"dataframe\">\n",
       "  <thead>\n",
       "    <tr style=\"text-align: right;\">\n",
       "      <th></th>\n",
       "      <th>id</th>\n",
       "      <th>type</th>\n",
       "      <th>subcategories</th>\n",
       "      <th>name</th>\n",
       "      <th>locationString</th>\n",
       "      <th>description</th>\n",
       "      <th>rankingPosition</th>\n",
       "      <th>rating</th>\n",
       "      <th>rawRanking</th>\n",
       "      <th>addressObj</th>\n",
       "      <th>...</th>\n",
       "      <th>longitude</th>\n",
       "      <th>rankingString</th>\n",
       "      <th>rankingDenominator</th>\n",
       "      <th>numberOfReviews</th>\n",
       "      <th>reviewTags</th>\n",
       "      <th>reviews</th>\n",
       "      <th>amenities</th>\n",
       "      <th>numberOfRooms</th>\n",
       "      <th>priceLevel</th>\n",
       "      <th>priceRange</th>\n",
       "    </tr>\n",
       "  </thead>\n",
       "  <tbody>\n",
       "    <tr>\n",
       "      <th>0</th>\n",
       "      <td>2704993</td>\n",
       "      <td>ATTRACTION</td>\n",
       "      <td>[Nature &amp; Parks]</td>\n",
       "      <td>Congoloisirs</td>\n",
       "      <td>Kinshasa</td>\n",
       "      <td>None</td>\n",
       "      <td>17.0</td>\n",
       "      <td>4.0</td>\n",
       "      <td>2.778074</td>\n",
       "      <td>{'street1': 'Avenue de la Liberation', 'street...</td>\n",
       "      <td>...</td>\n",
       "      <td>NaN</td>\n",
       "      <td>#17 of 105 things to do in Kinshasa</td>\n",
       "      <td>105</td>\n",
       "      <td>9</td>\n",
       "      <td>[]</td>\n",
       "      <td>[]</td>\n",
       "      <td>NaN</td>\n",
       "      <td>NaN</td>\n",
       "      <td>NaN</td>\n",
       "      <td>NaN</td>\n",
       "    </tr>\n",
       "    <tr>\n",
       "      <th>1</th>\n",
       "      <td>1536776</td>\n",
       "      <td>ATTRACTION</td>\n",
       "      <td>[Nature &amp; Parks]</td>\n",
       "      <td>Okapi Wildlife Reserve</td>\n",
       "      <td>Orientale Province</td>\n",
       "      <td>None</td>\n",
       "      <td>1.0</td>\n",
       "      <td>5.0</td>\n",
       "      <td>2.751658</td>\n",
       "      <td>{'street1': '', 'street2': '', 'city': None, '...</td>\n",
       "      <td>...</td>\n",
       "      <td>NaN</td>\n",
       "      <td>#1 of 4 things to do in Orientale Province</td>\n",
       "      <td>4</td>\n",
       "      <td>2</td>\n",
       "      <td>[]</td>\n",
       "      <td>[]</td>\n",
       "      <td>NaN</td>\n",
       "      <td>NaN</td>\n",
       "      <td>NaN</td>\n",
       "      <td>NaN</td>\n",
       "    </tr>\n",
       "    <tr>\n",
       "      <th>2</th>\n",
       "      <td>13203729</td>\n",
       "      <td>ATTRACTION</td>\n",
       "      <td>[Shopping, Food &amp; Drink]</td>\n",
       "      <td>Marche Nouveau DAIPN</td>\n",
       "      <td>Kinshasa</td>\n",
       "      <td>None</td>\n",
       "      <td>21.0</td>\n",
       "      <td>5.0</td>\n",
       "      <td>2.773659</td>\n",
       "      <td>{'street1': 'Place des evolues', 'street2': No...</td>\n",
       "      <td>...</td>\n",
       "      <td>15.308700</td>\n",
       "      <td>#21 of 105 things to do in Kinshasa</td>\n",
       "      <td>105</td>\n",
       "      <td>3</td>\n",
       "      <td>[]</td>\n",
       "      <td>[]</td>\n",
       "      <td>NaN</td>\n",
       "      <td>NaN</td>\n",
       "      <td>NaN</td>\n",
       "      <td>NaN</td>\n",
       "    </tr>\n",
       "    <tr>\n",
       "      <th>3</th>\n",
       "      <td>8661504</td>\n",
       "      <td>HOTEL</td>\n",
       "      <td>[Specialty Lodging]</td>\n",
       "      <td>Bukima Tented Camp</td>\n",
       "      <td>Rumangabo, North Kivu Province</td>\n",
       "      <td>Just outside the Virunga National Park boundar...</td>\n",
       "      <td>2.0</td>\n",
       "      <td>4.5</td>\n",
       "      <td>3.351389</td>\n",
       "      <td>{'street1': 'Virunga National Park', 'street2'...</td>\n",
       "      <td>...</td>\n",
       "      <td>29.434310</td>\n",
       "      <td>#2 of 3 Specialty lodging in Rumangabo</td>\n",
       "      <td>3</td>\n",
       "      <td>34</td>\n",
       "      <td>[]</td>\n",
       "      <td>[]</td>\n",
       "      <td>[Restaurant, Mountain View]</td>\n",
       "      <td>6.0</td>\n",
       "      <td>None</td>\n",
       "      <td>None</td>\n",
       "    </tr>\n",
       "    <tr>\n",
       "      <th>4</th>\n",
       "      <td>10414108</td>\n",
       "      <td>HOTEL</td>\n",
       "      <td>[Specialty Lodging]</td>\n",
       "      <td>Tchegera Island Tented Camp, Virunga National ...</td>\n",
       "      <td>Goma, North Kivu Province</td>\n",
       "      <td>None</td>\n",
       "      <td>1.0</td>\n",
       "      <td>5.0</td>\n",
       "      <td>3.464931</td>\n",
       "      <td>{'street1': None, 'street2': None, 'city': 'Go...</td>\n",
       "      <td>...</td>\n",
       "      <td>29.117218</td>\n",
       "      <td>#1 of 17 Specialty lodging in Goma</td>\n",
       "      <td>17</td>\n",
       "      <td>29</td>\n",
       "      <td>[{'text': 'gorilla trekking', 'reviews': 3}, {...</td>\n",
       "      <td>[]</td>\n",
       "      <td>[Multilingual Staff, Restaurant, Bar/Lounge, F...</td>\n",
       "      <td>6.0</td>\n",
       "      <td>None</td>\n",
       "      <td>None</td>\n",
       "    </tr>\n",
       "  </tbody>\n",
       "</table>\n",
       "<p>5 rows × 21 columns</p>\n",
       "</div>"
      ],
      "text/plain": [
       "         id        type             subcategories  \\\n",
       "0   2704993  ATTRACTION          [Nature & Parks]   \n",
       "1   1536776  ATTRACTION          [Nature & Parks]   \n",
       "2  13203729  ATTRACTION  [Shopping, Food & Drink]   \n",
       "3   8661504       HOTEL       [Specialty Lodging]   \n",
       "4  10414108       HOTEL       [Specialty Lodging]   \n",
       "\n",
       "                                                name  \\\n",
       "0                                       Congoloisirs   \n",
       "1                             Okapi Wildlife Reserve   \n",
       "2                               Marche Nouveau DAIPN   \n",
       "3                                 Bukima Tented Camp   \n",
       "4  Tchegera Island Tented Camp, Virunga National ...   \n",
       "\n",
       "                   locationString  \\\n",
       "0                        Kinshasa   \n",
       "1              Orientale Province   \n",
       "2                        Kinshasa   \n",
       "3  Rumangabo, North Kivu Province   \n",
       "4       Goma, North Kivu Province   \n",
       "\n",
       "                                         description  rankingPosition  rating  \\\n",
       "0                                               None             17.0     4.0   \n",
       "1                                               None              1.0     5.0   \n",
       "2                                               None             21.0     5.0   \n",
       "3  Just outside the Virunga National Park boundar...              2.0     4.5   \n",
       "4                                               None              1.0     5.0   \n",
       "\n",
       "   rawRanking                                         addressObj  ...  \\\n",
       "0    2.778074  {'street1': 'Avenue de la Liberation', 'street...  ...   \n",
       "1    2.751658  {'street1': '', 'street2': '', 'city': None, '...  ...   \n",
       "2    2.773659  {'street1': 'Place des evolues', 'street2': No...  ...   \n",
       "3    3.351389  {'street1': 'Virunga National Park', 'street2'...  ...   \n",
       "4    3.464931  {'street1': None, 'street2': None, 'city': 'Go...  ...   \n",
       "\n",
       "   longitude                               rankingString rankingDenominator  \\\n",
       "0        NaN         #17 of 105 things to do in Kinshasa                105   \n",
       "1        NaN  #1 of 4 things to do in Orientale Province                  4   \n",
       "2  15.308700         #21 of 105 things to do in Kinshasa                105   \n",
       "3  29.434310      #2 of 3 Specialty lodging in Rumangabo                  3   \n",
       "4  29.117218          #1 of 17 Specialty lodging in Goma                 17   \n",
       "\n",
       "  numberOfReviews                                         reviewTags reviews  \\\n",
       "0               9                                                 []      []   \n",
       "1               2                                                 []      []   \n",
       "2               3                                                 []      []   \n",
       "3              34                                                 []      []   \n",
       "4              29  [{'text': 'gorilla trekking', 'reviews': 3}, {...      []   \n",
       "\n",
       "                                           amenities numberOfRooms  \\\n",
       "0                                                NaN           NaN   \n",
       "1                                                NaN           NaN   \n",
       "2                                                NaN           NaN   \n",
       "3                        [Restaurant, Mountain View]           6.0   \n",
       "4  [Multilingual Staff, Restaurant, Bar/Lounge, F...           6.0   \n",
       "\n",
       "   priceLevel priceRange  \n",
       "0         NaN        NaN  \n",
       "1         NaN        NaN  \n",
       "2         NaN        NaN  \n",
       "3        None       None  \n",
       "4        None       None  \n",
       "\n",
       "[5 rows x 21 columns]"
      ]
     },
     "execution_count": 8,
     "metadata": {},
     "output_type": "execute_result"
    }
   ],
   "source": []
  },
  {
   "cell_type": "code",
   "execution_count": null,
   "metadata": {},
   "outputs": [
    {
     "ename": "",
     "evalue": "",
     "output_type": "error",
     "traceback": [
      "\u001b[1;31mFailed to start the Kernel. \n",
      "\u001b[1;31mUnable to start Kernel 'anaconda3 (Python 3.10.9)' due to a timeout waiting for the ports to get used. \n",
      "\u001b[1;31mView Jupyter <a href='command:jupyter.viewOutput'>log</a> for further details."
     ]
    }
   ],
   "source": [
    "\n",
    "\n",
    "\n",
    "outlier_latitudes = [10.8, 23.58, 18.02, 38.69, 35.80, 40.43, 32.96, 38.10, 0.5769, -5.986, -19.62, -0.5236, 15.05,\n",
    "                     21.16, 21.25, 20.93, 22.46, 24.02, 0.69, 1.50, 10.99, 13.081]\n",
    "outlier_longitudes = [-68.30, -69.54, -63.04, -9.4, -7.50, -3.70, 11.98, 25.81, 81.51, 0, -14.27, -21.81, -39.59,\n",
    "                      -39.04, -38.17, -37.59, -36.64, -34.67, 0, 103.86, 76.96, 80.274]\n",
    "\n",
    "\n",
    "\n",
    "\n",
    "cleaner.split_price_range()\n",
    "cleaner.fill_missing_prices()\n",
    "cleaner.clean_amenities()\n",
    "cleaner.replace_nan_amenities()\n",
    "cleaner.populate_empty_lists(['restaurant', 'bathroom', 'room'])\n",
    "cleaner.extract_ranking_info()\n",
    "mappings = {\n",
    "    'hotel': 'hotels',\n",
    "    'B&B / Inn': 'B&Bs / Inns',\n",
    "    'Sights & Landmarks': 'Nature & Parks',\n",
    "    'Fun & Games': 'Outdoor Activities',\n",
    "    'Boat Tours & Water Sports': 'Water & Amusement Parks',\n",
    "    'Traveler Resources': 'Shopping',\n",
    "    'Concerts & Shows': 'Nightlife',\n",
    "    'Food & Drink': 'places to eat',\n",
    "    'Nature & Parks': 'things to do',\n",
    "    'Museums': 'things to do',\n",
    "    'Tours': 'things to do',\n",
    "    'Outdoor Activities': 'things to do',\n",
    "    'B&Bs / Inns': 'Specialty lodging',\n",
    "}\n",
    "cleaner.replace_ranking_types(mappings)\n",
    "cleaner.split_ranking_string()\n",
    "cleaner.calculate_regional_rating()\n",
    "type_mapping = {\n",
    "    'ATTRACTION': 'things to do',\n",
    "    'HOTEL': np.random.choice(['hotel', 'Specialty lodging'], size=1)[0],\n",
    "}\n",
    "cleaner.fill_ranking_type(type_mapping)\n",
    "cleaner.clean_ratings()\n",
    "cleaner.clean_review_tags()\n",
    "cleaner.fill_missing_coordinates()\n",
    "cleaner.remove_outliers(outlier_latitudes, outlier_longitudes)\n",
    "cleaner.clean_subcategories()\n",
    "cleaner.drop_missing_values(['addressObj'])\n",
    "cleaner.extract_country_and_city()\n",
    "cleaner.drop_unused_columns(['rankingPosition', 'addressObj', 'rawRanking', 'rankingString', 'rankingDenominator',\n",
    "                             'reviews', 'numberOfRooms', 'priceLevel', 'priceRange', 'reviewTags', 'Location',\n",
    "                             'rankingtype', 'Numerator', 'Denominator'])\n",
    "cleaner.replace_empty_strings()\n",
    "cleaner.drop_rows_with_nan()\n",
    "cleaner.save_to_csv(r'../Data/clean_data.csv')\n"
   ]
  },
  {
   "cell_type": "code",
   "execution_count": null,
   "metadata": {},
   "outputs": [
    {
     "ename": "",
     "evalue": "",
     "output_type": "error",
     "traceback": [
      "\u001b[1;31mFailed to start the Kernel. \n",
      "\u001b[1;31mUnable to start Kernel 'anaconda3 (Python 3.10.9)' due to a timeout waiting for the ports to get used. \n",
      "\u001b[1;31mView Jupyter <a href='command:jupyter.viewOutput'>log</a> for further details."
     ]
    }
   ],
   "source": []
  },
  {
   "cell_type": "markdown",
   "metadata": {},
   "source": [
    "~~~ Split to new notebook here~~~~~~~"
   ]
  },
  {
   "cell_type": "code",
   "execution_count": null,
   "metadata": {},
   "outputs": [
    {
     "ename": "",
     "evalue": "",
     "output_type": "error",
     "traceback": [
      "\u001b[1;31mFailed to start the Kernel. \n",
      "\u001b[1;31mUnable to start Kernel 'anaconda3 (Python 3.10.9)' due to a timeout waiting for the ports to get used. \n",
      "\u001b[1;31mView Jupyter <a href='command:jupyter.viewOutput'>log</a> for further details."
     ]
    }
   ],
   "source": [
    "# Importing necessary libraries\n",
    "import pandas as pd\n",
    "import numpy as np\n",
    "\n",
    "import json\n",
    "import glob\n",
    "import re\n",
    "import pickle\n",
    "\n",
    "import matplotlib.pyplot as plt\n",
    "import seaborn as sns\n",
    "import plotly.express as px\n",
    "import plotly.graph_objects as go\n",
    "\n",
    "from sklearn.preprocessing import StandardScaler, normalize\n",
    "from sklearn.feature_extraction.text import TfidfVectorizer\n",
    "from sklearn.metrics import r2_score\n",
    "\n",
    "from surprise import Dataset, Reader, KNNBasic, SVD, NMF, KNNWithMeans, SVDpp\n",
    "from surprise.model_selection import train_test_split\n",
    "from surprise import accuracy as sup_accuracy\n",
    "\n",
    "\n",
    "\n",
    "import warnings\n",
    "# Ignore future deprecation warnings\n",
    "warnings.filterwarnings(\"ignore\", category=FutureWarning)\n"
   ]
  },
  {
   "cell_type": "code",
   "execution_count": null,
   "metadata": {},
   "outputs": [
    {
     "ename": "",
     "evalue": "",
     "output_type": "error",
     "traceback": [
      "\u001b[1;31mFailed to start the Kernel. \n",
      "\u001b[1;31mUnable to start Kernel 'anaconda3 (Python 3.10.9)' due to a timeout waiting for the ports to get used. \n",
      "\u001b[1;31mView Jupyter <a href='command:jupyter.viewOutput'>log</a> for further details."
     ]
    }
   ],
   "source": [
    "clean_df = pd.read_csv('../data/clean_data.csv')"
   ]
  },
  {
   "cell_type": "code",
   "execution_count": null,
   "metadata": {},
   "outputs": [
    {
     "ename": "",
     "evalue": "",
     "output_type": "error",
     "traceback": [
      "\u001b[1;31mFailed to start the Kernel. \n",
      "\u001b[1;31mUnable to start Kernel 'anaconda3 (Python 3.10.9)' due to a timeout waiting for the ports to get used. \n",
      "\u001b[1;31mView Jupyter <a href='command:jupyter.viewOutput'>log</a> for further details."
     ]
    }
   ],
   "source": [
    "clean_df.head()"
   ]
  },
  {
   "cell_type": "code",
   "execution_count": null,
   "metadata": {},
   "outputs": [
    {
     "ename": "",
     "evalue": "",
     "output_type": "error",
     "traceback": [
      "\u001b[1;31mFailed to start the Kernel. \n",
      "\u001b[1;31mUnable to start Kernel 'anaconda3 (Python 3.10.9)' due to a timeout waiting for the ports to get used. \n",
      "\u001b[1;31mView Jupyter <a href='command:jupyter.viewOutput'>log</a> for further details."
     ]
    }
   ],
   "source": [
    "location = ['Chichiriviche']\n",
    "filtered_data = clean_df[clean_df['locationString'].isin(location)]\n",
    "len(filtered_data)"
   ]
  },
  {
   "cell_type": "code",
   "execution_count": null,
   "metadata": {},
   "outputs": [
    {
     "ename": "",
     "evalue": "",
     "output_type": "error",
     "traceback": [
      "\u001b[1;31mFailed to start the Kernel. \n",
      "\u001b[1;31mUnable to start Kernel 'anaconda3 (Python 3.10.9)' due to a timeout waiting for the ports to get used. \n",
      "\u001b[1;31mView Jupyter <a href='command:jupyter.viewOutput'>log</a> for further details."
     ]
    }
   ],
   "source": [
    "countries = ['Spain', 'Portugal', 'Venezuela', 'Carribbean', 'Georgia']\n",
    "filtered_data = clean_df[clean_df['country'].isin(countries)]\n",
    "len(filtered_data)"
   ]
  },
  {
   "cell_type": "code",
   "execution_count": null,
   "metadata": {},
   "outputs": [
    {
     "ename": "",
     "evalue": "",
     "output_type": "error",
     "traceback": [
      "\u001b[1;31mFailed to start the Kernel. \n",
      "\u001b[1;31mUnable to start Kernel 'anaconda3 (Python 3.10.9)' due to a timeout waiting for the ports to get used. \n",
      "\u001b[1;31mView Jupyter <a href='command:jupyter.viewOutput'>log</a> for further details."
     ]
    }
   ],
   "source": [
    "# Drop the filtered rows from the original DataFrame\n",
    "clean_df = clean_df.drop(filtered_data.index)"
   ]
  },
  {
   "cell_type": "code",
   "execution_count": null,
   "metadata": {},
   "outputs": [
    {
     "ename": "",
     "evalue": "",
     "output_type": "error",
     "traceback": [
      "\u001b[1;31mFailed to start the Kernel. \n",
      "\u001b[1;31mUnable to start Kernel 'anaconda3 (Python 3.10.9)' due to a timeout waiting for the ports to get used. \n",
      "\u001b[1;31mView Jupyter <a href='command:jupyter.viewOutput'>log</a> for further details."
     ]
    }
   ],
   "source": [
    "# Get value counts of production companies\n",
    "subcategory_counts = clean_df['subcategories'].value_counts()\n",
    "\n",
    "# Select the top 5 production companies\n",
    "top_subcategories = subcategory_counts[1:6]\n",
    "\n",
    "# Plot the top production companies\n",
    "plt.figure(figsize=(10, 6))\n",
    "top_subcategories.plot(kind='bar')\n",
    "plt.title('Top Subcategories Destinations')\n",
    "plt.xlabel('Subcategory')\n",
    "plt.ylabel('Count')\n",
    "plt.savefig('../Data/images/top_subcategories')\n",
    "plt.show()"
   ]
  },
  {
   "cell_type": "code",
   "execution_count": null,
   "metadata": {},
   "outputs": [
    {
     "ename": "",
     "evalue": "",
     "output_type": "error",
     "traceback": [
      "\u001b[1;31mFailed to start the Kernel. \n",
      "\u001b[1;31mUnable to start Kernel 'anaconda3 (Python 3.10.9)' due to a timeout waiting for the ports to get used. \n",
      "\u001b[1;31mView Jupyter <a href='command:jupyter.viewOutput'>log</a> for further details."
     ]
    }
   ],
   "source": [
    "# Plotting 'Subcategoris' (top 10)\n",
    "plt.figure(figsize=(10, 6))\n",
    "top_10_subcategories = clean_df['subcategories'].explode().value_counts().head(10)\n",
    "top_10_subcategories.plot(kind='bar')\n",
    "plt.title('Top 10 subcategories')\n",
    "plt.xlabel('Subcategory')\n",
    "plt.ylabel('Count')\n",
    "plt.savefig('../Data/images/top_10_subcategories_individually.png')\n",
    "plt.show()"
   ]
  },
  {
   "cell_type": "code",
   "execution_count": null,
   "metadata": {},
   "outputs": [
    {
     "ename": "",
     "evalue": "",
     "output_type": "error",
     "traceback": [
      "\u001b[1;31mFailed to start the Kernel. \n",
      "\u001b[1;31mUnable to start Kernel 'anaconda3 (Python 3.10.9)' due to a timeout waiting for the ports to get used. \n",
      "\u001b[1;31mView Jupyter <a href='command:jupyter.viewOutput'>log</a> for further details."
     ]
    }
   ],
   "source": [
    "# Histogram plots for each data\n",
    "# Select the numerical variables to plot\n",
    "num_cols_to_plot = clean_df.select_dtypes(include=['int64', 'float64']).columns.drop([])\n",
    "print(\"Columns to plot:\",num_cols_to_plot )\n",
    "# Create a histogram for each variable\n",
    "clean_df[num_cols_to_plot].hist(figsize=(25, 12))\n",
    "plt.savefig('../Data/images/Columnstoplot')\n",
    "plt.show()"
   ]
  },
  {
   "cell_type": "code",
   "execution_count": null,
   "metadata": {},
   "outputs": [],
   "source": [
    "# Detect outliers using z-score method\n",
    "zscore_threshold = 3  # Adjust this threshold based on your data and requirements\n",
    "outliers = df[(df['latitude'] >= -35) & (df['latitude'] <= 37) & (df['longitude'] >= -25) & (df['longitude'] <= 60) &\n",
    "                (np.abs(stats.zscore(df[['latitude', 'longitude']])) > zscore_threshold).any(axis=1)]\n",
    "\n",
    "# Replace outliers with NaN values in the original DataFrame\n",
    "df.loc[outliers.index, ['latitude', 'longitude']] = None\n",
    "\n",
    "\n",
    "# Define the map layout\n",
    "layout = go.Layout(\n",
    "    title='Places to visit by Location',\n",
    "    autosize=True,\n",
    "    hovermode='closest',\n",
    "    mapbox=dict(\n",
    "        style='stamen-terrain',\n",
    "        bearing=0,\n",
    "        center=dict(lat=8, lon=20),\n",
    "        pitch=0,\n",
    "        zoom=2\n",
    "    ),\n",
    ")\n",
    "\n",
    "# Define the map data as a scatter plot of the coordinates\n",
    "data = go.Scattermapbox(\n",
    "    lat=clean_df['latitude'],\n",
    "    lon=clean_df['longitude'],\n",
    "    mode='markers',\n",
    "    marker=dict(\n",
    "        size=5,\n",
    "        color=clean_df['rating'],\n",
    "        opacity=0.8\n",
    "    ),\n",
    "    text=['Price: ${}'.format(i) for i in clean_df['UpperPrice']],\n",
    "    hovertext = clean_df.apply(lambda x: f\"Ranking Type: ${x['RankingType']}, Location: {x['locationString']}\", axis=1),\n",
    ")\n",
    "\n",
    "\n",
    "# Create the map figure and show it\n",
    "fig = go.Figure(data=[data], layout=layout)\n",
    "plt.savefig('../Data/images/map')\n",
    "fig.show()"
   ]
  },
  {
   "cell_type": "code",
   "execution_count": null,
   "metadata": {},
   "outputs": [
    {
     "ename": "",
     "evalue": "",
     "output_type": "error",
     "traceback": [
      "\u001b[1;31mFailed to start the Kernel. \n",
      "\u001b[1;31mUnable to start Kernel 'anaconda3 (Python 3.10.9)' due to a timeout waiting for the ports to get used. \n",
      "\u001b[1;31mView Jupyter <a href='command:jupyter.viewOutput'>log</a> for further details."
     ]
    }
   ],
   "source": [
    "clean_df.columns"
   ]
  },
  {
   "cell_type": "code",
   "execution_count": null,
   "metadata": {},
   "outputs": [
    {
     "ename": "",
     "evalue": "",
     "output_type": "error",
     "traceback": [
      "\u001b[1;31mFailed to start the Kernel. \n",
      "\u001b[1;31mUnable to start Kernel 'anaconda3 (Python 3.10.9)' due to a timeout waiting for the ports to get used. \n",
      "\u001b[1;31mView Jupyter <a href='command:jupyter.viewOutput'>log</a> for further details."
     ]
    }
   ],
   "source": []
  },
  {
   "cell_type": "code",
   "execution_count": null,
   "metadata": {},
   "outputs": [
    {
     "ename": "",
     "evalue": "",
     "output_type": "error",
     "traceback": [
      "\u001b[1;31mFailed to start the Kernel. \n",
      "\u001b[1;31mUnable to start Kernel 'anaconda3 (Python 3.10.9)' due to a timeout waiting for the ports to get used. \n",
      "\u001b[1;31mView Jupyter <a href='command:jupyter.viewOutput'>log</a> for further details."
     ]
    }
   ],
   "source": [
    "\n"
   ]
  },
  {
   "cell_type": "code",
   "execution_count": null,
   "metadata": {},
   "outputs": [
    {
     "ename": "",
     "evalue": "",
     "output_type": "error",
     "traceback": [
      "\u001b[1;31mFailed to start the Kernel. \n",
      "\u001b[1;31mUnable to start Kernel 'anaconda3 (Python 3.10.9)' due to a timeout waiting for the ports to get used. \n",
      "\u001b[1;31mView Jupyter <a href='command:jupyter.viewOutput'>log</a> for further details."
     ]
    }
   ],
   "source": []
  },
  {
   "cell_type": "code",
   "execution_count": null,
   "metadata": {},
   "outputs": [
    {
     "ename": "",
     "evalue": "",
     "output_type": "error",
     "traceback": [
      "\u001b[1;31mFailed to start the Kernel. \n",
      "\u001b[1;31mUnable to start Kernel 'anaconda3 (Python 3.10.9)' due to a timeout waiting for the ports to get used. \n",
      "\u001b[1;31mView Jupyter <a href='command:jupyter.viewOutput'>log</a> for further details."
     ]
    }
   ],
   "source": [
    "# Select the variables you want to plot\n",
    "\n",
    "cols_to_plot = ['latitude', 'longitude', 'numberOfReviews', 'LowerPrice', 'UpperPrice']\n",
    "\n",
    "######## Create a subplot grid\n",
    "fig, axes = plt.subplots(nrows=1, ncols=len(cols_to_plot), figsize=(12, 12), sharey=True)\n",
    "\n",
    "####### Create a boxplot for each variable in a separate subplot\n",
    "for i, col in enumerate(cols_to_plot):\n",
    "    axes[i].boxplot(clean_df[col])\n",
    "    axes[i].set_title(col)\n",
    "    axes[i].tick_params(axis='both', which='major')\n",
    "\n",
    "# Adjust spacing between subplots\n",
    "plt.tight_layout()\n",
    "# save te figure\n",
    "# plt.savefig(r\"..Data/images/Outliers.png\")\n",
    "# Show the figure\n",
    "plt.show()"
   ]
  },
  {
   "cell_type": "code",
   "execution_count": null,
   "metadata": {},
   "outputs": [
    {
     "ename": "",
     "evalue": "",
     "output_type": "error",
     "traceback": [
      "\u001b[1;31mFailed to start the Kernel. \n",
      "\u001b[1;31mUnable to start Kernel 'anaconda3 (Python 3.10.9)' due to a timeout waiting for the ports to get used. \n",
      "\u001b[1;31mView Jupyter <a href='command:jupyter.viewOutput'>log</a> for further details."
     ]
    }
   ],
   "source": [
    "# Checking for outliers in the 'latitude' column\n",
    "plt.boxplot(clean_df['LowerPrice'])\n",
    "plt.xlabel(\"LowerPrice\", fontsize=12)\n",
    "plt.ylabel(\"Frequency\", fontsize=12)\n",
    "plt.title(\" Distribution\", fontsize=15)\n",
    "# save the figure\n",
    "#plt.savefig(\".data/images/popularity_outliers_plot\")\n",
    "plt.show()"
   ]
  },
  {
   "cell_type": "code",
   "execution_count": null,
   "metadata": {},
   "outputs": [
    {
     "ename": "",
     "evalue": "",
     "output_type": "error",
     "traceback": [
      "\u001b[1;31mFailed to start the Kernel. \n",
      "\u001b[1;31mUnable to start Kernel 'anaconda3 (Python 3.10.9)' due to a timeout waiting for the ports to get used. \n",
      "\u001b[1;31mView Jupyter <a href='command:jupyter.viewOutput'>log</a> for further details."
     ]
    }
   ],
   "source": [
    "# Checking for outliers in the 'popularity' column\n",
    "plt.boxplot(clean_df['UpperPrice'])\n",
    "plt.xlabel(\"UpperPrice\", fontsize=12)\n",
    "plt.ylabel(\"Frequency\", fontsize=12)\n",
    "plt.title(\" Distribution\", fontsize=15)\n",
    "# save the figure\n",
    "# plt.savefig(\".data/images/popularity_outliers_plot\")\n",
    "plt.show()"
   ]
  },
  {
   "cell_type": "code",
   "execution_count": null,
   "metadata": {},
   "outputs": [
    {
     "ename": "",
     "evalue": "",
     "output_type": "error",
     "traceback": [
      "\u001b[1;31mFailed to start the Kernel. \n",
      "\u001b[1;31mUnable to start Kernel 'anaconda3 (Python 3.10.9)' due to a timeout waiting for the ports to get used. \n",
      "\u001b[1;31mView Jupyter <a href='command:jupyter.viewOutput'>log</a> for further details."
     ]
    }
   ],
   "source": [
    "## Multicollinearity\n",
    "\n",
    "# Create a correlation matrix\n",
    "corr_matrix = clean_df.corr()\n",
    "# Create a fig size\n",
    "plt.figure(figsize=(16, 16))\n",
    "# Create a mask to show only the lower triangle\n",
    "mask = np.zeros_like(corr_matrix, dtype=bool)\n",
    "mask[np.triu_indices_from(mask)] = True\n",
    "# Plot the heatmap with the lower triangle mask applied\n",
    "sns.heatmap(corr_matrix, mask=mask, cmap='magma', center=0, annot=True)\n",
    "# Show the plot\n",
    "plt.show();\n",
    "# Save figure\n",
    "plt.savefig('../Data/images/multicollinearity.png')"
   ]
  },
  {
   "cell_type": "markdown",
   "metadata": {},
   "source": [
    "## Modelling"
   ]
  },
  {
   "cell_type": "markdown",
   "metadata": {},
   "source": [
    "Step 1: Prepare the data\n",
    "\n",
    "Load the sample data into a suitable data structure, such as a pandas DataFrame.\n",
    "Preprocess the data if necessary, including handling missing values, converting categorical variables to numerical representations, and normalizing numerical features.\n",
    "Step 2: Split the data\n",
    "\n",
    "Split the data into training and testing sets. Typically, an 80-20 split is used, but you can adjust the ratio based on the size of your dataset.\n",
    "Step 3: Choose recommendation models\n",
    "\n",
    "There are several recommendation models you can choose from, depending on the nature of your data and the problem you want to solve. Here are a few popular models:\n",
    "Collaborative Filtering: This approach recommends items based on users' past behavior and preferences.\n",
    "Content-Based Filtering: This approach recommends items based on the similarity between items' characteristics and users' preferences.\n",
    "Matrix Factorization: This approach decomposes the user-item rating matrix to find latent factors and make recommendations.\n",
    "Neural Networks: You can also use deep learning models like neural networks for recommendation tasks.\n",
    "Step 4: Train and evaluate the models\n",
    "\n",
    "For each model you choose, train it using the training set.\n",
    "Evaluate the trained model's performance using appropriate evaluation metrics such as precision, recall, or Mean Average Precision (MAP).\n",
    "Repeat the training and evaluation process for each model.\n",
    "\n",
    "Step 5: Choose the best model\n",
    "\n",
    "Compare the performance of the different models based on the evaluation metrics.\n",
    "Select the model that performs best according to your evaluation criteria.\n",
    "\n",
    "Step 6: Fine-tune and optimize the chosen model\n",
    "\n",
    "Once you have selected the best model, you can further fine-tune and optimize its hyperparameters using techniques like cross-validation or grid search.\n",
    "\n",
    "Step 7: Deploy the recommendation system\n",
    "\n",
    "Once you are satisfied with the performance of your chosen and optimized model, you can deploy it to make real-time recommendations."
   ]
  },
  {
   "cell_type": "code",
   "execution_count": null,
   "metadata": {},
   "outputs": [
    {
     "ename": "",
     "evalue": "",
     "output_type": "error",
     "traceback": [
      "\u001b[1;31mFailed to start the Kernel. \n",
      "\u001b[1;31mUnable to start Kernel 'anaconda3 (Python 3.10.9)' due to a timeout waiting for the ports to get used. \n",
      "\u001b[1;31mView Jupyter <a href='command:jupyter.viewOutput'>log</a> for further details."
     ]
    }
   ],
   "source": [
    "clean_df.columns"
   ]
  },
  {
   "cell_type": "code",
   "execution_count": null,
   "metadata": {},
   "outputs": [
    {
     "ename": "",
     "evalue": "",
     "output_type": "error",
     "traceback": [
      "\u001b[1;31mFailed to start the Kernel. \n",
      "\u001b[1;31mUnable to start Kernel 'anaconda3 (Python 3.10.9)' due to a timeout waiting for the ports to get used. \n",
      "\u001b[1;31mView Jupyter <a href='command:jupyter.viewOutput'>log</a> for further details."
     ]
    }
   ],
   "source": [
    "clean_df[['id', 'rating','name', 'Rank', 'Total','regional_rating','subcategories', 'RankingType', 'locationString','country','city', 'LowerPrice', 'UpperPrice']]\n"
   ]
  },
  {
   "cell_type": "markdown",
   "metadata": {},
   "source": [
    "### 1. Prepare the data"
   ]
  },
  {
   "cell_type": "markdown",
   "metadata": {},
   "source": [
    "##### * Dealing with outliers in the numerical columns"
   ]
  },
  {
   "cell_type": "code",
   "execution_count": null,
   "metadata": {},
   "outputs": [
    {
     "ename": "",
     "evalue": "",
     "output_type": "error",
     "traceback": [
      "\u001b[1;31mFailed to start the Kernel. \n",
      "\u001b[1;31mUnable to start Kernel 'anaconda3 (Python 3.10.9)' due to a timeout waiting for the ports to get used. \n",
      "\u001b[1;31mView Jupyter <a href='command:jupyter.viewOutput'>log</a> for further details."
     ]
    }
   ],
   "source": [
    "from sklearn.cluster import KMeans\n",
    "\n",
    "# Select the numerical features for clustering\n",
    "#numerical_columns = clean_df.select_dtypes(include=[np.number]).columns\n",
    "#numerical_data = clean_df[numerical_columns]\n",
    "\n",
    "# Apply K-means clustering\n",
    "#kmeans = KMeans(n_clusters=3)  # Specify the number of clusters\n",
    "#kmeans.fit(numerical_data)\n",
    "\n",
    "# Assign each data point to a cluster\n",
    "#labels = kmeans.labels_\n",
    "\n",
    "# Identify the cluster with the outliers\n",
    "#outlier_cluster = np.argmax(np.bincount(labels))\n",
    "\n",
    "# Remove the rows belonging to the outlier cluster\n",
    "#clean_df = clean_df[labels != outlier_cluster]\n"
   ]
  },
  {
   "cell_type": "code",
   "execution_count": null,
   "metadata": {},
   "outputs": [
    {
     "ename": "",
     "evalue": "",
     "output_type": "error",
     "traceback": [
      "\u001b[1;31mFailed to start the Kernel. \n",
      "\u001b[1;31mUnable to start Kernel 'anaconda3 (Python 3.10.9)' due to a timeout waiting for the ports to get used. \n",
      "\u001b[1;31mView Jupyter <a href='command:jupyter.viewOutput'>log</a> for further details."
     ]
    }
   ],
   "source": [
    "clean_df.shape"
   ]
  },
  {
   "cell_type": "markdown",
   "metadata": {},
   "source": [
    "#### * Cleaning and transforming textual data"
   ]
  },
  {
   "cell_type": "code",
   "execution_count": null,
   "metadata": {},
   "outputs": [
    {
     "ename": "",
     "evalue": "",
     "output_type": "error",
     "traceback": [
      "\u001b[1;31mFailed to start the Kernel. \n",
      "\u001b[1;31mUnable to start Kernel 'anaconda3 (Python 3.10.9)' due to a timeout waiting for the ports to get used. \n",
      "\u001b[1;31mView Jupyter <a href='command:jupyter.viewOutput'>log</a> for further details."
     ]
    }
   ],
   "source": [
    "textual_data = clean_df[['subcategories', 'RankingType', 'locationString', 'country', 'city', 'amenities']]\n",
    "textual_data"
   ]
  },
  {
   "cell_type": "code",
   "execution_count": null,
   "metadata": {},
   "outputs": [
    {
     "ename": "",
     "evalue": "",
     "output_type": "error",
     "traceback": [
      "\u001b[1;31mFailed to start the Kernel. \n",
      "\u001b[1;31mUnable to start Kernel 'anaconda3 (Python 3.10.9)' due to a timeout waiting for the ports to get used. \n",
      "\u001b[1;31mView Jupyter <a href='command:jupyter.viewOutput'>log</a> for further details."
     ]
    }
   ],
   "source": [
    "# Convert object columns to categorical\n",
    "clean_df['type'] = clean_df['type'].astype('category')\n",
    "clean_df['amenities'] = clean_df['amenities'].astype('category')\n",
    "clean_df['subcategories'] = clean_df['subcategories'].astype('category')\n",
    "#clean_df['locationString'] = clean_df['locationString'].astype('category')"
   ]
  },
  {
   "cell_type": "code",
   "execution_count": null,
   "metadata": {},
   "outputs": [
    {
     "ename": "",
     "evalue": "",
     "output_type": "error",
     "traceback": [
      "\u001b[1;31mFailed to start the Kernel. \n",
      "\u001b[1;31mUnable to start Kernel 'anaconda3 (Python 3.10.9)' due to a timeout waiting for the ports to get used. \n",
      "\u001b[1;31mView Jupyter <a href='command:jupyter.viewOutput'>log</a> for further details."
     ]
    }
   ],
   "source": [
    "# Create a list of unique values in the column\n",
    "unique_subcategory_values = list(clean_df[\"subcategories\"].unique())\n",
    "\n",
    "# Create a dictionary that maps each unique value to a unique number\n",
    "subcategory_map = {}\n",
    "for index, value in enumerate(unique_subcategory_values):\n",
    "    subcategory_map[value] = index + 1\n",
    "    \n",
    "# Create a new column with the encoded values\n",
    "clean_df['subcategories_mapped'] = clean_df['subcategories'].map(subcategory_map)\n"
   ]
  },
  {
   "cell_type": "code",
   "execution_count": null,
   "metadata": {},
   "outputs": [
    {
     "ename": "",
     "evalue": "",
     "output_type": "error",
     "traceback": [
      "\u001b[1;31mFailed to start the Kernel. \n",
      "\u001b[1;31mUnable to start Kernel 'anaconda3 (Python 3.10.9)' due to a timeout waiting for the ports to get used. \n",
      "\u001b[1;31mView Jupyter <a href='command:jupyter.viewOutput'>log</a> for further details."
     ]
    }
   ],
   "source": [
    "# Create a list of unique values in the column\n",
    "unique_ammenities_values = list(clean_df[\"amenities\"].unique())\n",
    "\n",
    "# Create a dictionary that maps each unique value to a unique number\n",
    "amenities_mapping = {}\n",
    "for index, value in enumerate(unique_ammenities_values):\n",
    "    amenities_mapping[value] = index + 1\n",
    "\n",
    "# Use the map() function to map the values in the column to their respective numbers\n",
    "clean_df[\"amenities_mapped\"] = clean_df[\"amenities\"].map(amenities_mapping)"
   ]
  },
  {
   "cell_type": "code",
   "execution_count": null,
   "metadata": {},
   "outputs": [
    {
     "ename": "",
     "evalue": "",
     "output_type": "error",
     "traceback": [
      "\u001b[1;31mFailed to start the Kernel. \n",
      "\u001b[1;31mUnable to start Kernel 'anaconda3 (Python 3.10.9)' due to a timeout waiting for the ports to get used. \n",
      "\u001b[1;31mView Jupyter <a href='command:jupyter.viewOutput'>log</a> for further details."
     ]
    }
   ],
   "source": [
    "# Create a list of unique values in the column\n",
    "unique_RankingType_values = list(clean_df[\"RankingType\"].unique())\n",
    "\n",
    "# Create a dictionary that maps each unique value to a unique number\n",
    "RankingType_mapping = {}\n",
    "for index, value in enumerate(unique_RankingType_values):\n",
    "    RankingType_mapping[value] = index + 1\n",
    "\n",
    "# Use the map() function to map the values in the column to their respective numbers\n",
    "clean_df[\"RankingType_mapped\"] = clean_df[\"RankingType\"].map(RankingType_mapping)"
   ]
  },
  {
   "cell_type": "code",
   "execution_count": null,
   "metadata": {},
   "outputs": [
    {
     "ename": "",
     "evalue": "",
     "output_type": "error",
     "traceback": [
      "\u001b[1;31mFailed to start the Kernel. \n",
      "\u001b[1;31mUnable to start Kernel 'anaconda3 (Python 3.10.9)' due to a timeout waiting for the ports to get used. \n",
      "\u001b[1;31mView Jupyter <a href='command:jupyter.viewOutput'>log</a> for further details."
     ]
    }
   ],
   "source": [
    "# Create a list of unique values in the column\n",
    "unique_locationString_values = list(clean_df[\"locationString\"].unique())\n",
    "\n",
    "# Create a dictionary that maps each unique value to a unique number\n",
    "locationString_mapping = {}\n",
    "for index, value in enumerate(unique_locationString_values):\n",
    "    locationString_mapping[value] = index + 1\n",
    "\n",
    "# Use the map() function to map the values in the column to their respective numbers\n",
    "clean_df[\"locationString_mapped\"] = clean_df[\"locationString\"].map(locationString_mapping)"
   ]
  },
  {
   "cell_type": "code",
   "execution_count": null,
   "metadata": {},
   "outputs": [
    {
     "ename": "",
     "evalue": "",
     "output_type": "error",
     "traceback": [
      "\u001b[1;31mFailed to start the Kernel. \n",
      "\u001b[1;31mUnable to start Kernel 'anaconda3 (Python 3.10.9)' due to a timeout waiting for the ports to get used. \n",
      "\u001b[1;31mView Jupyter <a href='command:jupyter.viewOutput'>log</a> for further details."
     ]
    }
   ],
   "source": [
    "# Create a list of unique values in the column\n",
    "unique_country_values = list(clean_df[\"country\"].unique())\n",
    "\n",
    "# Create a dictionary that maps each unique value to a unique number\n",
    "country_mapping = {}\n",
    "for index, value in enumerate(unique_country_values):\n",
    "    country_mapping[value] = index + 1\n",
    "\n",
    "# Use the map() function to map the values in the column to their respective numbers\n",
    "clean_df[\"country_mapped\"] = clean_df[\"country\"].map(country_mapping)"
   ]
  },
  {
   "cell_type": "code",
   "execution_count": null,
   "metadata": {},
   "outputs": [
    {
     "ename": "",
     "evalue": "",
     "output_type": "error",
     "traceback": [
      "\u001b[1;31mFailed to start the Kernel. \n",
      "\u001b[1;31mUnable to start Kernel 'anaconda3 (Python 3.10.9)' due to a timeout waiting for the ports to get used. \n",
      "\u001b[1;31mView Jupyter <a href='command:jupyter.viewOutput'>log</a> for further details."
     ]
    }
   ],
   "source": [
    "# Create a list of unique values in the column\n",
    "unique_type_values = list(clean_df[\"type\"].unique())\n",
    "\n",
    "# Create a dictionary that maps each unique value to a unique number\n",
    "type_mapping = {}\n",
    "for index, value in enumerate(unique_type_values):\n",
    "    type_mapping[value] = index + 1\n",
    "\n",
    "# Use the map() function to map the values in the column to their respective numbers\n",
    "clean_df[\"type_mapped\"] = clean_df[\"type\"].map(type_mapping)"
   ]
  },
  {
   "cell_type": "code",
   "execution_count": null,
   "metadata": {},
   "outputs": [
    {
     "ename": "",
     "evalue": "",
     "output_type": "error",
     "traceback": [
      "\u001b[1;31mFailed to start the Kernel. \n",
      "\u001b[1;31mUnable to start Kernel 'anaconda3 (Python 3.10.9)' due to a timeout waiting for the ports to get used. \n",
      "\u001b[1;31mView Jupyter <a href='command:jupyter.viewOutput'>log</a> for further details."
     ]
    }
   ],
   "source": [
    "clean_df.head()"
   ]
  },
  {
   "cell_type": "markdown",
   "metadata": {},
   "source": [
    "### * GridSearch"
   ]
  },
  {
   "cell_type": "code",
   "execution_count": null,
   "metadata": {},
   "outputs": [
    {
     "ename": "",
     "evalue": "",
     "output_type": "error",
     "traceback": [
      "\u001b[1;31mFailed to start the Kernel. \n",
      "\u001b[1;31mUnable to start Kernel 'anaconda3 (Python 3.10.9)' due to a timeout waiting for the ports to get used. \n",
      "\u001b[1;31mView Jupyter <a href='command:jupyter.viewOutput'>log</a> for further details."
     ]
    }
   ],
   "source": [
    "\n",
    "\n",
    "# 3. Define the feature space\n",
    "#features = ['rating', 'Rank', 'Total', 'regional_rating', 'amenities_mapped', 'RankingType_mapped', 'locationString_mapped','country_mapped', 'type_mapped']\n",
    "\n",
    "# 4. Define the model and parameter grid\n",
    "#model = SVR()\n",
    "#param_grid = {'C': [0.1, 1, 10], 'kernel': ['linear', 'rbf']}\n",
    "\n",
    "# 5. Split the data\n",
    "#X = clean_df[features]\n",
    "#y = clean_df['subcategories_mapped']\n",
    "#X_train, X_test, y_train, y_test = train_test_split(X, y, test_size=0.2, random_state=42)\n",
    "\n",
    "# 6. Perform grid search\n",
    "#grid_search = GridSearchCV(model, param_grid, scoring='neg_mean_squared_error')\n",
    "#grid_search.fit(X_train, y_train)\n",
    "\n",
    "# 7. Fit the data\n",
    "#best_model = grid_search.best_estimator_\n",
    "\n",
    "# 8. Evaluate the results\n",
    "#best_params = grid_search.best_params_\n",
    "#mse = -grid_search.best_score_\n",
    "#rmse = np.sqrt(mse)\n",
    "\n",
    "# Print the best parameters and evaluation metrics\n",
    "#print(\"Best Parameters:\", best_params)\n",
    "#print(\"RMSE:\", rmse)"
   ]
  },
  {
   "cell_type": "code",
   "execution_count": null,
   "metadata": {},
   "outputs": [
    {
     "ename": "",
     "evalue": "",
     "output_type": "error",
     "traceback": [
      "\u001b[1;31mFailed to start the Kernel. \n",
      "\u001b[1;31mUnable to start Kernel 'anaconda3 (Python 3.10.9)' due to a timeout waiting for the ports to get used. \n",
      "\u001b[1;31mView Jupyter <a href='command:jupyter.viewOutput'>log</a> for further details."
     ]
    }
   ],
   "source": [
    "clean_df.info()"
   ]
  },
  {
   "cell_type": "code",
   "execution_count": null,
   "metadata": {},
   "outputs": [
    {
     "ename": "",
     "evalue": "",
     "output_type": "error",
     "traceback": [
      "\u001b[1;31mFailed to start the Kernel. \n",
      "\u001b[1;31mUnable to start Kernel 'anaconda3 (Python 3.10.9)' due to a timeout waiting for the ports to get used. \n",
      "\u001b[1;31mView Jupyter <a href='command:jupyter.viewOutput'>log</a> for further details."
     ]
    }
   ],
   "source": []
  },
  {
   "cell_type": "markdown",
   "metadata": {},
   "source": [
    "### * Nrmalization and Standardization"
   ]
  },
  {
   "cell_type": "code",
   "execution_count": null,
   "metadata": {},
   "outputs": [
    {
     "ename": "",
     "evalue": "",
     "output_type": "error",
     "traceback": [
      "\u001b[1;31mFailed to start the Kernel. \n",
      "\u001b[1;31mUnable to start Kernel 'anaconda3 (Python 3.10.9)' due to a timeout waiting for the ports to get used. \n",
      "\u001b[1;31mView Jupyter <a href='command:jupyter.viewOutput'>log</a> for further details."
     ]
    }
   ],
   "source": [
    "# Select the numerical columns for normalization\n",
    "numerical_columns = ['rating', 'Rank', 'Total', 'regional_rating', 'LowerPrice', 'UpperPrice']\n",
    "\n",
    "# Normalize the numerical columns\n",
    "scaler = normalize\n",
    "normalized_data = clean_df.copy()\n",
    "normalized_data[numerical_columns] = scaler(clean_df[numerical_columns])"
   ]
  },
  {
   "cell_type": "code",
   "execution_count": null,
   "metadata": {},
   "outputs": [
    {
     "ename": "",
     "evalue": "",
     "output_type": "error",
     "traceback": [
      "\u001b[1;31mFailed to start the Kernel. \n",
      "\u001b[1;31mUnable to start Kernel 'anaconda3 (Python 3.10.9)' due to a timeout waiting for the ports to get used. \n",
      "\u001b[1;31mView Jupyter <a href='command:jupyter.viewOutput'>log</a> for further details."
     ]
    }
   ],
   "source": [
    "clean_df.dtypes\n"
   ]
  },
  {
   "cell_type": "markdown",
   "metadata": {},
   "source": [
    "### Baseline Model"
   ]
  },
  {
   "cell_type": "code",
   "execution_count": null,
   "metadata": {},
   "outputs": [
    {
     "ename": "",
     "evalue": "",
     "output_type": "error",
     "traceback": [
      "\u001b[1;31mFailed to start the Kernel. \n",
      "\u001b[1;31mUnable to start Kernel 'anaconda3 (Python 3.10.9)' due to a timeout waiting for the ports to get used. \n",
      "\u001b[1;31mView Jupyter <a href='command:jupyter.viewOutput'>log</a> for further details."
     ]
    }
   ],
   "source": [
    "# Load the data into Surprise Dataset format\n",
    "reader = Reader(rating_scale=(1, 5))\n",
    "data = Dataset.load_from_df(clean_df[['id', 'Rank', 'rating']], reader)\n",
    "\n",
    "# Split the data into train and test sets\n",
    "trainset, testset = train_test_split(data, test_size=0.2, random_state=42)\n",
    "\n",
    "# Train the model\n",
    "model = KNNBasic(random_state=42)\n",
    "model.fit(trainset)\n",
    "\n",
    "# Evaluate the model\n",
    "predictions1 = model.test(testset)\n",
    "accuracy1 = sup_accuracy.rmse(predictions1)\n",
    "mae1 = sup_accuracy.mae(predictions1)"
   ]
  },
  {
   "cell_type": "markdown",
   "metadata": {},
   "source": [
    "The RMSE (Root Mean Squared Error) measures the average difference between the actual ratings and the predicted ratings. A lower RMSE value indicates better accuracy, as it means the model's predictions are closer to the actual ratings.\n",
    "\n",
    "The MAE (Mean Absolute Error) measures the average absolute difference between the actual ratings and the predicted ratings. Like RMSE, a lower MAE value indicates better accuracy.\n",
    "\n",
    "In this case, the model achieved a relatively low RMSE of 0.7981 and a low MAE of 0.5355, indicating that the model's predictions are quite accurate and have a small deviation from the actual ratings.\n",
    "\n",
    "Overall, these evaluation results suggest that the model trained using the KNNBasic algorithm performs well in predicting ratings for the test set."
   ]
  },
  {
   "cell_type": "code",
   "execution_count": null,
   "metadata": {},
   "outputs": [
    {
     "ename": "",
     "evalue": "",
     "output_type": "error",
     "traceback": [
      "\u001b[1;31mFailed to start the Kernel. \n",
      "\u001b[1;31mUnable to start Kernel 'anaconda3 (Python 3.10.9)' due to a timeout waiting for the ports to get used. \n",
      "\u001b[1;31mView Jupyter <a href='command:jupyter.viewOutput'>log</a> for further details."
     ]
    }
   ],
   "source": [
    "for prediction in predictions1:\n",
    "    print(f\"Predicted rating: {prediction.est:.2f}\")\n",
    "    print(f\"Actual rating: {prediction.r_ui:.2f}\")\n",
    "    print(\"---\")"
   ]
  },
  {
   "cell_type": "code",
   "execution_count": null,
   "metadata": {},
   "outputs": [
    {
     "ename": "",
     "evalue": "",
     "output_type": "error",
     "traceback": [
      "\u001b[1;31mFailed to start the Kernel. \n",
      "\u001b[1;31mUnable to start Kernel 'anaconda3 (Python 3.10.9)' due to a timeout waiting for the ports to get used. \n",
      "\u001b[1;31mView Jupyter <a href='command:jupyter.viewOutput'>log</a> for further details."
     ]
    }
   ],
   "source": [
    "threshold = 3  # Define the threshold for positive predictions\n",
    "\n",
    "true_positives = 0\n",
    "false_positives = 0\n",
    "false_negatives = 0\n",
    "\n",
    "for prediction in predictions1:\n",
    "    if prediction.est >= threshold:\n",
    "        if prediction.r_ui >= threshold:\n",
    "            true_positives += 1\n",
    "        else:\n",
    "            false_positives += 1\n",
    "    elif prediction.r_ui >= threshold:\n",
    "        false_negatives += 1\n",
    "\n",
    "precision1 = true_positives / (true_positives + false_positives)\n",
    "recall1 = true_positives / (true_positives + false_negatives)\n",
    "\n",
    "print(f\"Precision: {precision1:.2f}\")\n",
    "print(f\"Recall: {recall1:.2f}\")\n"
   ]
  },
  {
   "cell_type": "markdown",
   "metadata": {},
   "source": [
    "Precision: Precision measures the proportion of correctly predicted positive instances out of all instances predicted as positive. It indicates how accurate the model is when it predicts positive instances. A precision score of 0.97 means that 97% of the instances predicted as positive were actually positive.\n",
    "\n",
    "Recall: Recall, also known as sensitivity or true positive rate, measures the proportion of correctly predicted positive instances out of all actual positive instances. It indicates how well the model captures the positive instances. A recall score of 1.00 means that the model successfully identified all positive instances."
   ]
  },
  {
   "cell_type": "code",
   "execution_count": null,
   "metadata": {},
   "outputs": [
    {
     "ename": "",
     "evalue": "",
     "output_type": "error",
     "traceback": [
      "\u001b[1;31mFailed to start the Kernel. \n",
      "\u001b[1;31mUnable to start Kernel 'anaconda3 (Python 3.10.9)' due to a timeout waiting for the ports to get used. \n",
      "\u001b[1;31mView Jupyter <a href='command:jupyter.viewOutput'>log</a> for further details."
     ]
    }
   ],
   "source": []
  },
  {
   "cell_type": "code",
   "execution_count": null,
   "metadata": {},
   "outputs": [
    {
     "ename": "",
     "evalue": "",
     "output_type": "error",
     "traceback": [
      "\u001b[1;31mFailed to start the Kernel. \n",
      "\u001b[1;31mUnable to start Kernel 'anaconda3 (Python 3.10.9)' due to a timeout waiting for the ports to get used. \n",
      "\u001b[1;31mView Jupyter <a href='command:jupyter.viewOutput'>log</a> for further details."
     ]
    }
   ],
   "source": []
  },
  {
   "cell_type": "markdown",
   "metadata": {},
   "source": [
    "The RMSE (Root Mean Squared Error) value of 0.7598 indicates the average prediction error of the model on the test set. A lower RMSE value indicates better accuracy of the model's predictions.\n",
    "\n",
    "In the context of collaborative filtering recommendation systems, the RMSE represents how well the model is able to predict user ratings for items. A lower RMSE implies that the model is better at predicting user preferences and provides more accurate recommendations."
   ]
  },
  {
   "cell_type": "markdown",
   "metadata": {},
   "source": [
    "RMSE of 0.7598 suggests that the model has reasonably good predictive performance. as can be observed below."
   ]
  },
  {
   "cell_type": "code",
   "execution_count": null,
   "metadata": {},
   "outputs": [
    {
     "ename": "",
     "evalue": "",
     "output_type": "error",
     "traceback": [
      "\u001b[1;31mFailed to start the Kernel. \n",
      "\u001b[1;31mUnable to start Kernel 'anaconda3 (Python 3.10.9)' due to a timeout waiting for the ports to get used. \n",
      "\u001b[1;31mView Jupyter <a href='command:jupyter.viewOutput'>log</a> for further details."
     ]
    }
   ],
   "source": [
    "clean_df.columns"
   ]
  },
  {
   "cell_type": "code",
   "execution_count": null,
   "metadata": {},
   "outputs": [
    {
     "ename": "",
     "evalue": "",
     "output_type": "error",
     "traceback": [
      "\u001b[1;31mFailed to start the Kernel. \n",
      "\u001b[1;31mUnable to start Kernel 'anaconda3 (Python 3.10.9)' due to a timeout waiting for the ports to get used. \n",
      "\u001b[1;31mView Jupyter <a href='command:jupyter.viewOutput'>log</a> for further details."
     ]
    }
   ],
   "source": [
    "# Load the data into Surprise Dataset format\n",
    "reader = Reader(rating_scale=(1, 5))\n",
    "data = Dataset.load_from_df(clean_df[['id', 'Rank', 'rating']], reader)\n",
    "\n",
    "# Split the data into train and test sets\n",
    "trainset, testset = train_test_split(data, test_size=0.2, random_state=42)\n",
    "\n",
    "# Train the model\n",
    "model2 = SVD(random_state=42)\n",
    "model2.fit(trainset)\n",
    "\n",
    "# Evaluate the model\n",
    "predictions2 = model2.test(testset)\n",
    "accuracy2 = sup_accuracy.rmse(predictions2)\n",
    "mae2 = sup_accuracy.mae(predictions2)"
   ]
  },
  {
   "cell_type": "markdown",
   "metadata": {},
   "source": [
    "the model performs almost the same as the Baseline"
   ]
  },
  {
   "cell_type": "code",
   "execution_count": null,
   "metadata": {},
   "outputs": [
    {
     "ename": "",
     "evalue": "",
     "output_type": "error",
     "traceback": [
      "\u001b[1;31mFailed to start the Kernel. \n",
      "\u001b[1;31mUnable to start Kernel 'anaconda3 (Python 3.10.9)' due to a timeout waiting for the ports to get used. \n",
      "\u001b[1;31mView Jupyter <a href='command:jupyter.viewOutput'>log</a> for further details."
     ]
    }
   ],
   "source": [
    "for prediction in predictions2:\n",
    "    print(f\"Predicted rating: {prediction.est:.2f}\")\n",
    "    print(f\"Actual rating: {prediction.r_ui:.2f}\")\n",
    "    print(\"---\")"
   ]
  },
  {
   "cell_type": "markdown",
   "metadata": {},
   "source": [
    "In the code below, we will iterate over the predictions and increment the corresponding counters based on the predicted ratings and actual ratings. Then, we calculate precision by dividing the number of true positives by the sum of true positives and false positives. Recall is calculated by dividing the number of true positives by the sum of true positives and false negatives.\n",
    "\n",
    "Note that this calculation assumes a binary classification problem where ratings above the threshold are considered positive and ratings below the threshold are considered negative. "
   ]
  },
  {
   "cell_type": "code",
   "execution_count": null,
   "metadata": {},
   "outputs": [
    {
     "ename": "",
     "evalue": "",
     "output_type": "error",
     "traceback": [
      "\u001b[1;31mFailed to start the Kernel. \n",
      "\u001b[1;31mUnable to start Kernel 'anaconda3 (Python 3.10.9)' due to a timeout waiting for the ports to get used. \n",
      "\u001b[1;31mView Jupyter <a href='command:jupyter.viewOutput'>log</a> for further details."
     ]
    }
   ],
   "source": [
    "threshold = 3  # Define the threshold for positive predictions\n",
    "\n",
    "true_positives = 0\n",
    "false_positives = 0\n",
    "false_negatives = 0\n",
    "\n",
    "for prediction in predictions2:\n",
    "    if prediction.est >= threshold:\n",
    "        if prediction.r_ui >= threshold:\n",
    "            true_positives += 1\n",
    "        else:\n",
    "            false_positives += 1\n",
    "    elif prediction.r_ui >= threshold:\n",
    "        false_negatives += 1\n",
    "\n",
    "precision2 = true_positives / (true_positives + false_positives)\n",
    "recall2 = true_positives / (true_positives + false_negatives)\n",
    "\n",
    "print(f\"Precision: {precision2:.2f}\")\n",
    "print(f\"Recall: {recall2:.2f}\")\n"
   ]
  },
  {
   "cell_type": "markdown",
   "metadata": {},
   "source": [
    "Precision measures the proportion of correctly predicted positive instances out of all instances predicted as positive. It indicates how accurate the model is when it predicts positive instances. A precision score of 0.97 means that 97% of the instances predicted as positive were actually positive.\n",
    "\n",
    "Recall, also known as sensitivity or true positive rate, measures the proportion of correctly predicted positive instances out of all actual positive instances. It indicates how well the model captures the positive instances. A recall score of 1.00 means that the model successfully identified all positive instances."
   ]
  },
  {
   "cell_type": "code",
   "execution_count": null,
   "metadata": {},
   "outputs": [
    {
     "ename": "",
     "evalue": "",
     "output_type": "error",
     "traceback": [
      "\u001b[1;31mFailed to start the Kernel. \n",
      "\u001b[1;31mUnable to start Kernel 'anaconda3 (Python 3.10.9)' due to a timeout waiting for the ports to get used. \n",
      "\u001b[1;31mView Jupyter <a href='command:jupyter.viewOutput'>log</a> for further details."
     ]
    }
   ],
   "source": [
    "# Load the data into Surprise Dataset format\n",
    "reader = Reader(rating_scale=(1, 5))\n",
    "data = Dataset.load_from_df(clean_df[['id', 'regional_rating', 'rating']], reader)\n",
    "\n",
    "# Split the data into train and test sets\n",
    "trainset, testset = train_test_split(data, test_size=0.2, random_state=42)\n",
    "\n",
    "# Train the model\n",
    "model3 = KNNBasic(random_state=42)\n",
    "model3.fit(trainset)\n",
    "\n",
    "# Evaluate the model\n",
    "predictions3 = model3.test(testset)\n",
    "accuracy3 = sup_accuracy.rmse(predictions3)\n",
    "mae3 = sup_accuracy.mae(predictions3)\n",
    "threshold = 3  # Define the threshold for positive predictions\n",
    "\n",
    "true_positives = 0\n",
    "false_positives = 0\n",
    "false_negatives = 0\n",
    "\n",
    "for prediction in predictions3:\n",
    "    if prediction.est >= threshold:\n",
    "        if prediction.r_ui >= threshold:\n",
    "            true_positives += 1\n",
    "        else:\n",
    "            false_positives += 1\n",
    "    elif prediction.r_ui >= threshold:\n",
    "        false_negatives += 1\n",
    "\n",
    "precision3 = true_positives / (true_positives + false_positives)\n",
    "recall3 = true_positives / (true_positives + false_negatives)\n",
    "\n",
    "print(f\"Precision: {precision3:.2f}\")\n",
    "print(f\"Recall: {recall3:.2f}\")"
   ]
  },
  {
   "cell_type": "markdown",
   "metadata": {},
   "source": [
    "Precision: 0.97\n",
    "Precision is a metric that measures the proportion of correctly predicted positive ratings (relevant items) out of the total items predicted as positive. A precision of 0.97 indicates that the model's predictions for positive ratings are highly accurate, with a high proportion of correctly predicted relevant items.\n",
    "\n",
    "Recall: 1.00\n",
    "Recall is a metric that measures the proportion of correctly predicted positive ratings (relevant items) out of the total actual positive ratings. A recall of 1.00 indicates that the model is able to capture all the relevant items in its predictions, without missing any.\n",
    "\n",
    "These additional metrics provide insights into the model's performance in terms of precision and recall. A high precision indicates that the model's positive predictions are reliable, while a high recall indicates that the model is able to identify most of the relevant items.\n",
    "\n",
    "Overall, the model seems to perform well, with high precision and recall values, in addition to the low RMSE and MAE values previously mentioned. This suggests that the model is accurate in its predictions and can successfully identify relevant items."
   ]
  },
  {
   "cell_type": "code",
   "execution_count": null,
   "metadata": {},
   "outputs": [
    {
     "ename": "",
     "evalue": "",
     "output_type": "error",
     "traceback": [
      "\u001b[1;31mFailed to start the Kernel. \n",
      "\u001b[1;31mUnable to start Kernel 'anaconda3 (Python 3.10.9)' due to a timeout waiting for the ports to get used. \n",
      "\u001b[1;31mView Jupyter <a href='command:jupyter.viewOutput'>log</a> for further details."
     ]
    }
   ],
   "source": [
    "# Load the data into Surprise Dataset format\n",
    "reader = Reader(rating_scale=(1, 5))\n",
    "data = Dataset.load_from_df(clean_df[['id', 'regional_rating', 'rating']], reader)\n",
    "\n",
    "# Split the data into train and test sets\n",
    "trainset, testset = train_test_split(data, test_size=0.2, random_state=42)\n",
    "\n",
    "# Train the model\n",
    "model4 = SVD(random_state=42)\n",
    "model4.fit(trainset)\n",
    "\n",
    "# Evaluate the model\n",
    "predictions4 = model4.test(testset)\n",
    "accuracy4 = sup_accuracy.rmse(predictions4)\n",
    "mae4 = sup_accuracy.mae(predictions4)\n",
    "threshold = 3  # Define the threshold for positive predictions\n",
    "\n",
    "true_positives = 0\n",
    "false_positives = 0\n",
    "false_negatives = 0\n",
    "\n",
    "for prediction in predictions4:\n",
    "    if prediction.est >= threshold:\n",
    "        if prediction.r_ui >= threshold:\n",
    "            true_positives += 1\n",
    "        else:\n",
    "            false_positives += 1\n",
    "    elif prediction.r_ui >= threshold:\n",
    "        false_negatives += 1\n",
    "\n",
    "precision4 = true_positives / (true_positives + false_positives)\n",
    "recall4 = true_positives / (true_positives + false_negatives)\n",
    "\n",
    "print(f\"Precision: {precision4:.2f}\")\n",
    "print(f\"Recall: {recall4:.2f}\")"
   ]
  },
  {
   "cell_type": "markdown",
   "metadata": {},
   "source": [
    "This model performs just as well as the above"
   ]
  },
  {
   "cell_type": "code",
   "execution_count": null,
   "metadata": {},
   "outputs": [
    {
     "ename": "",
     "evalue": "",
     "output_type": "error",
     "traceback": [
      "\u001b[1;31mFailed to start the Kernel. \n",
      "\u001b[1;31mUnable to start Kernel 'anaconda3 (Python 3.10.9)' due to a timeout waiting for the ports to get used. \n",
      "\u001b[1;31mView Jupyter <a href='command:jupyter.viewOutput'>log</a> for further details."
     ]
    }
   ],
   "source": [
    "# Load the data into Surprise Dataset format\n",
    "reader = Reader(rating_scale=(1, 5))\n",
    "data = Dataset.load_from_df(clean_df[['id', 'regional_rating', 'rating']], reader)\n",
    "\n",
    "# Split the data into train and test sets\n",
    "trainset, testset = train_test_split(data, test_size=0.2, random_state=42)\n",
    "\n",
    "# Train the model\n",
    "model5 = NMF(random_state=42)\n",
    "model5.fit(trainset)\n",
    "\n",
    "# Evaluate the model\n",
    "predictions5 = model5.test(testset)\n",
    "accuracy5 = sup_accuracy.rmse(predictions5)\n",
    "mae5 = sup_accuracy.mae(predictions5)\n",
    "threshold = 3  # Define the threshold for positive predictions\n",
    "\n",
    "true_positives = 0\n",
    "false_positives = 0\n",
    "false_negatives = 0\n",
    "\n",
    "for prediction in predictions5:\n",
    "    if prediction.est >= threshold:\n",
    "        if prediction.r_ui >= threshold:\n",
    "            true_positives += 1\n",
    "        else:\n",
    "            false_positives += 1\n",
    "    elif prediction.r_ui >= threshold:\n",
    "        false_negatives += 1\n",
    "\n",
    "precision5 = true_positives / (true_positives + false_positives)\n",
    "recall5 = true_positives / (true_positives + false_negatives)\n",
    "\n",
    "print(f\"Precision: {precision5:.2f}\")\n",
    "print(f\"Recall: {recall5:.2f}\")"
   ]
  },
  {
   "cell_type": "markdown",
   "metadata": {},
   "source": [
    "This model also does not change in performance"
   ]
  },
  {
   "cell_type": "code",
   "execution_count": null,
   "metadata": {},
   "outputs": [
    {
     "ename": "",
     "evalue": "",
     "output_type": "error",
     "traceback": [
      "\u001b[1;31mFailed to start the Kernel. \n",
      "\u001b[1;31mUnable to start Kernel 'anaconda3 (Python 3.10.9)' due to a timeout waiting for the ports to get used. \n",
      "\u001b[1;31mView Jupyter <a href='command:jupyter.viewOutput'>log</a> for further details."
     ]
    }
   ],
   "source": [
    "# model with KNNwithMeans\n",
    "# Load the data into Surprise Dataset format\n",
    "reader = Reader(rating_scale=(1, 5))\n",
    "data = Dataset.load_from_df(clean_df[['id', 'subcategories', 'rating']], reader)\n",
    "\n",
    "# Split the data into train and test sets\n",
    "trainset, testset = train_test_split(data, test_size=0.2, random_state=42)\n",
    "\n",
    "# Define the item-based collaborative filtering model\n",
    "model6 = KNNWithMeans(sim_options={'user_based': False})\n",
    "\n",
    "# Train the model\n",
    "model6.fit(trainset)\n",
    "\n",
    "# Make predictions on the test set\n",
    "predictions6 = model6.test(testset)\n",
    "\n",
    "# Evaluate the model using RMSE\n",
    "rmse_score6 = sup_accuracy.rmse(predictions6)\n",
    "mae6 = sup_accuracy.mae(predictions6)\n",
    "#print(\"MAE:\", mae6)"
   ]
  },
  {
   "cell_type": "markdown",
   "metadata": {},
   "source": [
    " In this case, the RMSE value is 0.7981, indicating that, on average, the predicted values deviate from the actual values by 0.7981. Lower values of RMSE indicate better accuracy. The MAE value of 0.5355 suggests that, on average, the predicted values deviate from the actual values by 0.5355. Like RMSE, lower values of MAE indicate better accuracy."
   ]
  },
  {
   "cell_type": "code",
   "execution_count": null,
   "metadata": {},
   "outputs": [
    {
     "ename": "",
     "evalue": "",
     "output_type": "error",
     "traceback": [
      "\u001b[1;31mFailed to start the Kernel. \n",
      "\u001b[1;31mUnable to start Kernel 'anaconda3 (Python 3.10.9)' due to a timeout waiting for the ports to get used. \n",
      "\u001b[1;31mView Jupyter <a href='command:jupyter.viewOutput'>log</a> for further details."
     ]
    }
   ],
   "source": []
  },
  {
   "cell_type": "code",
   "execution_count": null,
   "metadata": {},
   "outputs": [
    {
     "ename": "",
     "evalue": "",
     "output_type": "error",
     "traceback": [
      "\u001b[1;31mFailed to start the Kernel. \n",
      "\u001b[1;31mUnable to start Kernel 'anaconda3 (Python 3.10.9)' due to a timeout waiting for the ports to get used. \n",
      "\u001b[1;31mView Jupyter <a href='command:jupyter.viewOutput'>log</a> for further details."
     ]
    }
   ],
   "source": [
    "\n",
    "\n",
    "# Load the data into Surprise Dataset format\n",
    "reader = Reader(rating_scale=(1, 5))\n",
    "data = Dataset.load_from_df(clean_df[['id', 'regional_rating', 'rating']], reader)\n",
    "\n",
    "# Split the data into train and test sets\n",
    "trainset, testset = train_test_split(data, test_size=0.2, random_state=42)\n",
    "\n",
    "# Train the model\n",
    "model7 = SVDpp(random_state=42)\n",
    "model7.fit(trainset)\n",
    "\n",
    "# Evaluate the model\n",
    "predictions7 = model7.test(testset)\n",
    "\n",
    "# Extract the actual ratings and predicted ratings from the predictions\n",
    "actual_ratings = [pred.r_ui for pred in predictions7]\n",
    "predicted_ratings = [pred.est for pred in predictions7]\n",
    "\n",
    "# Calculate the R-squared value\n",
    "r_squared = r2_score(actual_ratings, predicted_ratings)\n",
    "rmse_score7 = sup_accuracy.rmse(predictions7)\n",
    "mae7 = sup_accuracy.mae(predictions7)\n",
    "# Calculate the R-squared value using Surprise's accuracy module\n",
    "# r_squared = accuracy.rsquared(predictions)\n",
    "# Print the R-squared value\n",
    "print(\"R-squared:\", r_squared) \n"
   ]
  },
  {
   "cell_type": "markdown",
   "metadata": {},
   "source": [
    "RMSE: 0.7897\n",
    "RMSE (Root Mean Squared Error) is a metric that measures the average magnitude of the differences between the predicted ratings and the actual ratings. A lower RMSE value indicates that the model's predictions are closer to the actual ratings, suggesting better accuracy.\n",
    "\n",
    "MAE: 0.5364\n",
    "MAE (Mean Absolute Error) is a metric that measures the average magnitude of the differences between the predicted ratings and the actual ratings, without considering the direction of the differences. Like RMSE, a lower MAE value indicates better accuracy in the model's predictions.\n",
    "\n",
    "R-squared: 0.0208\n",
    "R-squared is a statistical metric that represents the proportion of the variance in the dependent variable (actual ratings) that can be explained by the independent variable (predicted ratings). An R-squared value of 0.0208 suggests that only a small portion of the variance in the actual ratings can be explained by the predicted ratings. In other words, the model's predictions may not capture the full complexity of the data and may have limited explanatory power.\n",
    "\n",
    "Based on these metrics, the model has relatively low RMSE and MAE values, indicating good accuracy in its predictions. However, the low R-squared value suggests that the model may not fully capture the underlying patterns in the data and may have limited predictive power."
   ]
  },
  {
   "cell_type": "markdown",
   "metadata": {},
   "source": [
    "We will check the other models performance based on the r squared metric to see how they performed. "
   ]
  },
  {
   "cell_type": "code",
   "execution_count": null,
   "metadata": {},
   "outputs": [
    {
     "ename": "",
     "evalue": "",
     "output_type": "error",
     "traceback": [
      "\u001b[1;31mFailed to start the Kernel. \n",
      "\u001b[1;31mUnable to start Kernel 'anaconda3 (Python 3.10.9)' due to a timeout waiting for the ports to get used. \n",
      "\u001b[1;31mView Jupyter <a href='command:jupyter.viewOutput'>log</a> for further details."
     ]
    }
   ],
   "source": [
    "# Extract the actual ratings and predicted ratings from the predictions\n",
    "actual_ratings1 = [pred.r_ui for pred in predictions1]\n",
    "predicted_ratings1 = [pred.est for pred in predictions1]\n",
    "\n",
    "# Extract the actual ratings and predicted ratings from the predictions\n",
    "actual_ratings2 = [pred.r_ui for pred in predictions2]\n",
    "predicted_ratings2 = [pred.est for pred in predictions2]\n",
    "\n",
    "# Extract the actual ratings and predicted ratings from the predictions\n",
    "actual_ratings3 = [pred.r_ui for pred in predictions3]\n",
    "predicted_ratings3 = [pred.est for pred in predictions3]\n",
    "\n",
    "# Extract the actual ratings and predicted ratings from the predictions\n",
    "actual_ratings4 = [pred.r_ui for pred in predictions4]\n",
    "predicted_ratings4 = [pred.est for pred in predictions4]\n",
    "\n",
    "# Extract the actual ratings and predicted ratings from the predictions\n",
    "actual_ratings5 = [pred.r_ui for pred in predictions5]\n",
    "predicted_ratings5 = [pred.est for pred in predictions5]\n",
    "\n",
    "# Extract the actual ratings and predicted ratings from the predictions\n",
    "actual_ratings6 = [pred.r_ui for pred in predictions6]\n",
    "predicted_ratings6 = [pred.est for pred in predictions6]\n",
    "\n",
    "# Extract the actual ratings and predicted ratings from the predictions\n",
    "actual_ratings7 = [pred.r_ui for pred in predictions7]\n",
    "predicted_ratings7 = [pred.est for pred in predictions7]\n",
    "\n",
    "# List of predictions and corresponding names\n",
    "prediction_sets = [\n",
    "    (predictions1, \"Predictions 1\"),\n",
    "    (predictions2, \"Predictions 2\"),\n",
    "    (predictions3, \"Predictions 3\"),\n",
    "    (predictions4, \"Predictions 4\"),\n",
    "    (predictions5, \"Predictions 5\"),\n",
    "    (predictions6, \"Predictions 6\"),\n",
    "    (predictions7, \"Predictions 7\")\n",
    "]\n",
    "\n",
    "# Iterate over the prediction sets\n",
    "for predictions, name in prediction_sets:\n",
    "    # Extract the actual ratings and predicted ratings from the predictions\n",
    "    actual_ratings = [pred.r_ui for pred in predictions]\n",
    "    predicted_ratings = [pred.est for pred in predictions]\n",
    "\n",
    "    # Print the results\n",
    "    print(\"Results for\", name)\n",
    "    print(\"Actual Ratings:\", actual_ratings)\n",
    "    print(\"Predicted Ratings:\", predicted_ratings)\n",
    "    print()\n",
    "\n"
   ]
  },
  {
   "cell_type": "code",
   "execution_count": null,
   "metadata": {},
   "outputs": [
    {
     "ename": "",
     "evalue": "",
     "output_type": "error",
     "traceback": [
      "\u001b[1;31mFailed to start the Kernel. \n",
      "\u001b[1;31mUnable to start Kernel 'anaconda3 (Python 3.10.9)' due to a timeout waiting for the ports to get used. \n",
      "\u001b[1;31mView Jupyter <a href='command:jupyter.viewOutput'>log</a> for further details."
     ]
    }
   ],
   "source": [
    "# List of actual ratings and predicted ratings\n",
    "actual_ratings_list = [actual_ratings1, actual_ratings2, actual_ratings3, actual_ratings4, actual_ratings5, actual_ratings6, actual_ratings7 ]\n",
    "predicted_ratings_list = [predicted_ratings1, predicted_ratings2, predicted_ratings3, predicted_ratings4, predicted_ratings5, predicted_ratings6, predicted_ratings7]\n",
    "\n",
    "# Loop through the ratings lists\n",
    "for i in range(len(actual_ratings_list)):\n",
    "    actual_ratings = actual_ratings_list[i]\n",
    "    predicted_ratings = predicted_ratings_list[i]\n",
    "    \n",
    "    # Calculate the R-squared value\n",
    "    r_squared = r2_score(actual_ratings, predicted_ratings)\n",
    "    \n",
    "    # Print the R-squared value\n",
    "    print(f\"R-squared for Set {i+1}: {r_squared}\")"
   ]
  },
  {
   "cell_type": "markdown",
   "metadata": {},
   "source": [
    "R-squared measures the proportion of the variance in the dependent variable that is predictable from the independent variables. A higher value indicates a better fit of the model to the data. In this case, the R-squared values are negative, which suggests that the model does not fit the data well and may not be providing meaningful predictions."
   ]
  },
  {
   "cell_type": "code",
   "execution_count": null,
   "metadata": {},
   "outputs": [
    {
     "ename": "",
     "evalue": "",
     "output_type": "error",
     "traceback": [
      "\u001b[1;31mFailed to start the Kernel. \n",
      "\u001b[1;31mUnable to start Kernel 'anaconda3 (Python 3.10.9)' due to a timeout waiting for the ports to get used. \n",
      "\u001b[1;31mView Jupyter <a href='command:jupyter.viewOutput'>log</a> for further details."
     ]
    }
   ],
   "source": [
    "from sklearn.preprocessing import MinMaxScaler\n",
    "clean_df_scaled = clean_df[[ 'id', 'regional_rating', 'rating']]\n",
    "# Apply MinMaxScaler to 'rating' and 'Rank' columns\n",
    "scaler = MinMaxScaler()\n",
    "clean_df_scaled[['rating', 'regional_rating']] = scaler.fit_transform(clean_df[['rating', 'regional_rating']])\n",
    "\n",
    "clean_df_scaled[['id', 'rating', 'regional_rating']]"
   ]
  },
  {
   "cell_type": "code",
   "execution_count": null,
   "metadata": {},
   "outputs": [
    {
     "ename": "",
     "evalue": "",
     "output_type": "error",
     "traceback": [
      "\u001b[1;31mFailed to start the Kernel. \n",
      "\u001b[1;31mUnable to start Kernel 'anaconda3 (Python 3.10.9)' due to a timeout waiting for the ports to get used. \n",
      "\u001b[1;31mView Jupyter <a href='command:jupyter.viewOutput'>log</a> for further details."
     ]
    }
   ],
   "source": [
    "# Load the data into Surprise Dataset format\n",
    "reader = Reader(rating_scale=(1, 5))\n",
    "data = Dataset.load_from_df(clean_df_scaled[['id','regional_rating', 'rating']], reader)\n",
    "\n",
    "# Split the data into train and test sets\n",
    "trainset, testset = train_test_split(data, test_size=0.2, random_state=42)\n",
    "\n",
    "# Define the item-based collaborative filtering model\n",
    "model8 = SVDpp(random_state=42)\n",
    "\n",
    "# Train the model\n",
    "model8.fit(trainset)\n",
    "\n",
    "# Make predictions on the test set\n",
    "predictions8 = model8.test(testset)\n",
    "\n",
    "# Evaluate the model using RMSE\n",
    "rmse_score8 = sup_accuracy.rmse(predictions8)\n",
    "mae8 = sup_accuracy.mae(predictions8)\n",
    "\n",
    "# Extract the actual ratings and predicted ratings from the predictions\n",
    "actual_ratings8 = [pred.r_ui for pred in predictions8]\n",
    "predicted_ratings8 = [pred.est for pred in predictions8]\n",
    "\n",
    "# Calculate the R-squared value\n",
    "r_squared8 = r2_score(actual_ratings8, predicted_ratings8)\n",
    "print(\"R-squared:\", r_squared8) "
   ]
  },
  {
   "cell_type": "markdown",
   "metadata": {},
   "source": [
    "RMSE: 0.1842\n",
    "RMSE (Root Mean Squared Error) is a metric that measures the average magnitude of the differences between the predicted values and the actual values. A lower RMSE value indicates that the model's predictions are closer to the actual values, suggesting better accuracy.\n",
    "\n",
    "MAE: 0.0920\n",
    "MAE (Mean Absolute Error) is a metric that measures the average magnitude of the differences between the predicted values and the actual values, without considering the direction of the differences. Like RMSE, a lower MAE value indicates better accuracy in the model's predictions.\n",
    "\n",
    "R-squared: -0.3321\n",
    "R-squared is a statistical metric that represents the proportion of the variance in the dependent variable (actual values) that can be explained by the independent variable (predicted values). A negative R-squared value suggests that the model does not capture the underlying patterns in the data and has limited predictive power. It indicates that the model's predictions are not significantly better than simply using the mean value of the dependent variable as the prediction.\n",
    "\n",
    "Based on these metrics, the model has low RMSE and MAE values, indicating good accuracy in its predictions. However, the negative R-squared value suggests that the model may not be a good fit for the data and is not able to explain the variance in the actual values. "
   ]
  },
  {
   "cell_type": "code",
   "execution_count": null,
   "metadata": {},
   "outputs": [
    {
     "ename": "",
     "evalue": "",
     "output_type": "error",
     "traceback": [
      "\u001b[1;31mFailed to start the Kernel. \n",
      "\u001b[1;31mUnable to start Kernel 'anaconda3 (Python 3.10.9)' due to a timeout waiting for the ports to get used. \n",
      "\u001b[1;31mView Jupyter <a href='command:jupyter.viewOutput'>log</a> for further details."
     ]
    }
   ],
   "source": [
    "# Load the data into Surprise Dataset format\n",
    "reader = Reader(rating_scale=(1, 5))\n",
    "data = Dataset.load_from_df(normalized_data[['id', 'regional_rating', 'rating']], reader)\n",
    "\n",
    "# Split the data into train and test sets\n",
    "trainset, testset = train_test_split(data, test_size=0.2, random_state=42)\n",
    "\n",
    "# Define the item-based collaborative filtering model\n",
    "model9 = SVDpp(random_state=42)\n",
    "\n",
    "# Train the model\n",
    "model9.fit(trainset)\n",
    "\n",
    "# Make predictions on the test set\n",
    "predictions9 = model9.test(testset)\n",
    "\n",
    "# Evaluate the model using RMSE\n",
    "rmse_score9 = sup_accuracy.rmse(predictions9)\n",
    "mae9 = sup_accuracy.mae(predictions9)\n",
    "\n",
    "# Extract the actual ratings and predicted ratings from the predictions\n",
    "actual_ratings9 = [pred.r_ui for pred in predictions9]\n",
    "predicted_ratings9 = [pred.est for pred in predictions9]\n",
    "\n",
    "# Calculate the R-squared value\n",
    "r_squared9 = r2_score(actual_ratings9, predicted_ratings9)\n",
    "print(\"R-squared:\", r_squared9) "
   ]
  },
  {
   "cell_type": "markdown",
   "metadata": {},
   "source": [
    "RMSE: 0.9944\n",
    "RMSE (Root Mean Squared Error) is a metric that measures the average magnitude of the differences between the predicted values and the actual values. A lower RMSE value indicates that the model's predictions are closer to the actual values, suggesting better accuracy.\n",
    "\n",
    "MAE: 0.9944\n",
    "MAE (Mean Absolute Error) is a metric that measures the average magnitude of the differences between the predicted values and the actual values, without considering the direction of the differences. Like RMSE, a lower MAE value indicates better accuracy in the model's predictions.\n",
    "\n",
    "R-squared: -22346.1757\n",
    "R-squared is a statistical metric that represents the proportion of the variance in the dependent variable (actual values) that can be explained by the independent variable (predicted values). A negative R-squared value suggests that the model does not capture the underlying patterns in the data and has limited predictive power. It indicates that the model's predictions are not significantly better than simply using the mean value of the dependent variable as the prediction.\n",
    "\n",
    "Based on these metrics, the model has high RMSE and MAE values, indicating lower accuracy in its predictions. Additionally, the negative R-squared value suggests that the model is not able to explain the variance in the actual values and is not a good fit for the data. "
   ]
  },
  {
   "cell_type": "code",
   "execution_count": null,
   "metadata": {},
   "outputs": [
    {
     "ename": "",
     "evalue": "",
     "output_type": "error",
     "traceback": [
      "\u001b[1;31mFailed to start the Kernel. \n",
      "\u001b[1;31mUnable to start Kernel 'anaconda3 (Python 3.10.9)' due to a timeout waiting for the ports to get used. \n",
      "\u001b[1;31mView Jupyter <a href='command:jupyter.viewOutput'>log</a> for further details."
     ]
    }
   ],
   "source": [
    "# Load the data into Surprise Dataset format\n",
    "reader = Reader(rating_scale=(1, 5))\n",
    "data = Dataset.load_from_df(normalized_data[['id', 'regional_rating', 'rating']], reader)\n",
    "\n",
    "# Build the full dataset with item attributes\n",
    "item_attributes = normalized_data[['id', 'subcategories', 'locationString']]\n",
    "data_feat = data.build_full_trainset()\n",
    "data_feat.item_attributes = item_attributes\n",
    "\n",
    "# Define the item-based collaborative filtering model\n",
    "model10 = NMF( random_state=42)\n",
    "\n",
    "# Train the model\n",
    "model10.fit(data_feat)\n",
    "\n",
    "# Make predictions on the test set\n",
    "predictions10 = model10.test(testset)\n",
    "\n",
    "# Evaluate the model using RMSE\n",
    "rmse_score10 = sup_accuracy.rmse(predictions10)\n",
    "mae10 = sup_accuracy.mae(predictions10)\n",
    "\n",
    "# Extract the actual ratings and predicted ratings from the predictions\n",
    "actual_ratings10 = [pred.r_ui for pred in predictions10]\n",
    "predicted_ratings10 = [pred.est for pred in predictions10]\n",
    "\n",
    "# Calculate the R-squared value\n",
    "r_squared10 = r2_score(actual_ratings10, predicted_ratings10)\n",
    "print(\"R-squared:\", r_squared10) \n",
    "\n"
   ]
  },
  {
   "cell_type": "markdown",
   "metadata": {},
   "source": [
    "The RMSE and MAE values are identical, indicating that both models have the same average deviation between the actual ratings and the predicted ratings. Similarly, the R-squared value shows that both models explain a similar proportion of variance in the actual ratings.\n",
    "\n",
    "Based on these evaluation results, we can conclude that the two models perform similarly in terms of predicting ratings for the test set. However, it's worth noting that the code for Model 2 also includes additional functionality to make item-based recommendations for a specific item."
   ]
  },
  {
   "cell_type": "code",
   "execution_count": null,
   "metadata": {},
   "outputs": [
    {
     "ename": "",
     "evalue": "",
     "output_type": "error",
     "traceback": [
      "\u001b[1;31mFailed to start the Kernel. \n",
      "\u001b[1;31mUnable to start Kernel 'anaconda3 (Python 3.10.9)' due to a timeout waiting for the ports to get used. \n",
      "\u001b[1;31mView Jupyter <a href='command:jupyter.viewOutput'>log</a> for further details."
     ]
    }
   ],
   "source": [
    "# Load the data into Surprise Dataset format\n",
    "reader = Reader(rating_scale=(1, 5))\n",
    "data = Dataset.load_from_df(clean_df_scaled[['id', 'regional_rating', 'rating']], reader)\n",
    "\n",
    "# Split the data into train and test sets\n",
    "trainset, testset = train_test_split(data, test_size=0.2, random_state=42)\n",
    "\n",
    "# Define the item-based collaborative filtering model with regularization\n",
    "model11 = SVDpp(reg_all=0.01, random_state=42)\n",
    "\n",
    "# Train the model\n",
    "model11.fit(trainset)\n",
    "\n",
    "# Make predictions on the test set\n",
    "predictions11 = model11.test(testset)\n",
    "\n",
    "# Evaluate the model using RMSE\n",
    "rmse_score11 = sup_accuracy.rmse(predictions11)\n",
    "mae11 = sup_accuracy.mae(predictions11)\n",
    "\n",
    "# Extract the actual ratings and predicted ratings from the predictions\n",
    "actual_ratings11 = [pred.r_ui for pred in predictions11]\n",
    "predicted_ratings11 = [pred.est for pred in predictions11]\n",
    "\n",
    "# Calculate the R-squared value\n",
    "r_squared11 = r2_score(actual_ratings11, predicted_ratings11)\n",
    "print(\"R-squared:\", r_squared11)\n"
   ]
  },
  {
   "cell_type": "markdown",
   "metadata": {},
   "source": [
    "RMSE (Root Mean Squared Error) measures the average difference between the actual ratings and the predicted ratings. A lower RMSE value indicates better accuracy.\n",
    "MAE (Mean Absolute Error) measures the average absolute difference between the actual ratings and the predicted ratings. A lower MAE value indicates better accuracy.\n",
    "R-squared is a statistical measure that represents the proportion of the variance in the dependent variable (actual ratings) that can be explained by the independent variables (predicted ratings). A higher R-squared value indicates a better fit of the model to the data.\n",
    "In this case, the model has achieved a low RMSE and MAE, which indicates good accuracy in predicting the ratings. However, the negative R-squared value suggests that the model does not fit the data well and performs worse than a simple mean model."
   ]
  },
  {
   "cell_type": "code",
   "execution_count": null,
   "metadata": {},
   "outputs": [
    {
     "ename": "",
     "evalue": "",
     "output_type": "error",
     "traceback": [
      "\u001b[1;31mFailed to start the Kernel. \n",
      "\u001b[1;31mUnable to start Kernel 'anaconda3 (Python 3.10.9)' due to a timeout waiting for the ports to get used. \n",
      "\u001b[1;31mView Jupyter <a href='command:jupyter.viewOutput'>log</a> for further details."
     ]
    }
   ],
   "source": [
    "from surprise.model_selection import cross_validate\n",
    "# Load the data into Surprise Dataset format\n",
    "reader = Reader(rating_scale=(1, 5))\n",
    "data = Dataset.load_from_df(clean_df_scaled[['id', 'regional_rating', 'rating']], reader)\n",
    "# Define the model\n",
    "model12 = SVDpp()\n",
    "# Perform cross-validation\n",
    "cv_results = cross_validate(model12, data, measures=['RMSE'], cv=5, verbose=True)\n",
    "# Access the RMSE scores for each fold\n",
    "rmse_scores = cv_results['test_rmse']\n",
    "# Calculate the average RMSE\n",
    "avg_rmse = sum(rmse_scores) / len(rmse_scores)\n",
    "print(\"Cross-Validation Results\")\n",
    "print(\"RMSE Scores:\", rmse_scores)\n",
    "print(\"Average RMSE:\", avg_rmse)"
   ]
  },
  {
   "cell_type": "code",
   "execution_count": null,
   "metadata": {},
   "outputs": [
    {
     "ename": "",
     "evalue": "",
     "output_type": "error",
     "traceback": [
      "\u001b[1;31mFailed to start the Kernel. \n",
      "\u001b[1;31mUnable to start Kernel 'anaconda3 (Python 3.10.9)' due to a timeout waiting for the ports to get used. \n",
      "\u001b[1;31mView Jupyter <a href='command:jupyter.viewOutput'>log</a> for further details."
     ]
    }
   ],
   "source": [
    "from collections import defaultdict\n",
    "\n",
    "def calculate_precision_recall(predictions, threshold):\n",
    "    true_positives = 0\n",
    "    false_positives = 0\n",
    "    false_negatives = 0\n",
    "    \n",
    "    for prediction in predictions:\n",
    "        if prediction.est >= threshold:\n",
    "            if prediction.r_ui >= threshold:\n",
    "                true_positives += 1\n",
    "            else:\n",
    "                false_positives += 1\n",
    "        elif prediction.r_ui >= threshold:\n",
    "            false_negatives += 1\n",
    "    \n",
    "    precision = true_positives / (true_positives + false_positives)\n",
    "    recall = true_positives / (true_positives + false_negatives)\n",
    "    \n",
    "    return precision, recall\n",
    "\n",
    "def calculate_topn_hit_rate(predictions, topn):\n",
    "    total_users = len(set([pred.uid for pred in predictions]))\n",
    "    topn_hits = 0\n",
    "    \n",
    "    user_ratings = defaultdict(list)\n",
    "    for pred in predictions:\n",
    "        user_ratings[pred.uid].append((pred.iid, pred.est))\n",
    "    \n",
    "    for uid, ratings in user_ratings.items():\n",
    "        ratings.sort(key=lambda x: x[1], reverse=True)\n",
    "        topn_predictions = [iid for (iid, _) in ratings[:topn]]\n",
    "        if uid in topn_predictions:\n",
    "            topn_hits += 1\n",
    "    \n",
    "    hit_rate = topn_hits / total_users\n",
    "    \n",
    "    return hit_rate\n",
    "\n",
    "def evaluate_prediction_sets(prediction_sets, threshold, topn):\n",
    "    for predictions, name in prediction_sets:\n",
    "        precision, recall = calculate_precision_recall(predictions, threshold)\n",
    "        hit_rate = calculate_topn_hit_rate(predictions, topn)\n",
    "        \n",
    "        print(\"Results for\", name)\n",
    "        print(f\"Precision: {precision:.2f}\")\n",
    "        print(f\"Recall: {recall:.2f}\")\n",
    "        print(f\"Top-{topn} Hit Rate: {hit_rate:.2f}\")\n",
    "        print()\n"
   ]
  },
  {
   "cell_type": "code",
   "execution_count": null,
   "metadata": {},
   "outputs": [
    {
     "ename": "",
     "evalue": "",
     "output_type": "error",
     "traceback": [
      "\u001b[1;31mFailed to start the Kernel. \n",
      "\u001b[1;31mUnable to start Kernel 'anaconda3 (Python 3.10.9)' due to a timeout waiting for the ports to get used. \n",
      "\u001b[1;31mView Jupyter <a href='command:jupyter.viewOutput'>log</a> for further details."
     ]
    }
   ],
   "source": [
    "\n",
    "# Usage example\n",
    "prediction_sets = [\n",
    "    (predictions1, \"Predictions 1\"),\n",
    "    (predictions2, \"Predictions 2\"),\n",
    "    (predictions3, \"Predictions 3\"),\n",
    "    (predictions4, \"Predictions 4\"),\n",
    "    (predictions5, \"Predictions 5\"),\n",
    "    (predictions6, \"Predictions 6\"),\n",
    "    (predictions7, \"Predictions 7\"),\n",
    "    (predictions6, \"Predictions 8\"),\n",
    "    (predictions6, \"Predictions 9\"),\n",
    "    (predictions6, \"Predictions 10\"),\n",
    "    (predictions6, \"Predictions 11\"),\n",
    "]\n",
    "\n",
    "threshold = 3.5\n",
    "topn = 5\n",
    "\n",
    "evaluate_prediction_sets(prediction_sets, threshold, topn)\n"
   ]
  },
  {
   "cell_type": "markdown",
   "metadata": {},
   "source": [
    "The findings indicate that for all sets of predictions, the precision is 0.94, which means that out of the items recommended, 94% of them are actually relevant to the users. The recall is 1.00, indicating that all the relevant items are successfully retrieved among the recommendations. However, the top-5 hit rate is 0.00, suggesting that none of the top 5 recommended items were relevant to the users.\n",
    "\n",
    "This implies that while the recommendations have high precision and recall, they fail to capture the users' preferences in the top 5 recommendations, this might be due to the fact that we do not have any user input in this dataset.  "
   ]
  },
  {
   "cell_type": "markdown",
   "metadata": {},
   "source": [
    "#### Ensemble Methods"
   ]
  },
  {
   "cell_type": "markdown",
   "metadata": {},
   "source": [
    "Ensemble methods combine multiple base models to improve the overall predictive performance.\n",
    "We use the voting-based ensemble method called \"Majority Voting\" or \"Voting Classifier\". This method combines the predictions from multiple base models and selects the recommendation with the majority of votes."
   ]
  },
  {
   "cell_type": "code",
   "execution_count": null,
   "metadata": {},
   "outputs": [
    {
     "ename": "",
     "evalue": "",
     "output_type": "error",
     "traceback": [
      "\u001b[1;31mFailed to start the Kernel. \n",
      "\u001b[1;31mUnable to start Kernel 'anaconda3 (Python 3.10.9)' due to a timeout waiting for the ports to get used. \n",
      "\u001b[1;31mView Jupyter <a href='command:jupyter.viewOutput'>log</a> for further details."
     ]
    }
   ],
   "source": [
    "\n",
    "# Convert Surprise Dataset to pandas DataFrame\n",
    "df = pd.DataFrame(clean_df_scaled[['id', 'regional_rating', 'rating']])\n",
    "\n",
    "# Load the data into Surprise Dataset format\n",
    "reader = Reader(rating_scale=(1, 5))\n",
    "data = Dataset.load_from_df(df, reader)\n",
    "\n",
    "# Split the data into train and test sets\n",
    "trainset, testset = train_test_split(data, test_size=0.2, random_state=42)\n",
    "\n",
    "# Define the base models\n",
    "models = [\n",
    "    NMF(random_state=42),\n",
    "    SVD(random_state=42),\n",
    "    SVDpp(random_state=42)\n",
    "]\n",
    "\n",
    "# Train the base models\n",
    "model_predictions = []\n",
    "for model in models:\n",
    "    model.fit(trainset)\n",
    "    predictions = model.test(testset)\n",
    "    model_predictions.append(predictions)\n",
    "\n",
    "# Combine the predictions from the base models\n",
    "blended_predictions = []\n",
    "for i in range(len(testset)):\n",
    "    ratings = [pred[i].est for pred in model_predictions]\n",
    "    blended_rating = sum(ratings) / len(ratings)\n",
    "    user, item, true_rating = testset[i]\n",
    "    blended_predictions.append((user, item, true_rating, blended_rating, None))\n",
    "\n",
    "# Evaluate the blended predictions\n",
    "blended_rmse = sup_accuracy.rmse(blended_predictions)\n",
    "blended_mae = sup_accuracy.mae(blended_predictions)\n",
    "\n",
    "print(\"Blended RMSE:\", blended_rmse)\n",
    "print(\"Blended MAE:\", blended_mae)"
   ]
  },
  {
   "cell_type": "markdown",
   "metadata": {},
   "source": [
    "The output provided is the result of evaluating the blended predictions using the Root Mean Square Error (RMSE) and Mean Absolute Error (MAE) metrics. The RMSE value is approximately 0.1820, and the MAE value is approximately 0.1157. These metrics are used to assess the accuracy of the predictions made by the blended model.\n",
    "\n",
    "The RMSE measures the average difference between the predicted ratings and the true ratings on a scale from 0 to 5. A lower RMSE indicates better accuracy, with 0 being a perfect match between the predicted and true ratings.\n",
    "\n",
    "The MAE measures the average absolute difference between the predicted ratings and the true ratings. Like RMSE, a lower MAE value indicates better accuracy, with 0 being a perfect match between the predicted and true ratings.\n",
    "\n",
    "In this case, the blended model achieved an RMSE of 0.1820 and an MAE of 0.1157, which suggests that the predictions are relatively accurate and close to the true ratings."
   ]
  },
  {
   "cell_type": "markdown",
   "metadata": {},
   "source": []
  },
  {
   "cell_type": "markdown",
   "metadata": {},
   "source": []
  },
  {
   "cell_type": "markdown",
   "metadata": {},
   "source": []
  },
  {
   "cell_type": "code",
   "execution_count": null,
   "metadata": {},
   "outputs": [
    {
     "ename": "",
     "evalue": "",
     "output_type": "error",
     "traceback": [
      "\u001b[1;31mFailed to start the Kernel. \n",
      "\u001b[1;31mUnable to start Kernel 'anaconda3 (Python 3.10.9)' due to a timeout waiting for the ports to get used. \n",
      "\u001b[1;31mView Jupyter <a href='command:jupyter.viewOutput'>log</a> for further details."
     ]
    }
   ],
   "source": [
    "#def calculate_mae(predictions):\n",
    "    # Compute MAE for the provided predictions\n",
    "    #mae = sup_accuracy.mae(predictions)\n",
    "    #return mae"
   ]
  },
  {
   "cell_type": "code",
   "execution_count": null,
   "metadata": {},
   "outputs": [
    {
     "ename": "",
     "evalue": "",
     "output_type": "error",
     "traceback": [
      "\u001b[1;31mFailed to start the Kernel. \n",
      "\u001b[1;31mUnable to start Kernel 'anaconda3 (Python 3.10.9)' due to a timeout waiting for the ports to get used. \n",
      "\u001b[1;31mView Jupyter <a href='command:jupyter.viewOutput'>log</a> for further details."
     ]
    }
   ],
   "source": [
    "#functon to create RMSE and MAE\n",
    "#def calculate_metrics(data):\n",
    "    # Split the data into train and test sets\n",
    "    #trainset, testset = train_test_split(data, test_size=0.2)\n",
    "    # Train the model\n",
    "    #model = KNNBasic(random_state=42)\n",
    "    #model.fit(trainset)\n",
    "    # Evaluate the model\n",
    "    #predictions = model.test(testset)\n",
    "    # Compute and return RMSE and MAE\n",
    "    #metrics = {}\n",
    "    #metrics['rmse'] = accuracy.rmse(predictions)\n",
    "    #metrics['mae'] = accuracy.mae(predictions)\n",
    "    #return metrics"
   ]
  },
  {
   "cell_type": "code",
   "execution_count": null,
   "metadata": {},
   "outputs": [
    {
     "ename": "",
     "evalue": "",
     "output_type": "error",
     "traceback": [
      "\u001b[1;31mFailed to start the Kernel. \n",
      "\u001b[1;31mUnable to start Kernel 'anaconda3 (Python 3.10.9)' due to a timeout waiting for the ports to get used. \n",
      "\u001b[1;31mView Jupyter <a href='command:jupyter.viewOutput'>log</a> for further details."
     ]
    }
   ],
   "source": [
    "# creating a relevant columns from the above dataset \n",
    "vectorization_columns = clean_df[['name', 'subcategories', 'amenities', 'amenities_mapped', 'subcategories_mapped']]"
   ]
  },
  {
   "cell_type": "code",
   "execution_count": null,
   "metadata": {},
   "outputs": [
    {
     "ename": "",
     "evalue": "",
     "output_type": "error",
     "traceback": [
      "\u001b[1;31mFailed to start the Kernel. \n",
      "\u001b[1;31mUnable to start Kernel 'anaconda3 (Python 3.10.9)' due to a timeout waiting for the ports to get used. \n",
      "\u001b[1;31mView Jupyter <a href='command:jupyter.viewOutput'>log</a> for further details."
     ]
    }
   ],
   "source": [
    "vectorization_columns"
   ]
  },
  {
   "cell_type": "code",
   "execution_count": null,
   "metadata": {},
   "outputs": [
    {
     "ename": "",
     "evalue": "",
     "output_type": "error",
     "traceback": [
      "\u001b[1;31mFailed to start the Kernel. \n",
      "\u001b[1;31mUnable to start Kernel 'anaconda3 (Python 3.10.9)' due to a timeout waiting for the ports to get used. \n",
      "\u001b[1;31mView Jupyter <a href='command:jupyter.viewOutput'>log</a> for further details."
     ]
    }
   ],
   "source": [
    "from sklearn.feature_extraction.text import TfidfVectorizer\n",
    "\n",
    "# Convert relevant data into a list of strings\n",
    "documents = []\n",
    "for _, row in vectorization_columns.iterrows():\n",
    "    name = row['name']\n",
    "    subcategories = row['subcategories_mapped']\n",
    "    amenities = row['amenities_mapped']\n",
    "    doc = f\"{name} {subcategories} {amenities}\"\n",
    "    documents.append(doc)\n",
    "\n",
    "# Apply TF-IDF vectorization\n",
    "tfidf = TfidfVectorizer()\n",
    "tfidf_matrix = tfidf.fit_transform(documents)"
   ]
  },
  {
   "cell_type": "code",
   "execution_count": null,
   "metadata": {},
   "outputs": [
    {
     "ename": "",
     "evalue": "",
     "output_type": "error",
     "traceback": [
      "\u001b[1;31mFailed to start the Kernel. \n",
      "\u001b[1;31mUnable to start Kernel 'anaconda3 (Python 3.10.9)' due to a timeout waiting for the ports to get used. \n",
      "\u001b[1;31mView Jupyter <a href='command:jupyter.viewOutput'>log</a> for further details."
     ]
    }
   ],
   "source": []
  },
  {
   "cell_type": "code",
   "execution_count": null,
   "metadata": {},
   "outputs": [
    {
     "ename": "",
     "evalue": "",
     "output_type": "error",
     "traceback": [
      "\u001b[1;31mFailed to start the Kernel. \n",
      "\u001b[1;31mUnable to start Kernel 'anaconda3 (Python 3.10.9)' due to a timeout waiting for the ports to get used. \n",
      "\u001b[1;31mView Jupyter <a href='command:jupyter.viewOutput'>log</a> for further details."
     ]
    }
   ],
   "source": []
  },
  {
   "cell_type": "code",
   "execution_count": null,
   "metadata": {},
   "outputs": [
    {
     "ename": "",
     "evalue": "",
     "output_type": "error",
     "traceback": [
      "\u001b[1;31mFailed to start the Kernel. \n",
      "\u001b[1;31mUnable to start Kernel 'anaconda3 (Python 3.10.9)' due to a timeout waiting for the ports to get used. \n",
      "\u001b[1;31mView Jupyter <a href='command:jupyter.viewOutput'>log</a> for further details."
     ]
    }
   ],
   "source": [
    "from sklearn.metrics.pairwise import linear_kernel\n",
    "\n",
    "# Compute cosine similarity matrix\n",
    "cosine_similarities = linear_kernel(tfidf_matrix, tfidf_matrix)\n"
   ]
  },
  {
   "cell_type": "code",
   "execution_count": null,
   "metadata": {},
   "outputs": [
    {
     "ename": "",
     "evalue": "",
     "output_type": "error",
     "traceback": [
      "\u001b[1;31mFailed to start the Kernel. \n",
      "\u001b[1;31mUnable to start Kernel 'anaconda3 (Python 3.10.9)' due to a timeout waiting for the ports to get used. \n",
      "\u001b[1;31mView Jupyter <a href='command:jupyter.viewOutput'>log</a> for further details."
     ]
    }
   ],
   "source": [
    "def get_item_recommendations(item_index, cosine_similarities, top_n=5):\n",
    "    # Get similarity scores for the item\n",
    "    item_scores = list(enumerate(cosine_similarities[item_index]))\n",
    "\n",
    "    # Sort items based on similarity scores\n",
    "    item_scores = sorted(item_scores, key=lambda x: x[1], reverse=True)\n",
    "\n",
    "    # Get top-N similar items\n",
    "    top_items = item_scores[1 : top_n + 1]  # Exclude the item itself\n",
    "\n",
    "    return top_items\n",
    "\n",
    "# Get recommendations for a specific item (e.g., item with index 0)\n",
    "item_index = 0\n",
    "recommendations = get_item_recommendations(item_index, cosine_similarities)\n",
    "\n",
    "# Print the top 5 recommendations\n",
    "for item_id, similarity in recommendations:\n",
    "    print(f\"Item ID: {item_id}, Similarity: {similarity}\")"
   ]
  },
  {
   "cell_type": "code",
   "execution_count": null,
   "metadata": {},
   "outputs": [
    {
     "ename": "",
     "evalue": "",
     "output_type": "error",
     "traceback": [
      "\u001b[1;31mFailed to start the Kernel. \n",
      "\u001b[1;31mUnable to start Kernel 'anaconda3 (Python 3.10.9)' due to a timeout waiting for the ports to get used. \n",
      "\u001b[1;31mView Jupyter <a href='command:jupyter.viewOutput'>log</a> for further details."
     ]
    }
   ],
   "source": [
    "def get_item_recommendations(item_index, cosine_similarities, top_n=5):\n",
    "    # Get similarity scores for the item\n",
    "    item_scores = list(enumerate(cosine_similarities[item_index]))\n",
    "\n",
    "    # Sort items based on similarity scores\n",
    "    item_scores = sorted(item_scores, key=lambda x: x[1], reverse=True)\n",
    "\n",
    "    # Get top-N similar items\n",
    "    top_items = item_scores[1 : top_n + 1]  # Exclude the item itself\n",
    "\n",
    "    return top_items\n",
    "\n",
    "# Get recommendations for a specific item (e.g., item with index 0)\n",
    "item_index = 0\n",
    "recommendations = get_item_recommendations(item_index, cosine_similarities)\n",
    "\n",
    "# Print the top 5 recommendations\n",
    "for item_id, similarity in recommendations:\n",
    "    print(f\"Item ID: {item_id}, Similarity: {similarity}\")\n",
    "\n",
    "\n",
    "def recommend_attraction(self, rating_threshold):\n",
    "    # Filter the DataFrame based on the rating threshold\n",
    "    recommendations = self.clean_df[self.clean_df['rating'] > rating_threshold][['name', 'LowerPrice', 'UpperPrice','amenities', 'type', 'country']]\n",
    "\n",
    "    # Reset the index of the recommendations DataFrame\n",
    "    recommendations.reset_index(drop=True, inplace=True)\n",
    "\n",
    "    return recommendations\n"
   ]
  },
  {
   "cell_type": "markdown",
   "metadata": {},
   "source": [
    "## Model Three"
   ]
  },
  {
   "cell_type": "code",
   "execution_count": null,
   "metadata": {},
   "outputs": [
    {
     "ename": "",
     "evalue": "",
     "output_type": "error",
     "traceback": [
      "\u001b[1;31mFailed to start the Kernel. \n",
      "\u001b[1;31mUnable to start Kernel 'anaconda3 (Python 3.10.9)' due to a timeout waiting for the ports to get used. \n",
      "\u001b[1;31mView Jupyter <a href='command:jupyter.viewOutput'>log</a> for further details."
     ]
    }
   ],
   "source": [
    "# Construct the TF-IDF Matrix\n",
    "tfidfv2=TfidfVectorizer(analyzer='word', stop_words='english')\n",
    "tfidfv_matrix2=tfidfv2.fit_transform(clean_df['amenities'])\n",
    "print(tfidfv_matrix2.todense())\n",
    "tfidfv_matrix2.todense().shape"
   ]
  },
  {
   "cell_type": "code",
   "execution_count": null,
   "metadata": {},
   "outputs": [
    {
     "ename": "",
     "evalue": "",
     "output_type": "error",
     "traceback": [
      "\u001b[1;31mFailed to start the Kernel. \n",
      "\u001b[1;31mUnable to start Kernel 'anaconda3 (Python 3.10.9)' due to a timeout waiting for the ports to get used. \n",
      "\u001b[1;31mView Jupyter <a href='command:jupyter.viewOutput'>log</a> for further details."
     ]
    }
   ],
   "source": [
    "#with open('../Data/tfidf_matrix2.pkl', 'wb') as f:\n",
    " #   pickle.dump(tfidfv_matrix2, f)"
   ]
  },
  {
   "cell_type": "code",
   "execution_count": null,
   "metadata": {},
   "outputs": [
    {
     "ename": "",
     "evalue": "",
     "output_type": "error",
     "traceback": [
      "\u001b[1;31mFailed to start the Kernel. \n",
      "\u001b[1;31mUnable to start Kernel 'anaconda3 (Python 3.10.9)' due to a timeout waiting for the ports to get used. \n",
      "\u001b[1;31mView Jupyter <a href='command:jupyter.viewOutput'>log</a> for further details."
     ]
    }
   ],
   "source": [
    "from sklearn.metrics.pairwise import cosine_similarity\n",
    "# Calculate similarity matrix\n",
    "cosine_sim2 = cosine_similarity(tfidfv_matrix2, tfidfv_matrix2)"
   ]
  },
  {
   "cell_type": "code",
   "execution_count": null,
   "metadata": {},
   "outputs": [
    {
     "ename": "",
     "evalue": "",
     "output_type": "error",
     "traceback": [
      "\u001b[1;31mFailed to start the Kernel. \n",
      "\u001b[1;31mUnable to start Kernel 'anaconda3 (Python 3.10.9)' due to a timeout waiting for the ports to get used. \n",
      "\u001b[1;31mView Jupyter <a href='command:jupyter.viewOutput'>log</a> for further details."
     ]
    }
   ],
   "source": [
    "# Create a Pandas Series to map movie titles to their indices\n",
    "indices = pd.Series(data = list(clean_df.index), index = clean_df['name'])\n",
    "indices"
   ]
  },
  {
   "cell_type": "code",
   "execution_count": null,
   "metadata": {},
   "outputs": [
    {
     "ename": "",
     "evalue": "",
     "output_type": "error",
     "traceback": [
      "\u001b[1;31mFailed to start the Kernel. \n",
      "\u001b[1;31mUnable to start Kernel 'anaconda3 (Python 3.10.9)' due to a timeout waiting for the ports to get used. \n",
      "\u001b[1;31mView Jupyter <a href='command:jupyter.viewOutput'>log</a> for further details."
     ]
    }
   ],
   "source": [
    "def recommend_place(name, cosine_sim2, data):\n",
    "    # Create a dictionary to map movie titles to their indices\n",
    "    indices = {title: index for index, title in enumerate(clean_df['name'])}\n",
    "\n",
    "    # Get the index of the movie that matches the title\n",
    "    idx = indices[name]\n",
    "\n",
    "    # Get the pairwise similarity scores of all movies with that movie\n",
    "    sim_scores = list(enumerate(cosine_sim2[idx]))\n",
    "\n",
    "    # Sort the movies based on the similarity scores\n",
    "    sim_scores.sort(key=lambda x: x[1], reverse=True)\n",
    "\n",
    "    # Get the scores of the 10 most similar movies\n",
    "    sim_scores = sim_scores[1:11]\n",
    "\n",
    "    # Get the movie indices\n",
    "    indices = [x for x, _ in sim_scores]\n",
    "\n",
    "    return clean_df.set_index('name').iloc[indices][\n",
    "        ['country', 'RankingType', 'subcategories', 'LowerPrice', 'UpperPrice']\n",
    "    ]"
   ]
  },
  {
   "cell_type": "code",
   "execution_count": null,
   "metadata": {},
   "outputs": [
    {
     "ename": "",
     "evalue": "",
     "output_type": "error",
     "traceback": [
      "\u001b[1;31mFailed to start the Kernel. \n",
      "\u001b[1;31mUnable to start Kernel 'anaconda3 (Python 3.10.9)' due to a timeout waiting for the ports to get used. \n",
      "\u001b[1;31mView Jupyter <a href='command:jupyter.viewOutput'>log</a> for further details."
     ]
    }
   ],
   "source": [
    "recommend_place(\"St. Catherine's Monastery Guesthouse\", cosine_sim2, clean_df)"
   ]
  },
  {
   "cell_type": "code",
   "execution_count": null,
   "metadata": {},
   "outputs": [
    {
     "ename": "",
     "evalue": "",
     "output_type": "error",
     "traceback": [
      "\u001b[1;31mFailed to start the Kernel. \n",
      "\u001b[1;31mUnable to start Kernel 'anaconda3 (Python 3.10.9)' due to a timeout waiting for the ports to get used. \n",
      "\u001b[1;31mView Jupyter <a href='command:jupyter.viewOutput'>log</a> for further details."
     ]
    }
   ],
   "source": [
    "def recommend_amenities(amenity, cosine_sim2, data):\n",
    "    # Group the data by amenities and count the occurrences\n",
    "    grouped_df = data.groupby('amenities').size().reset_index(name='count')\n",
    "\n",
    "    # Create a dictionary to map amenities to their indices\n",
    "    indices = {amen: index for index, amen in enumerate(grouped_df['amenities'])}\n",
    "\n",
    "    # Check if the amenity exists in the dictionary\n",
    "    if amenity in indices:\n",
    "        # Get the index of the amenity that matches the provided amenity\n",
    "        idx = indices[amenity]\n",
    "\n",
    "        # Get the pairwise similarity scores of all amenities with that amenity\n",
    "        sim_scores = list(enumerate(cosine_sim2[idx]))\n",
    "\n",
    "        # Sort the amenities based on the similarity scores\n",
    "        sim_scores.sort(key=lambda x: x[1], reverse=True)\n",
    "\n",
    "        # Get the scores of the 10 most similar amenities\n",
    "        sim_scores = sim_scores[1:11]\n",
    "\n",
    "        # Get the amenity indices\n",
    "        indices = [x for x, _ in sim_scores]\n",
    "\n",
    "        # Retrieve the recommended similar amenities from the original DataFrame\n",
    "        recommended_amenities = data.iloc[indices]['amenities']\n",
    "        return recommended_amenities\n",
    "    else:\n",
    "        return \"Amenity not found.\""
   ]
  },
  {
   "cell_type": "code",
   "execution_count": null,
   "metadata": {},
   "outputs": [
    {
     "ename": "",
     "evalue": "",
     "output_type": "error",
     "traceback": [
      "\u001b[1;31mFailed to start the Kernel. \n",
      "\u001b[1;31mUnable to start Kernel 'anaconda3 (Python 3.10.9)' due to a timeout waiting for the ports to get used. \n",
      "\u001b[1;31mView Jupyter <a href='command:jupyter.viewOutput'>log</a> for further details."
     ]
    }
   ],
   "source": [
    "# Split the values in the 'amenities' column and convert them into sets\n",
    "amenities_sets = clean_df['amenities'].str.split(', ').apply(set)\n",
    "\n",
    "# Merge the sets of amenities to create a consolidated set of unique amenities\n",
    "consolidated_amenities = set().union(*amenities_sets)\n",
    "\n",
    "# Convert the consolidated set of amenities back to a single string value for each row\n",
    "clean_df['consolidated_amenities'] = amenities_sets.apply(lambda x: ', '.join(consolidated_amenities.intersection(x)))\n",
    "\n",
    "# Print the updated DataFrame with consolidated amenities\n",
    "clean_df[[ 'consolidated_amenities']]\n"
   ]
  },
  {
   "cell_type": "code",
   "execution_count": null,
   "metadata": {},
   "outputs": [
    {
     "ename": "",
     "evalue": "",
     "output_type": "error",
     "traceback": [
      "\u001b[1;31mFailed to start the Kernel. \n",
      "\u001b[1;31mUnable to start Kernel 'anaconda3 (Python 3.10.9)' due to a timeout waiting for the ports to get used. \n",
      "\u001b[1;31mView Jupyter <a href='command:jupyter.viewOutput'>log</a> for further details."
     ]
    }
   ],
   "source": [
    "def combine_similar_amenities(amenities):\n",
    "    combined_amenities = []\n",
    "\n",
    "    for amenity in amenities:\n",
    "        amenity = amenity.lower().strip()  # Convert to lowercase and remove leading/trailing whitespaces\n",
    "        \n",
    "        # Combine similar amenities based on specific rules\n",
    "        if amenity == \"free wifi\":\n",
    "            amenity = \"wifi\"\n",
    "        elif amenity == \"free internet\":\n",
    "            amenity = \"internet\"\n",
    "        elif amenity == \"free internet\":\n",
    "            amenity = \"free wifi\"\n",
    "        elif amenity == \"free parking\":\n",
    "            amenity = \"Secured Parking,\"\n",
    "        elif amenity == \"kids pool\":\n",
    "            amenity = \"Pool,\"\n",
    "        # Add more rules for other similar amenities if needed\n",
    "        \n",
    "        combined_amenities.append(amenity)\n",
    "    \n",
    "    return combined_amenities\n",
    "\n",
    "# Example usage\n",
    "amenities = [\n",
    "    \"bathroom only\",\n",
    "    \"restaurant\",\n",
    "    \"Restaurant\",\n",
    "    \"Kids Activities\",\n",
    "    \"Free Wifi\",\n",
    "    \"Free parking\",\n",
    "    \"Wifi\",\n",
    "    \"Bar/Lounge\",\n",
    "    \"Internet\",\n",
    "    \"Restaurant\",\n",
    "    \"Free Internet\",\n",
    "    \"Breakfast included\",\n",
    "    \"Room service\"\n",
    "    \"Refrigerator in room\", \n",
    "    \"Clothes Rack\",\n",
    "    \"Private Bathrooms\",\n",
    "    \"Rooftop Terrace\",\n",
    "    \"Hair Dryer\",\n",
    "]\n",
    "\n",
    "consolidated_amenities = combine_similar_amenities(amenities)\n",
    "print(consolidated_amenities)\n"
   ]
  },
  {
   "cell_type": "code",
   "execution_count": null,
   "metadata": {},
   "outputs": [
    {
     "ename": "",
     "evalue": "",
     "output_type": "error",
     "traceback": [
      "\u001b[1;31mFailed to start the Kernel. \n",
      "\u001b[1;31mUnable to start Kernel 'anaconda3 (Python 3.10.9)' due to a timeout waiting for the ports to get used. \n",
      "\u001b[1;31mView Jupyter <a href='command:jupyter.viewOutput'>log</a> for further details."
     ]
    }
   ],
   "source": [
    "from ipywidgets import interact_manual\n",
    "from IPython.display import display, HTML\n",
    "from ipywidgets import Dropdown\n",
    "\n",
    "\n",
    "def recommend_amenities(selected_amenity, cosine_sim2, data):\n",
    "    # Create a dictionary to map amenities to their indices\n",
    "    indices = {amen: index for index, amen in enumerate(data['consolidated_amenities'])}\n",
    "\n",
    "    # Check if the amenity exists in the dictionary\n",
    "    if selected_amenity in indices:\n",
    "        # Get the index of the amenity that matches the provided amenity\n",
    "        idx = indices[selected_amenity]\n",
    "\n",
    "        # Get the pairwise similarity scores of all amenities with that amenity\n",
    "        sim_scores = list(enumerate(cosine_sim2[idx]))\n",
    "\n",
    "        # Sort the amenities based on the similarity scores\n",
    "        sim_scores.sort(key=lambda x: x[1], reverse=True)\n",
    "\n",
    "        # Get the scores of the 10 most similar amenities\n",
    "        sim_scores = sim_scores[1:11]\n",
    "\n",
    "        # Get the amenity indices\n",
    "        indices = [x for x, _ in sim_scores]\n",
    "\n",
    "        return data.set_index('consolidated_amenities').iloc[indices][\n",
    "            [\n",
    "                'country',\n",
    "                'RankingType',\n",
    "                'subcategories',\n",
    "                'LowerPrice',\n",
    "                'UpperPrice',\n",
    "            ]\n",
    "        ]\n",
    "    else:\n",
    "        return \"Amenity not found.\"\n",
    "\n",
    "# Create a dropdown menu with the available amenities\n",
    "amenities_dropdown = Dropdown(options=clean_df['consolidated_amenities'].unique(), description='Select Amenity:')\n",
    "\n",
    "#@interact_manual(amenity=amenities_dropdown)\n",
    "def get_recommended_amenities(amenity):\n",
    "    recommended_amenities = recommend_amenities(amenity, cosine_sim2, clean_df)\n",
    "    if isinstance(recommended_amenities, str):\n",
    "        display(HTML(recommended_amenities))\n",
    "    else:\n",
    "        display(recommended_amenities)\n",
    "\n",
    "interact_manual(get_recommended_amenities, amenity=amenities_dropdown)"
   ]
  },
  {
   "cell_type": "code",
   "execution_count": null,
   "metadata": {},
   "outputs": [
    {
     "ename": "",
     "evalue": "",
     "output_type": "error",
     "traceback": [
      "\u001b[1;31mFailed to start the Kernel. \n",
      "\u001b[1;31mUnable to start Kernel 'anaconda3 (Python 3.10.9)' due to a timeout waiting for the ports to get used. \n",
      "\u001b[1;31mView Jupyter <a href='command:jupyter.viewOutput'>log</a> for further details."
     ]
    }
   ],
   "source": [
    "recommend_amenities('Pool', cosine_sim2, clean_df)"
   ]
  },
  {
   "cell_type": "code",
   "execution_count": null,
   "metadata": {},
   "outputs": [
    {
     "ename": "",
     "evalue": "",
     "output_type": "error",
     "traceback": [
      "\u001b[1;31mFailed to start the Kernel. \n",
      "\u001b[1;31mUnable to start Kernel 'anaconda3 (Python 3.10.9)' due to a timeout waiting for the ports to get used. \n",
      "\u001b[1;31mView Jupyter <a href='command:jupyter.viewOutput'>log</a> for further details."
     ]
    }
   ],
   "source": [
    "#with open('../Data/tfidf_matrix.pkl', 'wb') as f:\n",
    " #   pickle.dump(tfidf_matrix, f)\n",
    "#with open('../Data/.cosine_similarities.pkl', 'wb') as f:\n",
    "   # pickle.dump(cosine_similarities, f)\n",
    "#with open('../Data/tfidf_matrix2.pkl', 'wb') as f:\n",
    " #   pickle.dump(tfidf_matrix2, f)\n",
    "#with open('../Data/clean_df.pkl', 'wb') as f:\n",
    "  #  pickle.dump(clean_df, f)\n",
    "\n",
    "#with open('../Data/.cosine_sim2.pkl', 'wb') as f:\n",
    "   # pickle.dump(cosine_sim2, f)\n",
    "\n",
    "#with open('../Data/.indices.pkl', 'wb') as f:\n",
    " #   pickle.dump(indices, f)"
   ]
  },
  {
   "cell_type": "code",
   "execution_count": null,
   "metadata": {},
   "outputs": [
    {
     "ename": "",
     "evalue": "",
     "output_type": "error",
     "traceback": [
      "\u001b[1;31mFailed to start the Kernel. \n",
      "\u001b[1;31mUnable to start Kernel 'anaconda3 (Python 3.10.9)' due to a timeout waiting for the ports to get used. \n",
      "\u001b[1;31mView Jupyter <a href='command:jupyter.viewOutput'>log</a> for further details."
     ]
    }
   ],
   "source": [
    "def get_similar_items(amenity_input, clean_df, cosine_similarities, top_n=5):\n",
    "    amenity_input = amenity_input.lower().split()\n",
    "    amenity_input[0] = amenity_input[0].capitalize()\n",
    "    amenity_input = ' '.join(amenity_input)\n",
    "    filtered_items = clean_df[clean_df['consolidated_amenities'].apply(lambda x: any(amenity_input.lower() in amenity.lower() for amenity in x))]\n",
    "    if filtered_items.empty:\n",
    "        print(\"No similar items found for the entered amenity.\")\n",
    "        return []\n",
    "    item_index = filtered_items.index[0]\n",
    "    item_scores = list(enumerate(cosine_similarities[item_index]))\n",
    "    item_scores = sorted(item_scores, key=lambda x: x[1], reverse=True)\n",
    "    top_items = item_scores[:top_n]\n",
    "    return top_items\n",
    "# Enter the amenity for which you want to find similar items\n",
    "amenity_input = input(\"Enter the amenity: \")\n",
    "# Get similar items based on the entered amenity\n",
    "similar_items = get_similar_items(amenity_input, clean_df, cosine_similarities)\n",
    "if similar_items:\n",
    "    # Print the top recommendations based on the entered amenity\n",
    "    for item_id, similarity in similar_items:\n",
    "        item_data = clean_df.iloc[item_id]\n",
    "        name = item_data['name']\n",
    "        subcategories = item_data['subcategories']\n",
    "        amenities = item_data['consolidated_amenities']\n",
    "        print(f\"Item ID: {item_id}, Similarity: {similarity}\")\n",
    "        print(f\"Name: {name}\")\n",
    "        print(f\"Subcategories: {subcategories}\")\n",
    "        print(f\"Amenities: {amenities}\")\n",
    "        print(\"----------------------\")"
   ]
  },
  {
   "cell_type": "code",
   "execution_count": null,
   "metadata": {},
   "outputs": [
    {
     "ename": "",
     "evalue": "",
     "output_type": "error",
     "traceback": [
      "\u001b[1;31mFailed to start the Kernel. \n",
      "\u001b[1;31mUnable to start Kernel 'anaconda3 (Python 3.10.9)' due to a timeout waiting for the ports to get used. \n",
      "\u001b[1;31mView Jupyter <a href='command:jupyter.viewOutput'>log</a> for further details."
     ]
    }
   ],
   "source": []
  },
  {
   "cell_type": "markdown",
   "metadata": {},
   "source": [
    "## Model Evaluation"
   ]
  },
  {
   "cell_type": "code",
   "execution_count": null,
   "metadata": {},
   "outputs": [
    {
     "ename": "",
     "evalue": "",
     "output_type": "error",
     "traceback": [
      "\u001b[1;31mFailed to start the Kernel. \n",
      "\u001b[1;31mUnable to start Kernel 'anaconda3 (Python 3.10.9)' due to a timeout waiting for the ports to get used. \n",
      "\u001b[1;31mView Jupyter <a href='command:jupyter.viewOutput'>log</a> for further details."
     ]
    }
   ],
   "source": [
    "class RecommenderSystem:\n",
    "    def __init__(self, clean_df, tfidfv_matrix2, cosine_sim2, cosine_similarities, indices):\n",
    "        self.clean_df = clean_df\n",
    "        self.tfidfv_matrix2 = tfidfv_matrix2\n",
    "        self.cosine_sim2 = cosine_sim2\n",
    "        self.cosine_similarities = cosine_similarities\n",
    "        self.indices = indices\n",
    "\n",
    "    def recommend_attraction(self, rating_threshold):\n",
    "        # Filter the DataFrame based on the rating threshold\n",
    "        recommendations = self.clean_df[self.clean_df['rating'] > rating_threshold][['name', 'LowerPrice', 'UpperPrice','amenities', 'type', 'country']]\n",
    "\n",
    "        # Reset the index of the recommendations DataFrame\n",
    "        recommendations.reset_index(drop=True, inplace=True)\n",
    "\n",
    "        return recommendations\n",
    "\n",
    "    def recommend_amenities(self, query):\n",
    "        # Check if the specified amenity exists in the dataset\n",
    "        if query not in self.clean_df['amenities'].str.join(', '):\n",
    "            st.error(f\"Error: '{query}' does not exist in the dataset.\")\n",
    "            return None\n",
    "\n",
    "        # Convert the string representation of amenities back into a list\n",
    "        self.clean_df['amenities'] = self.clean_df['amenities'].apply(lambda x: ast.literal_eval(x) if isinstance(x, str) else x)\n",
    "\n",
    "        # Get the index of the specified amenity\n",
    "        indices = self.clean_df['amenities'].apply(lambda x: query in x if isinstance(x, list) else False)\n",
    "\n",
    "        # Get the pairwise similarity scores of all items with the specified amenity\n",
    "        sim_scores = self.cosine_sim2[indices]\n",
    "\n",
    "        # Flatten the similarity scores\n",
    "        sim_scores = sim_scores.flatten()\n",
    "\n",
    "        # Get the indices of the sorted similarity scores\n",
    "        indices = np.argsort(sim_scores)[::-1]\n",
    "\n",
    "        # Get the sorted similarity scores\n",
    "        sim_scores = sim_scores[indices]\n",
    "\n",
    "        # Get the recommended items\n",
    "        recommended_items = self.clean_df.iloc[indices]\n",
    "\n",
    "        return recommended_items\n",
    "\n",
    "    def recommend_place(self, name):\n",
    "        # Create a dictionary to map place names to their indices\n",
    "        indices = {title: index for index, title in enumerate(self.clean_df['country'])}\n",
    "\n",
    "        # Check if the specified place exists in the dataset\n",
    "        if name not in indices:\n",
    "            st.error(f\"Error: '{name}' does not exist in the dataset.\")\n",
    "            return None\n",
    "\n",
    "        # Get the index of the specified place\n",
    "        idx = indices[country]\n",
    "\n",
    "        # Get the pairwise similarity scores of all places with the specified place\n",
    "        sim_scores = list(enumerate(self.cosine_similarities[idx]))\n",
    "\n",
    "        # Sort the places based on the similarity scores\n",
    "        sim_scores.sort(key=lambda x: x[1], reverse=True)\n",
    "\n",
    "        # Get the scores of the 10 most similar places\n",
    "        sim_scores = sim_scores[1:11]\n",
    "\n",
    "        # Get the indices of the top-N similar places\n",
    "        indices = [x for x, _ in sim_scores]\n",
    "\n",
    "        # Get the recommended places\n",
    "        recommended_places = self.clean_df.set_index('country').iloc[indices][\n",
    "            [\n",
    "                'name',\n",
    "                'RankingType',\n",
    "                'subcategories',\n",
    "                'LowerPrice',\n",
    "                'UpperPrice',\n",
    "            ]\n",
    "        ]\n",
    "\n",
    "        return recommended_places\n",
    "\n",
    "    def get_item_recommendations(self, item_index, top_n=5):\n",
    "        # Get similarity scores for the item\n",
    "        item_scores = list(enumerate(self.cosine_similarities[item_index]))\n",
    "\n",
    "        # Sort items based on similarity scores\n",
    "        item_scores = sorted(item_scores, key=lambda x: x[1], reverse=True)\n",
    "\n",
    "        # Get top-N similar items\n",
    "        top_items = item_scores[1:top_n + 1]  # Exclude the item itself\n",
    "\n",
    "        return top_items\n",
    "\n"
   ]
  },
  {
   "cell_type": "code",
   "execution_count": null,
   "metadata": {},
   "outputs": [
    {
     "ename": "",
     "evalue": "",
     "output_type": "error",
     "traceback": [
      "\u001b[1;31mFailed to start the Kernel. \n",
      "\u001b[1;31mUnable to start Kernel 'anaconda3 (Python 3.10.9)' due to a timeout waiting for the ports to get used. \n",
      "\u001b[1;31mView Jupyter <a href='command:jupyter.viewOutput'>log</a> for further details."
     ]
    }
   ],
   "source": [
    "hybrid = RecommenderSystem('clean_df', 'tfidfv_matrix2', 'cosine_sim2', 'cosine_similarities', 'indices')"
   ]
  },
  {
   "cell_type": "code",
   "execution_count": null,
   "metadata": {},
   "outputs": [
    {
     "ename": "",
     "evalue": "",
     "output_type": "error",
     "traceback": [
      "\u001b[1;31mFailed to start the Kernel. \n",
      "\u001b[1;31mUnable to start Kernel 'anaconda3 (Python 3.10.9)' due to a timeout waiting for the ports to get used. \n",
      "\u001b[1;31mView Jupyter <a href='command:jupyter.viewOutput'>log</a> for further details."
     ]
    }
   ],
   "source": [
    "recommend_place('South Africa', cosine_sim2, clean_df)"
   ]
  },
  {
   "cell_type": "markdown",
   "metadata": {},
   "source": [
    "## Tuning"
   ]
  },
  {
   "cell_type": "code",
   "execution_count": null,
   "metadata": {},
   "outputs": [
    {
     "ename": "",
     "evalue": "",
     "output_type": "error",
     "traceback": [
      "\u001b[1;31mFailed to start the Kernel. \n",
      "\u001b[1;31mUnable to start Kernel 'anaconda3 (Python 3.10.9)' due to a timeout waiting for the ports to get used. \n",
      "\u001b[1;31mView Jupyter <a href='command:jupyter.viewOutput'>log</a> for further details."
     ]
    }
   ],
   "source": []
  },
  {
   "cell_type": "code",
   "execution_count": null,
   "metadata": {},
   "outputs": [
    {
     "ename": "",
     "evalue": "",
     "output_type": "error",
     "traceback": [
      "\u001b[1;31mFailed to start the Kernel. \n",
      "\u001b[1;31mUnable to start Kernel 'anaconda3 (Python 3.10.9)' due to a timeout waiting for the ports to get used. \n",
      "\u001b[1;31mView Jupyter <a href='command:jupyter.viewOutput'>log</a> for further details."
     ]
    }
   ],
   "source": []
  },
  {
   "cell_type": "markdown",
   "metadata": {},
   "source": [
    "## Deployment"
   ]
  },
  {
   "cell_type": "code",
   "execution_count": null,
   "metadata": {},
   "outputs": [
    {
     "ename": "",
     "evalue": "",
     "output_type": "error",
     "traceback": [
      "\u001b[1;31mFailed to start the Kernel. \n",
      "\u001b[1;31mUnable to start Kernel 'anaconda3 (Python 3.10.9)' due to a timeout waiting for the ports to get used. \n",
      "\u001b[1;31mView Jupyter <a href='command:jupyter.viewOutput'>log</a> for further details."
     ]
    }
   ],
   "source": [
    "class AfricuraRecommender:\n",
    "    def __init__(self, data_path, cosine_sim_path):\n",
    "        self.clean_df = pd.read_csv(data_path)\n",
    "        self.cosine_similarities = pd.read_csv(cosine_sim_path)\n",
    "\n",
    "    def combine_similar_amenities(self, amenities):\n",
    "        combined_amenities = []\n",
    "\n",
    "        for amenity in amenities:\n",
    "            amenity = amenity.lower().strip()  # Convert to lowercase and remove leading/trailing whitespaces\n",
    "\n",
    "            # Combine similar amenities based on specific rules\n",
    "            if amenity == \"free wifi\":\n",
    "                amenity = \"wifi\"\n",
    "            elif amenity == \"free internet\":\n",
    "                amenity = \"internet\"\n",
    "            # Add more rules for other similar amenities if needed\n",
    "\n",
    "            combined_amenities.append(amenity)\n",
    "\n",
    "        return combined_amenities\n",
    "\n",
    "    def recommend_amenities(self, selected_amenity):\n",
    "        # Create a dictionary to map amenities to their indices\n",
    "        indices = {amen: index for index, amen in enumerate(self.clean_df['consolidated_amenities'])}\n",
    "\n",
    "        # Check if the amenity exists in the dictionary\n",
    "        if selected_amenity in indices:\n",
    "            # Get the index of the amenity that matches the provided amenity\n",
    "            idx = indices[selected_amenity]\n",
    "\n",
    "            # Get the pairwise similarity scores of all amenities with that amenity\n",
    "            sim_scores = list(enumerate(self.cosine_similarities[idx]))\n",
    "\n",
    "            # Sort the amenities based on the similarity scores\n",
    "            sim_scores.sort(key=lambda x: x[1], reverse=True)\n",
    "\n",
    "            # Get the scores of the 10 most similar amenities\n",
    "            sim_scores = sim_scores[1:11]\n",
    "\n",
    "            # Get the amenity indices\n",
    "            indices = [x for x, _ in sim_scores]\n",
    "\n",
    "            return self.clean_df.set_index('consolidated_amenities').iloc[indices][\n",
    "                [\n",
    "                    'country',\n",
    "                    'RankingType',\n",
    "                    'subcategories',\n",
    "                    'LowerPrice',\n",
    "                    'UpperPrice',\n",
    "                ]\n",
    "            ]\n",
    "        else:\n",
    "            return \"Amenity not found.\"\n",
    "\n",
    "    def recommend_place(self, name):\n",
    "        # Create a dictionary to map place names to their indices\n",
    "        indices = {title: index for index, title in enumerate(self.clean_df['name'])}\n",
    "\n",
    "        # Check if the specified place exists in the dataset\n",
    "        if name not in indices:\n",
    "            st.error(f\"Error: '{name}' does not exist in the dataset.\")\n",
    "            return None\n",
    "\n",
    "        # Get the index of the specified place\n",
    "        idx = indices[name]\n",
    "\n",
    "        # Get the pairwise similarity scores of all places with the specified place\n",
    "        sim_scores = list(enumerate(self.cosine_similarities[idx]))\n",
    "\n",
    "        # Sort the places based on the similarity scores\n",
    "        sim_scores.sort(key=lambda x: x[1], reverse=True)\n",
    "\n",
    "        # Get the scores of the 10 most similar places\n",
    "        sim_scores = sim_scores[1:11]\n",
    "\n",
    "        # Get the indices of the top-N similar places\n",
    "        indices = [x for x, _ in sim_scores]\n",
    "\n",
    "        # Get the recommended places\n",
    "        recommended_places = self.clean_df.set_index('name').iloc[indices][\n",
    "            [\n",
    "                'country',\n",
    "                'RankingType',\n",
    "                'subcategories',\n",
    "                'LowerPrice',\n",
    "                'UpperPrice',\n",
    "            ]\n",
    "        ]\n",
    "\n",
    "        return recommended_places\n",
    "\n",
    "    def get_item_recommendations(self, item_index, top_n=5):\n",
    "        # Get similarity scores for the item\n",
    "        item_scores = list(enumerate(self.cosine_similarities[item_index]))\n",
    "\n",
    "        # Sort items based on similarity scores\n",
    "        item_scores = sorted(item_scores, key=lambda x: x[1], reverse=True)\n",
    "\n",
    "        # Get top-N similar items\n",
    "        top_items = item_scores[1:top_n + 1]  # Exclude the item itself\n",
    "\n",
    "        return top_items\n"
   ]
  },
  {
   "cell_type": "code",
   "execution_count": null,
   "metadata": {},
   "outputs": [
    {
     "ename": "",
     "evalue": "",
     "output_type": "error",
     "traceback": [
      "\u001b[1;31mFailed to start the Kernel. \n",
      "\u001b[1;31mUnable to start Kernel 'anaconda3 (Python 3.10.9)' due to a timeout waiting for the ports to get used. \n",
      "\u001b[1;31mView Jupyter <a href='command:jupyter.viewOutput'>log</a> for further details."
     ]
    }
   ],
   "source": []
  },
  {
   "cell_type": "markdown",
   "metadata": {},
   "source": [
    "## Conclusion and Recommendations"
   ]
  },
  {
   "cell_type": "markdown",
   "metadata": {},
   "source": []
  }
 ],
 "metadata": {
  "kernelspec": {
   "display_name": "Python 3 (ipykernel)",
   "language": "python",
   "name": "python3"
  },
  "language_info": {
   "codemirror_mode": {
    "name": "ipython",
    "version": 3
   },
   "file_extension": ".py",
   "mimetype": "text/x-python",
   "name": "python",
   "nbconvert_exporter": "python",
   "pygments_lexer": "ipython3",
   "version": "3.10.9"
  }
 },
 "nbformat": 4,
 "nbformat_minor": 2
}
