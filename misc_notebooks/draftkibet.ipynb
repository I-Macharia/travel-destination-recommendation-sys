{
 "cells": [
  {
   "attachments": {},
   "cell_type": "markdown",
   "metadata": {},
   "source": [
    "# Travel Destination Recommendation System Notebook"
   ]
  },
  {
   "attachments": {},
   "cell_type": "markdown",
   "metadata": {},
   "source": [
    "#### Authors\n",
    "* 1\n",
    "* 2 \n",
    "* 3\n",
    "* 4\n",
    "* 5\n",
    "* 6"
   ]
  },
  {
   "attachments": {},
   "cell_type": "markdown",
   "metadata": {},
   "source": [
    "\n",
    "## Problem Statement"
   ]
  },
  {
   "attachments": {},
   "cell_type": "markdown",
   "metadata": {},
   "source": [
    "The goal is to build a machine learning model that can predict hotel ratings based on customer reviews, budget, specific locations, and the type of residence. The dataset is scraped from TripAdvisor and it contains information about various hotels, including their ratings, reviews, amenities, pricing, geographical coordinates, and residence types (e.g., hotel, bed and breakfast, specialty lodging). By analyzing the text reviews along with these additional factors, the objective is to develop a model that can accurately predict the ratings of new, unseen hotels based on customer reviews, budget constraints, location preferences, and residence type."
   ]
  },
  {
   "attachments": {},
   "cell_type": "markdown",
   "metadata": {},
   "source": [
    "Approach:\n",
    "\n",
    "Data Preprocessing: Clean and preprocess the text reviews by removing stopwords, punctuation, and performing tokenization. Convert the text data into a numerical representation suitable for modeling. Handle missing values, if any, in the budget, location, and residence type columns.\n",
    "\n",
    "Feature Engineering: Extract additional features from the dataset, such as review sentiment scores, review length, and any other relevant information. Engineer new features related to budget, location, and residence type, such as price range categories, geographical distance from landmarks, and one-hot encoding of residence types.\n",
    "\n",
    "Model Selection: Experiment with different supervised learning models, such as linear regression, decision trees, random forests, or neural networks, to find the best model for predicting hotel ratings considering customer reviews, budget, location, and residence type. Evaluate the models using appropriate evaluation metrics like mean squared error (MSE) or mean absolute error (MAE).\n",
    "\n",
    "Model Training and Evaluation: Split the dataset into training and testing sets. Train the selected model on the training set and evaluate its performance on the testing set. Fine-tune the model parameters to improve its accuracy. Perform cross-validation to assess the model's generalization capabilities."
   ]
  },
  {
   "attachments": {},
   "cell_type": "markdown",
   "metadata": {},
   "source": []
  },
  {
   "cell_type": "code",
   "execution_count": null,
   "metadata": {},
   "outputs": [],
   "source": []
  },
  {
   "attachments": {},
   "cell_type": "markdown",
   "metadata": {},
   "source": [
    "## Objectives"
   ]
  },
  {
   "attachments": {},
   "cell_type": "markdown",
   "metadata": {},
   "source": []
  },
  {
   "cell_type": "code",
   "execution_count": null,
   "metadata": {},
   "outputs": [],
   "source": []
  },
  {
   "attachments": {},
   "cell_type": "markdown",
   "metadata": {},
   "source": [
    "## Data Understanding"
   ]
  },
  {
   "cell_type": "code",
   "execution_count": 1,
   "metadata": {},
   "outputs": [],
   "source": [
    "# Importing necessary libraries\n",
    "import pandas as pd\n",
    "import json\n",
    "import glob\n",
    "import matplotlib.pyplot as plt \n",
    "import numpy as np "
   ]
  },
  {
   "cell_type": "code",
   "execution_count": 2,
   "metadata": {},
   "outputs": [],
   "source": [
    "#func to read json files\n",
    "def read_json_files(json_files):\n",
    "    dfs = []\n",
    "    for file in json_files:\n",
    "        with open(file) as f:\n",
    "            json_data = json.load(f)\n",
    "            df = pd.DataFrame(json_data)\n",
    "            dfs.append(df)\n",
    "\n",
    "    merged_df = pd.concat(dfs, ignore_index=True)\n",
    "    return merged_df\n"
   ]
  },
  {
   "cell_type": "code",
   "execution_count": 3,
   "metadata": {},
   "outputs": [],
   "source": [
    "json_files = ['..\\Data\\drc.json','..\\Data\\egypt.json', '..\\Data\\ethiopia.json',\n",
    "                '..\\Data\\kenya.json', '..\\Data\\Madagascar.json', '..\\Data\\morocco.json',\n",
    "                r'..\\Data\\nigeria.json', r'..\\Data\\rwanda.json', '..\\Data\\seychelles.json',\n",
    "                r'..\\Data\\tanzania.json', r'..\\Data\\uganda.json', r'..\\Data\\namibia.json',\n",
    "                '..\\Data\\south_africa.json', '..\\Data\\malawi.json', '..\\Data\\Senegal.json',\n",
    "                '..\\Data\\zambia.json', '..\\Data\\Ghana.json', '..\\Data\\Botswana.json',\n",
    "                '..\\Data\\capeverde.json' ]\n",
    "df = read_json_files(json_files)\n"
   ]
  },
  {
   "cell_type": "code",
   "execution_count": 4,
   "metadata": {},
   "outputs": [
    {
     "name": "stdout",
     "output_type": "stream",
     "text": [
      "<class 'pandas.core.frame.DataFrame'>\n",
      "RangeIndex: 35836 entries, 0 to 35835\n",
      "Data columns (total 65 columns):\n",
      " #   Column                 Non-Null Count  Dtype  \n",
      "---  ------                 --------------  -----  \n",
      " 0   id                     35836 non-null  object \n",
      " 1   type                   35836 non-null  object \n",
      " 2   category               35836 non-null  object \n",
      " 3   subcategories          34497 non-null  object \n",
      " 4   name                   35836 non-null  object \n",
      " 5   locationString         34497 non-null  object \n",
      " 6   description            20129 non-null  object \n",
      " 7   image                  28495 non-null  object \n",
      " 8   photoCount             35836 non-null  int64  \n",
      " 9   awards                 34497 non-null  object \n",
      " 10  rankingPosition        26570 non-null  float64\n",
      " 11  rating                 26706 non-null  float64\n",
      " 12  rawRanking             26570 non-null  float64\n",
      " 13  phone                  24666 non-null  object \n",
      " 14  address                34494 non-null  object \n",
      " 15  addressObj             34497 non-null  object \n",
      " 16  localName              34497 non-null  object \n",
      " 17  localAddress           4015 non-null   object \n",
      " 18  email                  20235 non-null  object \n",
      " 19  latitude               30102 non-null  float64\n",
      " 20  longitude              30102 non-null  float64\n",
      " 21  webUrl                 35836 non-null  object \n",
      " 22  website                21956 non-null  object \n",
      " 23  rankingString          26570 non-null  object \n",
      " 24  rankingDenominator     26570 non-null  object \n",
      " 25  neighborhoodLocations  34497 non-null  object \n",
      " 26  nearestMetroStations   34497 non-null  object \n",
      " 27  ancestorLocations      34497 non-null  object \n",
      " 28  ratingHistogram        34497 non-null  object \n",
      " 29  numberOfReviews        35836 non-null  int64  \n",
      " 30  reviewTags             34497 non-null  object \n",
      " 31  reviews                35836 non-null  object \n",
      " 32  booking                2912 non-null   object \n",
      " 33  offerGroup             2912 non-null   object \n",
      " 34  subtype                9264 non-null   object \n",
      " 35  hotelClass             24817 non-null  object \n",
      " 36  amenities              26156 non-null  object \n",
      " 37  numberOfRooms          17076 non-null  float64\n",
      " 38  priceLevel             14231 non-null  object \n",
      " 39  priceRange             14139 non-null  object \n",
      " 40  roomTips               24817 non-null  object \n",
      " 41  checkInDate            24817 non-null  object \n",
      " 42  checkOutDate           24817 non-null  object \n",
      " 43  offers                 24817 non-null  object \n",
      " 44  hotelClassAttribution  7112 non-null   object \n",
      " 45  isClosed               416 non-null    object \n",
      " 46  isLongClosed           416 non-null    object \n",
      " 47  openNowText            184 non-null    object \n",
      " 48  cuisines               416 non-null    object \n",
      " 49  mealTypes              416 non-null    object \n",
      " 50  dishes                 416 non-null    object \n",
      " 51  features               416 non-null    object \n",
      " 52  dietaryRestrictions    416 non-null    object \n",
      " 53  hours                  184 non-null    object \n",
      " 54  menuWebUrl             43 non-null     object \n",
      " 55  establishmentTypes     416 non-null    object \n",
      " 56  ownersTopReasons       0 non-null      float64\n",
      " 57  localLangCode          6758 non-null   object \n",
      " 58  guideFeaturedInCopy    77 non-null     object \n",
      " 59  rentalDescriptions     1339 non-null   object \n",
      " 60  photos                 1339 non-null   object \n",
      " 61  bedroomInfo            1339 non-null   object \n",
      " 62  bathroomInfo           1339 non-null   object \n",
      " 63  bathCount              1339 non-null   float64\n",
      " 64  baseDailyRate          1268 non-null   object \n",
      "dtypes: float64(8), int64(2), object(55)\n",
      "memory usage: 17.8+ MB\n"
     ]
    }
   ],
   "source": [
    "df.info()"
   ]
  },
  {
   "attachments": {},
   "cell_type": "markdown",
   "metadata": {},
   "source": [
    "## data cleaning"
   ]
  },
  {
   "cell_type": "code",
   "execution_count": 5,
   "metadata": {},
   "outputs": [],
   "source": [
    "# replacing ratings column missing values with 0 \n",
    "df['rating'].fillna(0, inplace=True)"
   ]
  },
  {
   "attachments": {},
   "cell_type": "markdown",
   "metadata": {},
   "source": [
    "## EDA and Data Munging"
   ]
  },
  {
   "cell_type": "code",
   "execution_count": 6,
   "metadata": {},
   "outputs": [
    {
     "data": {
      "image/png": "[encoded data removed]",
      "text/plain": [
       "<Figure size 1000x600 with 1 Axes>"
      ]
     },
     "metadata": {},
     "output_type": "display_data"
    }
   ],
   "source": [
    "import numpy as np\n",
    "import matplotlib.pyplot as plt\n",
    "\n",
    "# Group the ratings by category\n",
    "grouped_data = df.groupby('category')['rating'].value_counts().unstack()\n",
    "# Get unique categories and ratings\n",
    "categories = df['category'].unique()\n",
    "ratings = df['rating'].unique()\n",
    "# Reindex the grouped_data DataFrame\n",
    "grouped_data = grouped_data.reindex(columns=ratings)\n",
    "# Set the width of each bar\n",
    "bar_width = 0.15\n",
    "# Calculate the x position for each group of bars\n",
    "x = np.arange(len(ratings))\n",
    "# Create subplots\n",
    "fig, ax = plt.subplots(figsize=(10, 6))\n",
    "# Plot the bars for each category within each rating\n",
    "for i, category in enumerate(categories):\n",
    "    ax.bar(x + (i * bar_width), grouped_data.loc[category], width=bar_width, label=category)\n",
    "# Set the x-axis labels and ticks\n",
    "ax.set_xticks(x + ((len(categories) - 1) * bar_width) / 2)\n",
    "ax.set_xticklabels(ratings)\n",
    "ax.set_xlabel('Rating')\n",
    "ax.set_ylabel('Count')\n",
    "ax.set_title('Rating Distribution by Category')\n",
    "ax.legend(title='Category', loc='upper right')  # Set legend location to 'upper right'\n",
    "# Adjust the layout\n",
    "plt.tight_layout()\n",
    "# Show the plot\n",
    "plt.show()\n"
   ]
  },
  {
   "attachments": {},
   "cell_type": "markdown",
   "metadata": {},
   "source": [
    "* from the chart above it can be seen that `hotel` category had higher ratings with an average rate of `4.0` followed by `attraction` while restaurants had lowest ratings based on categories over `3.5` \n",
    "* Despite having good ratings the same too were rated poorly by customers hith `hotel` and `attraction` leading with rates of `1.5, 1.0` and `2.0` respectively. "
   ]
  },
  {
   "attachments": {},
   "cell_type": "markdown",
   "metadata": {},
   "source": []
  },
  {
   "cell_type": "code",
   "execution_count": null,
   "metadata": {},
   "outputs": [],
   "source": []
  },
  {
   "attachments": {},
   "cell_type": "markdown",
   "metadata": {},
   "source": [
    "## Modelling"
   ]
  },
  {
   "cell_type": "code",
   "execution_count": null,
   "metadata": {},
   "outputs": [],
   "source": []
  },
  {
   "cell_type": "code",
   "execution_count": null,
   "metadata": {},
   "outputs": [],
   "source": []
  },
  {
   "attachments": {},
   "cell_type": "markdown",
   "metadata": {},
   "source": [
    "## Model Evaluation"
   ]
  },
  {
   "cell_type": "code",
   "execution_count": null,
   "metadata": {},
   "outputs": [],
   "source": []
  },
  {
   "cell_type": "code",
   "execution_count": null,
   "metadata": {},
   "outputs": [],
   "source": []
  },
  {
   "attachments": {},
   "cell_type": "markdown",
   "metadata": {},
   "source": [
    "## Tuning"
   ]
  },
  {
   "cell_type": "code",
   "execution_count": null,
   "metadata": {},
   "outputs": [],
   "source": []
  },
  {
   "cell_type": "code",
   "execution_count": null,
   "metadata": {},
   "outputs": [],
   "source": []
  },
  {
   "attachments": {},
   "cell_type": "markdown",
   "metadata": {},
   "source": [
    "## Deployment"
   ]
  },
  {
   "cell_type": "code",
   "execution_count": null,
   "metadata": {},
   "outputs": [],
   "source": []
  },
  {
   "cell_type": "code",
   "execution_count": null,
   "metadata": {},
   "outputs": [],
   "source": []
  },
  {
   "attachments": {},
   "cell_type": "markdown",
   "metadata": {},
   "source": [
    "## Conclusion and Recommendations"
   ]
  },
  {
   "attachments": {},
   "cell_type": "markdown",
   "metadata": {},
   "source": []
  }
 ],
 "metadata": {
  "kernelspec": {
   "display_name": "learn-env",
   "language": "python",
   "name": "python3"
  },
  "language_info": {
   "codemirror_mode": {
    "name": "ipython",
    "version": 3
   },
   "file_extension": ".py",
   "mimetype": "text/x-python",
   "name": "python",
   "nbconvert_exporter": "python",
   "pygments_lexer": "ipython3",
   "version": "3.9.13"
  },
  "orig_nbformat": 4
 },
 "nbformat": 4,
 "nbformat_minor": 2
}
