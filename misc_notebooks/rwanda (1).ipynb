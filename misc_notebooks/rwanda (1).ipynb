{
 "cells": [
  {
   "attachments": {},
   "cell_type": "markdown",
   "metadata": {},
   "source": [
    "# Travel Destination Recommendation System Notebook"
   ]
  },
  {
   "attachments": {},
   "cell_type": "markdown",
   "metadata": {},
   "source": [
    "#### Authors\n",
    "* 1\n",
    "* 2 \n",
    "* 3\n",
    "* 4\n",
    "* 5\n",
    "* 6"
   ]
  },
  {
   "attachments": {},
   "cell_type": "markdown",
   "metadata": {},
   "source": [
    "\n",
    "## Problem Statement"
   ]
  },
  {
   "attachments": {},
   "cell_type": "markdown",
   "metadata": {},
   "source": [
    "The goal is to build a machine learning model that can predict hotel ratings based on customer reviews, budget, specific locations, and the type of residence. The dataset is scraped from TripAdvisor and it contains information about various hotels, including their ratings, reviews, amenities, pricing, geographical coordinates, and residence types (e.g., hotel, bed and breakfast, specialty lodging). By analyzing the text reviews along with these additional factors, the objective is to develop a model that can accurately predict the ratings of new, unseen hotels based on customer reviews, budget constraints, location preferences, and residence type."
   ]
  },
  {
   "attachments": {},
   "cell_type": "markdown",
   "metadata": {},
   "source": [
    "Approach:\n",
    "\n",
    "Data Preprocessing: Clean and preprocess the text reviews by removing stopwords, punctuation, and performing tokenization. Convert the text data into a numerical representation suitable for modeling. Handle missing values, if any, in the budget, location, and residence type columns.\n",
    "\n",
    "Feature Engineering: Extract additional features from the dataset, such as review sentiment scores, review length, and any other relevant information. Engineer new features related to budget, location, and residence type, such as price range categories, geographical distance from landmarks, and one-hot encoding of residence types.\n",
    "\n",
    "Model Selection: Experiment with different supervised learning models, such as linear regression, decision trees, random forests, or neural networks, to find the best model for predicting hotel ratings considering customer reviews, budget, location, and residence type. Evaluate the models using appropriate evaluation metrics like mean squared error (MSE) or mean absolute error (MAE).\n",
    "\n",
    "Model Training and Evaluation: Split the dataset into training and testing sets. Train the selected model on the training set and evaluate its performance on the testing set. Fine-tune the model parameters to improve its accuracy. Perform cross-validation to assess the model's generalization capabilities."
   ]
  },
  {
   "attachments": {},
   "cell_type": "markdown",
   "metadata": {},
   "source": []
  },
  {
   "cell_type": "code",
   "execution_count": null,
   "metadata": {},
   "outputs": [],
   "source": []
  },
  {
   "attachments": {},
   "cell_type": "markdown",
   "metadata": {},
   "source": [
    "## Objectives"
   ]
  },
  {
   "attachments": {},
   "cell_type": "markdown",
   "metadata": {},
   "source": []
  },
  {
   "cell_type": "code",
   "execution_count": null,
   "metadata": {},
   "outputs": [],
   "source": []
  },
  {
   "attachments": {},
   "cell_type": "markdown",
   "metadata": {},
   "source": [
    "## Data Understanding"
   ]
  },
  {
   "cell_type": "code",
   "execution_count": 1,
   "metadata": {},
   "outputs": [],
   "source": [
    "# Importing necessary libraries\n",
    "import pandas as pd\n",
    "import json\n",
    "import glob\n",
    "import folium"
   ]
  },
  {
   "cell_type": "code",
   "execution_count": 2,
   "metadata": {},
   "outputs": [],
   "source": [
    "#func to read json files\n",
    "def read_json_files(json_files):\n",
    "    dfs = []\n",
    "    for file in json_files:\n",
    "        with open(file) as f:\n",
    "            json_data = json.load(f)\n",
    "            df = pd.DataFrame(json_data)\n",
    "            dfs.append(df)\n",
    "\n",
    "    merged_df = pd.concat(dfs, ignore_index=True)\n",
    "    return merged_df\n"
   ]
  },
  {
   "cell_type": "code",
   "execution_count": 3,
   "metadata": {},
   "outputs": [],
   "source": [
    "json_files = ['../Data/botswana.json', '../Data/capeverde.json', '../Data/drc.json', '../Data/egypt.json', '../Data/ghana.json', '../Data/kenya.json',\n",
    "              '../Data/madagascar.json', '../Data/malawi.json', '../Data/morocco.json', '../Data/namibia.json', '../Data/nigeria.json', '../Data/rwanda.json',\n",
    "              '../Data/senegal.json', '../Data/seychelles.json', '../Data/south_africa.json', '../Data/tanzania.json', '../Data/uganda.json', '../Data/zambia.json']\n",
    "df = read_json_files(json_files)\n"
   ]
  },
  {
   "cell_type": "code",
   "execution_count": 4,
   "metadata": {},
   "outputs": [
    {
     "name": "stdout",
     "output_type": "stream",
     "text": [
      "<class 'pandas.core.frame.DataFrame'>\n",
      "RangeIndex: 33716 entries, 0 to 33715\n",
      "Data columns (total 65 columns):\n",
      " #   Column                 Non-Null Count  Dtype  \n",
      "---  ------                 --------------  -----  \n",
      " 0   id                     33716 non-null  object \n",
      " 1   type                   33716 non-null  object \n",
      " 2   category               33716 non-null  object \n",
      " 3   subcategories          32377 non-null  object \n",
      " 4   name                   33716 non-null  object \n",
      " 5   locationString         32377 non-null  object \n",
      " 6   description            19187 non-null  object \n",
      " 7   image                  27084 non-null  object \n",
      " 8   photoCount             33716 non-null  int64  \n",
      " 9   awards                 32377 non-null  object \n",
      " 10  rankingPosition        25113 non-null  float64\n",
      " 11  rating                 25250 non-null  float64\n",
      " 12  rawRanking             25113 non-null  float64\n",
      " 13  phone                  23419 non-null  object \n",
      " 14  address                32374 non-null  object \n",
      " 15  addressObj             32377 non-null  object \n",
      " 16  localName              32377 non-null  object \n",
      " 17  localAddress           4015 non-null   object \n",
      " 18  email                  19277 non-null  object \n",
      " 19  latitude               28426 non-null  float64\n",
      " 20  longitude              28426 non-null  float64\n",
      " 21  webUrl                 33716 non-null  object \n",
      " 22  website                20921 non-null  object \n",
      " 23  rankingString          25113 non-null  object \n",
      " 24  rankingDenominator     25113 non-null  object \n",
      " 25  neighborhoodLocations  32377 non-null  object \n",
      " 26  nearestMetroStations   32377 non-null  object \n",
      " 27  ancestorLocations      32377 non-null  object \n",
      " 28  ratingHistogram        32377 non-null  object \n",
      " 29  numberOfReviews        33716 non-null  int64  \n",
      " 30  reviewTags             32377 non-null  object \n",
      " 31  reviews                33716 non-null  object \n",
      " 32  booking                2736 non-null   object \n",
      " 33  offerGroup             2736 non-null   object \n",
      " 34  subtype                8784 non-null   object \n",
      " 35  hotelClass             23177 non-null  object \n",
      " 36  amenities              24516 non-null  object \n",
      " 37  numberOfRooms          16232 non-null  float64\n",
      " 38  priceLevel             13656 non-null  object \n",
      " 39  priceRange             13564 non-null  object \n",
      " 40  roomTips               23177 non-null  object \n",
      " 41  checkInDate            23177 non-null  object \n",
      " 42  checkOutDate           23177 non-null  object \n",
      " 43  offers                 23177 non-null  object \n",
      " 44  hotelClassAttribution  6883 non-null   object \n",
      " 45  localLangCode          6758 non-null   object \n",
      " 46  isClosed               416 non-null    object \n",
      " 47  isLongClosed           416 non-null    object \n",
      " 48  openNowText            184 non-null    object \n",
      " 49  cuisines               416 non-null    object \n",
      " 50  mealTypes              416 non-null    object \n",
      " 51  dishes                 416 non-null    object \n",
      " 52  features               416 non-null    object \n",
      " 53  dietaryRestrictions    416 non-null    object \n",
      " 54  hours                  184 non-null    object \n",
      " 55  menuWebUrl             43 non-null     object \n",
      " 56  establishmentTypes     416 non-null    object \n",
      " 57  ownersTopReasons       0 non-null      float64\n",
      " 58  guideFeaturedInCopy    77 non-null     object \n",
      " 59  rentalDescriptions     1339 non-null   object \n",
      " 60  photos                 1339 non-null   object \n",
      " 61  bedroomInfo            1339 non-null   object \n",
      " 62  bathroomInfo           1339 non-null   object \n",
      " 63  bathCount              1339 non-null   float64\n",
      " 64  baseDailyRate          1268 non-null   object \n",
      "dtypes: float64(8), int64(2), object(55)\n",
      "memory usage: 16.7+ MB\n"
     ]
    }
   ],
   "source": [
    "df.info()"
   ]
  },
  {
   "cell_type": "code",
   "execution_count": null,
   "metadata": {},
   "outputs": [],
   "source": []
  },
  {
   "attachments": {},
   "cell_type": "markdown",
   "metadata": {},
   "source": [
    "## EDA and Data Munging"
   ]
  },
  {
   "cell_type": "code",
   "execution_count": null,
   "metadata": {},
   "outputs": [],
   "source": []
  },
  {
   "cell_type": "code",
   "execution_count": null,
   "metadata": {},
   "outputs": [],
   "source": [
    "#plotting map"
   ]
  },
  {
   "attachments": {},
   "cell_type": "markdown",
   "metadata": {},
   "source": [
    "## Modelling"
   ]
  },
  {
   "cell_type": "code",
   "execution_count": null,
   "metadata": {},
   "outputs": [],
   "source": []
  },
  {
   "cell_type": "code",
   "execution_count": null,
   "metadata": {},
   "outputs": [],
   "source": []
  },
  {
   "attachments": {},
   "cell_type": "markdown",
   "metadata": {},
   "source": [
    "## Model Evaluation"
   ]
  },
  {
   "cell_type": "code",
   "execution_count": null,
   "metadata": {},
   "outputs": [],
   "source": []
  },
  {
   "cell_type": "code",
   "execution_count": null,
   "metadata": {},
   "outputs": [],
   "source": []
  },
  {
   "attachments": {},
   "cell_type": "markdown",
   "metadata": {},
   "source": [
    "## Tuning"
   ]
  },
  {
   "cell_type": "code",
   "execution_count": null,
   "metadata": {},
   "outputs": [],
   "source": []
  },
  {
   "cell_type": "code",
   "execution_count": null,
   "metadata": {},
   "outputs": [],
   "source": []
  },
  {
   "attachments": {},
   "cell_type": "markdown",
   "metadata": {},
   "source": [
    "## Deployment"
   ]
  },
  {
   "cell_type": "code",
   "execution_count": null,
   "metadata": {},
   "outputs": [],
   "source": []
  },
  {
   "cell_type": "code",
   "execution_count": null,
   "metadata": {},
   "outputs": [],
   "source": []
  },
  {
   "attachments": {},
   "cell_type": "markdown",
   "metadata": {},
   "source": [
    "## Conclusion and Recommendations"
   ]
  },
  {
   "attachments": {},
   "cell_type": "markdown",
   "metadata": {},
   "source": []
  }
 ],
 "metadata": {
  "kernelspec": {
   "display_name": "learn-env",
   "language": "python",
   "name": "python3"
  },
  "language_info": {
   "codemirror_mode": {
    "name": "ipython",
    "version": 3
   },
   "file_extension": ".py",
   "mimetype": "text/x-python",
   "name": "python",
   "nbconvert_exporter": "python",
   "pygments_lexer": "ipython3",
   "version": "3.8.5"
  },
  "orig_nbformat": 4
 },
 "nbformat": 4,
 "nbformat_minor": 2
}
